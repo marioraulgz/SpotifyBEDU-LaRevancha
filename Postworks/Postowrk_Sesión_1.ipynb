{
  "nbformat": 4,
  "nbformat_minor": 0,
  "metadata": {
    "colab": {
      "name": "EstimadosDeLocacionVariabilidad.ipynb",
      "provenance": []
    },
    "kernelspec": {
      "name": "python3",
      "display_name": "Python 3"
    },
    "language_info": {
      "name": "python"
    }
  },
  "cells": [
    {
      "cell_type": "markdown",
      "metadata": {
        "id": "bnYRZVJf69Ai"
      },
      "source": [
        "#Estimados de locación y variabilidad"
      ]
    },
    {
      "cell_type": "markdown",
      "metadata": {
        "id": "cR7qnZjXioNI"
      },
      "source": [
        "# Obtencion de datos por medio de la API de spotify"
      ]
    },
    {
      "cell_type": "code",
      "metadata": {
        "id": "488v7ubH5gHJ"
      },
      "source": [
        "#Utilizando la data de spotipy\n",
        "!pip install spotipy"
      ],
      "execution_count": null,
      "outputs": []
    },
    {
      "cell_type": "code",
      "metadata": {
        "id": "4da4Tim779mz"
      },
      "source": [
        "import spotipy\n",
        "from spotipy.oauth2 import SpotifyClientCredentials #Accesar a la data de spotify"
      ],
      "execution_count": null,
      "outputs": []
    },
    {
      "cell_type": "code",
      "metadata": {
        "id": "M7i6WTpz8JKk"
      },
      "source": [
        "client_id= \"72654f91e8424dc8b4924dc4cdf3674a\"\n",
        "client_secret= \"968caf037e674bb0a89533fde2831f25\"\n",
        "\n",
        "client_credentials_manager = SpotifyClientCredentials(client_id=client_id, client_secret=client_secret)\n",
        "\n",
        "sp = spotipy.Spotify(client_credentials_manager=client_credentials_manager) #API de spotify"
      ],
      "execution_count": null,
      "outputs": []
    },
    {
      "cell_type": "markdown",
      "metadata": {
        "id": "DtNXMXVpjExk"
      },
      "source": [
        "Ejemplo de obtención de datos, en esta ocasión ya tenemos el dataframe"
      ]
    },
    {
      "cell_type": "code",
      "metadata": {
        "id": "Tkota4VgjC4s",
        "colab": {
          "base_uri": "https://localhost:8080/"
        },
        "outputId": "0fdd3a07-b56c-4fcf-ae74-3ae32e152c43"
      },
      "source": [
        "name = \"Parcels\" #Artista\n",
        "\n",
        "result = sp.search(name) #Busqueda\n",
        "\n",
        "result['tracks']['items'][0]['artists']"
      ],
      "execution_count": null,
      "outputs": [
        {
          "output_type": "execute_result",
          "data": {
            "text/plain": [
              "[{'external_urls': {'spotify': 'https://open.spotify.com/artist/3oKRxpszQKUjjaHz388fVA'},\n",
              "  'href': 'https://api.spotify.com/v1/artists/3oKRxpszQKUjjaHz388fVA',\n",
              "  'id': '3oKRxpszQKUjjaHz388fVA',\n",
              "  'name': 'Parcels',\n",
              "  'type': 'artist',\n",
              "  'uri': 'spotify:artist:3oKRxpszQKUjjaHz388fVA'}]"
            ]
          },
          "metadata": {
            "tags": []
          },
          "execution_count": 5
        }
      ]
    },
    {
      "cell_type": "markdown",
      "metadata": {
        "id": "2_kvtxXCjOh0"
      },
      "source": [
        "#Importando las librerias necesarias"
      ]
    },
    {
      "cell_type": "code",
      "metadata": {
        "id": "dF0supLOjTmr"
      },
      "source": [
        "import pandas as pd\n",
        "from scipy import stats"
      ],
      "execution_count": null,
      "outputs": []
    },
    {
      "cell_type": "code",
      "metadata": {
        "id": "0lA3oZp_jdGc"
      },
      "source": [
        "df = pd.read_csv('data_delimited.csv',index_col=0)"
      ],
      "execution_count": null,
      "outputs": []
    },
    {
      "cell_type": "code",
      "metadata": {
        "colab": {
          "base_uri": "https://localhost:8080/",
          "height": 317
        },
        "id": "C6OU2jE9j0mL",
        "outputId": "d517a126-8347-4dbb-c57a-ccad476a3edd"
      },
      "source": [
        "df.head()"
      ],
      "execution_count": null,
      "outputs": [
        {
          "output_type": "execute_result",
          "data": {
            "text/html": [
              "<div>\n",
              "<style scoped>\n",
              "    .dataframe tbody tr th:only-of-type {\n",
              "        vertical-align: middle;\n",
              "    }\n",
              "\n",
              "    .dataframe tbody tr th {\n",
              "        vertical-align: top;\n",
              "    }\n",
              "\n",
              "    .dataframe thead th {\n",
              "        text-align: right;\n",
              "    }\n",
              "</style>\n",
              "<table border=\"1\" class=\"dataframe\">\n",
              "  <thead>\n",
              "    <tr style=\"text-align: right;\">\n",
              "      <th></th>\n",
              "      <th>added_at</th>\n",
              "      <th>is_local</th>\n",
              "      <th>added_by.type</th>\n",
              "      <th>track.album.album_type</th>\n",
              "      <th>track.album.id</th>\n",
              "      <th>track.album.name</th>\n",
              "      <th>track.album.release_date</th>\n",
              "      <th>track.album.release_date_precision</th>\n",
              "      <th>track.album.total_tracks</th>\n",
              "      <th>track.album.type</th>\n",
              "      <th>track.disc_number</th>\n",
              "      <th>track.duration_ms</th>\n",
              "      <th>track.episode</th>\n",
              "      <th>track.explicit</th>\n",
              "      <th>track.external_ids.isrc</th>\n",
              "      <th>track.is_local</th>\n",
              "      <th>track.name</th>\n",
              "      <th>track.popularity</th>\n",
              "      <th>track.track</th>\n",
              "      <th>track.track_number</th>\n",
              "      <th>track.type</th>\n",
              "      <th>danceability</th>\n",
              "      <th>energy</th>\n",
              "      <th>key</th>\n",
              "      <th>loudness</th>\n",
              "      <th>mode</th>\n",
              "      <th>speechiness</th>\n",
              "      <th>acousticness</th>\n",
              "      <th>instrumentalness</th>\n",
              "      <th>liveness</th>\n",
              "      <th>valence</th>\n",
              "      <th>tempo</th>\n",
              "      <th>id</th>\n",
              "      <th>time_signature</th>\n",
              "    </tr>\n",
              "  </thead>\n",
              "  <tbody>\n",
              "    <tr>\n",
              "      <th>0</th>\n",
              "      <td>2020-12-01T05:02:00Z</td>\n",
              "      <td>False</td>\n",
              "      <td>user</td>\n",
              "      <td>album</td>\n",
              "      <td>4yP0hdKOZPNshxUOjY0cZj</td>\n",
              "      <td>After Hours</td>\n",
              "      <td>2020-03-20</td>\n",
              "      <td>day</td>\n",
              "      <td>14</td>\n",
              "      <td>album</td>\n",
              "      <td>1</td>\n",
              "      <td>200040</td>\n",
              "      <td>False</td>\n",
              "      <td>False</td>\n",
              "      <td>USUG11904206</td>\n",
              "      <td>False</td>\n",
              "      <td>Blinding Lights</td>\n",
              "      <td>96</td>\n",
              "      <td>True</td>\n",
              "      <td>9</td>\n",
              "      <td>track</td>\n",
              "      <td>0.514</td>\n",
              "      <td>0.730</td>\n",
              "      <td>1</td>\n",
              "      <td>-5.934</td>\n",
              "      <td>1</td>\n",
              "      <td>0.0598</td>\n",
              "      <td>0.00146</td>\n",
              "      <td>0.000095</td>\n",
              "      <td>0.0897</td>\n",
              "      <td>0.334</td>\n",
              "      <td>171.005</td>\n",
              "      <td>0VjIjW4GlUZAMYd2vXMi3b</td>\n",
              "      <td>4</td>\n",
              "    </tr>\n",
              "    <tr>\n",
              "      <th>1</th>\n",
              "      <td>2020-12-01T05:02:00Z</td>\n",
              "      <td>False</td>\n",
              "      <td>user</td>\n",
              "      <td>single</td>\n",
              "      <td>31IDBea3eEs57a0joX6TjN</td>\n",
              "      <td>Dance Monkey</td>\n",
              "      <td>2019-05-10</td>\n",
              "      <td>day</td>\n",
              "      <td>1</td>\n",
              "      <td>album</td>\n",
              "      <td>1</td>\n",
              "      <td>209754</td>\n",
              "      <td>False</td>\n",
              "      <td>False</td>\n",
              "      <td>QZES71982312</td>\n",
              "      <td>False</td>\n",
              "      <td>Dance Monkey</td>\n",
              "      <td>68</td>\n",
              "      <td>True</td>\n",
              "      <td>1</td>\n",
              "      <td>track</td>\n",
              "      <td>0.825</td>\n",
              "      <td>0.593</td>\n",
              "      <td>6</td>\n",
              "      <td>-6.401</td>\n",
              "      <td>0</td>\n",
              "      <td>0.0988</td>\n",
              "      <td>0.68800</td>\n",
              "      <td>0.000161</td>\n",
              "      <td>0.1700</td>\n",
              "      <td>0.540</td>\n",
              "      <td>98.078</td>\n",
              "      <td>1rgnBhdG2JDFTbYkYRZAku</td>\n",
              "      <td>4</td>\n",
              "    </tr>\n",
              "    <tr>\n",
              "      <th>2</th>\n",
              "      <td>2020-12-01T05:02:00Z</td>\n",
              "      <td>False</td>\n",
              "      <td>user</td>\n",
              "      <td>album</td>\n",
              "      <td>52u4anZbHd6UInnmHRFzba</td>\n",
              "      <td>Please Excuse Me For Being Antisocial</td>\n",
              "      <td>2019-12-06</td>\n",
              "      <td>day</td>\n",
              "      <td>16</td>\n",
              "      <td>album</td>\n",
              "      <td>1</td>\n",
              "      <td>196652</td>\n",
              "      <td>False</td>\n",
              "      <td>True</td>\n",
              "      <td>USAT21906978</td>\n",
              "      <td>False</td>\n",
              "      <td>The Box</td>\n",
              "      <td>87</td>\n",
              "      <td>True</td>\n",
              "      <td>2</td>\n",
              "      <td>track</td>\n",
              "      <td>0.896</td>\n",
              "      <td>0.586</td>\n",
              "      <td>10</td>\n",
              "      <td>-6.687</td>\n",
              "      <td>0</td>\n",
              "      <td>0.0559</td>\n",
              "      <td>0.10400</td>\n",
              "      <td>0.000000</td>\n",
              "      <td>0.7900</td>\n",
              "      <td>0.642</td>\n",
              "      <td>116.971</td>\n",
              "      <td>0nbXyq5TXYPCO7pr3N8S4I</td>\n",
              "      <td>4</td>\n",
              "    </tr>\n",
              "    <tr>\n",
              "      <th>3</th>\n",
              "      <td>2020-12-01T05:02:00Z</td>\n",
              "      <td>False</td>\n",
              "      <td>user</td>\n",
              "      <td>single</td>\n",
              "      <td>6XcYTEonLIpg9NpAbJnqrC</td>\n",
              "      <td>Roses (Imanbek Remix)</td>\n",
              "      <td>2019-09-13</td>\n",
              "      <td>day</td>\n",
              "      <td>1</td>\n",
              "      <td>album</td>\n",
              "      <td>1</td>\n",
              "      <td>176218</td>\n",
              "      <td>False</td>\n",
              "      <td>True</td>\n",
              "      <td>RUB421901499</td>\n",
              "      <td>False</td>\n",
              "      <td>Roses - Imanbek Remix</td>\n",
              "      <td>66</td>\n",
              "      <td>True</td>\n",
              "      <td>1</td>\n",
              "      <td>track</td>\n",
              "      <td>0.785</td>\n",
              "      <td>0.721</td>\n",
              "      <td>8</td>\n",
              "      <td>-5.457</td>\n",
              "      <td>1</td>\n",
              "      <td>0.0506</td>\n",
              "      <td>0.01490</td>\n",
              "      <td>0.004320</td>\n",
              "      <td>0.2850</td>\n",
              "      <td>0.894</td>\n",
              "      <td>121.962</td>\n",
              "      <td>2Wo6QQD1KMDWeFkkjLqwx5</td>\n",
              "      <td>4</td>\n",
              "    </tr>\n",
              "    <tr>\n",
              "      <th>4</th>\n",
              "      <td>2020-12-01T05:02:00Z</td>\n",
              "      <td>False</td>\n",
              "      <td>user</td>\n",
              "      <td>album</td>\n",
              "      <td>7fJJK56U9fHixgO0HQkhtI</td>\n",
              "      <td>Future Nostalgia</td>\n",
              "      <td>2020-03-27</td>\n",
              "      <td>day</td>\n",
              "      <td>11</td>\n",
              "      <td>album</td>\n",
              "      <td>1</td>\n",
              "      <td>183290</td>\n",
              "      <td>False</td>\n",
              "      <td>False</td>\n",
              "      <td>GBAHT1901121</td>\n",
              "      <td>False</td>\n",
              "      <td>Don't Start Now</td>\n",
              "      <td>83</td>\n",
              "      <td>True</td>\n",
              "      <td>2</td>\n",
              "      <td>track</td>\n",
              "      <td>0.793</td>\n",
              "      <td>0.793</td>\n",
              "      <td>11</td>\n",
              "      <td>-4.521</td>\n",
              "      <td>0</td>\n",
              "      <td>0.0830</td>\n",
              "      <td>0.01230</td>\n",
              "      <td>0.000000</td>\n",
              "      <td>0.0951</td>\n",
              "      <td>0.679</td>\n",
              "      <td>123.950</td>\n",
              "      <td>3PfIrDoz19wz7qK7tYeu62</td>\n",
              "      <td>4</td>\n",
              "    </tr>\n",
              "  </tbody>\n",
              "</table>\n",
              "</div>"
            ],
            "text/plain": [
              "               added_at  is_local  ...                      id time_signature\n",
              "0  2020-12-01T05:02:00Z     False  ...  0VjIjW4GlUZAMYd2vXMi3b              4\n",
              "1  2020-12-01T05:02:00Z     False  ...  1rgnBhdG2JDFTbYkYRZAku              4\n",
              "2  2020-12-01T05:02:00Z     False  ...  0nbXyq5TXYPCO7pr3N8S4I              4\n",
              "3  2020-12-01T05:02:00Z     False  ...  2Wo6QQD1KMDWeFkkjLqwx5              4\n",
              "4  2020-12-01T05:02:00Z     False  ...  3PfIrDoz19wz7qK7tYeu62              4\n",
              "\n",
              "[5 rows x 34 columns]"
            ]
          },
          "metadata": {
            "tags": []
          },
          "execution_count": 8
        }
      ]
    },
    {
      "cell_type": "markdown",
      "metadata": {
        "id": "E44NJ5lI16AY"
      },
      "source": [
        "Retiramos los datos que no nos son de utilidad"
      ]
    },
    {
      "cell_type": "code",
      "metadata": {
        "id": "aVHsrzOHkmeJ"
      },
      "source": [
        "rdf = df[['track.album.name','track.album.release_date','track.duration_ms','track.explicit','track.name','track.popularity','danceability','energy','key','loudness','mode','speechiness','acousticness','instrumentalness','liveness','valence','tempo']]"
      ],
      "execution_count": null,
      "outputs": []
    },
    {
      "cell_type": "code",
      "metadata": {
        "id": "Qk3xP5yfnSs3",
        "colab": {
          "base_uri": "https://localhost:8080/",
          "height": 317
        },
        "outputId": "27dd87fa-e852-4225-a271-ffc4443eee6c"
      },
      "source": [
        "rdf.head()"
      ],
      "execution_count": null,
      "outputs": [
        {
          "output_type": "execute_result",
          "data": {
            "text/html": [
              "<div>\n",
              "<style scoped>\n",
              "    .dataframe tbody tr th:only-of-type {\n",
              "        vertical-align: middle;\n",
              "    }\n",
              "\n",
              "    .dataframe tbody tr th {\n",
              "        vertical-align: top;\n",
              "    }\n",
              "\n",
              "    .dataframe thead th {\n",
              "        text-align: right;\n",
              "    }\n",
              "</style>\n",
              "<table border=\"1\" class=\"dataframe\">\n",
              "  <thead>\n",
              "    <tr style=\"text-align: right;\">\n",
              "      <th></th>\n",
              "      <th>track.album.name</th>\n",
              "      <th>track.album.release_date</th>\n",
              "      <th>track.duration_ms</th>\n",
              "      <th>track.explicit</th>\n",
              "      <th>track.name</th>\n",
              "      <th>track.popularity</th>\n",
              "      <th>danceability</th>\n",
              "      <th>energy</th>\n",
              "      <th>key</th>\n",
              "      <th>loudness</th>\n",
              "      <th>mode</th>\n",
              "      <th>speechiness</th>\n",
              "      <th>acousticness</th>\n",
              "      <th>instrumentalness</th>\n",
              "      <th>liveness</th>\n",
              "      <th>valence</th>\n",
              "      <th>tempo</th>\n",
              "    </tr>\n",
              "  </thead>\n",
              "  <tbody>\n",
              "    <tr>\n",
              "      <th>0</th>\n",
              "      <td>After Hours</td>\n",
              "      <td>2020-03-20</td>\n",
              "      <td>200040</td>\n",
              "      <td>False</td>\n",
              "      <td>Blinding Lights</td>\n",
              "      <td>96</td>\n",
              "      <td>0.514</td>\n",
              "      <td>0.730</td>\n",
              "      <td>1</td>\n",
              "      <td>-5.934</td>\n",
              "      <td>1</td>\n",
              "      <td>0.0598</td>\n",
              "      <td>0.00146</td>\n",
              "      <td>0.000095</td>\n",
              "      <td>0.0897</td>\n",
              "      <td>0.334</td>\n",
              "      <td>171.005</td>\n",
              "    </tr>\n",
              "    <tr>\n",
              "      <th>1</th>\n",
              "      <td>Dance Monkey</td>\n",
              "      <td>2019-05-10</td>\n",
              "      <td>209754</td>\n",
              "      <td>False</td>\n",
              "      <td>Dance Monkey</td>\n",
              "      <td>68</td>\n",
              "      <td>0.825</td>\n",
              "      <td>0.593</td>\n",
              "      <td>6</td>\n",
              "      <td>-6.401</td>\n",
              "      <td>0</td>\n",
              "      <td>0.0988</td>\n",
              "      <td>0.68800</td>\n",
              "      <td>0.000161</td>\n",
              "      <td>0.1700</td>\n",
              "      <td>0.540</td>\n",
              "      <td>98.078</td>\n",
              "    </tr>\n",
              "    <tr>\n",
              "      <th>2</th>\n",
              "      <td>Please Excuse Me For Being Antisocial</td>\n",
              "      <td>2019-12-06</td>\n",
              "      <td>196652</td>\n",
              "      <td>True</td>\n",
              "      <td>The Box</td>\n",
              "      <td>87</td>\n",
              "      <td>0.896</td>\n",
              "      <td>0.586</td>\n",
              "      <td>10</td>\n",
              "      <td>-6.687</td>\n",
              "      <td>0</td>\n",
              "      <td>0.0559</td>\n",
              "      <td>0.10400</td>\n",
              "      <td>0.000000</td>\n",
              "      <td>0.7900</td>\n",
              "      <td>0.642</td>\n",
              "      <td>116.971</td>\n",
              "    </tr>\n",
              "    <tr>\n",
              "      <th>3</th>\n",
              "      <td>Roses (Imanbek Remix)</td>\n",
              "      <td>2019-09-13</td>\n",
              "      <td>176218</td>\n",
              "      <td>True</td>\n",
              "      <td>Roses - Imanbek Remix</td>\n",
              "      <td>66</td>\n",
              "      <td>0.785</td>\n",
              "      <td>0.721</td>\n",
              "      <td>8</td>\n",
              "      <td>-5.457</td>\n",
              "      <td>1</td>\n",
              "      <td>0.0506</td>\n",
              "      <td>0.01490</td>\n",
              "      <td>0.004320</td>\n",
              "      <td>0.2850</td>\n",
              "      <td>0.894</td>\n",
              "      <td>121.962</td>\n",
              "    </tr>\n",
              "    <tr>\n",
              "      <th>4</th>\n",
              "      <td>Future Nostalgia</td>\n",
              "      <td>2020-03-27</td>\n",
              "      <td>183290</td>\n",
              "      <td>False</td>\n",
              "      <td>Don't Start Now</td>\n",
              "      <td>83</td>\n",
              "      <td>0.793</td>\n",
              "      <td>0.793</td>\n",
              "      <td>11</td>\n",
              "      <td>-4.521</td>\n",
              "      <td>0</td>\n",
              "      <td>0.0830</td>\n",
              "      <td>0.01230</td>\n",
              "      <td>0.000000</td>\n",
              "      <td>0.0951</td>\n",
              "      <td>0.679</td>\n",
              "      <td>123.950</td>\n",
              "    </tr>\n",
              "  </tbody>\n",
              "</table>\n",
              "</div>"
            ],
            "text/plain": [
              "                        track.album.name  ...    tempo\n",
              "0                            After Hours  ...  171.005\n",
              "1                           Dance Monkey  ...   98.078\n",
              "2  Please Excuse Me For Being Antisocial  ...  116.971\n",
              "3                  Roses (Imanbek Remix)  ...  121.962\n",
              "4                       Future Nostalgia  ...  123.950\n",
              "\n",
              "[5 rows x 17 columns]"
            ]
          },
          "metadata": {
            "tags": []
          },
          "execution_count": 10
        }
      ]
    },
    {
      "cell_type": "markdown",
      "metadata": {
        "id": "q_LTmUMk2yJl"
      },
      "source": [
        "#Estimados de locación y variabilidad"
      ]
    },
    {
      "cell_type": "markdown",
      "metadata": {
        "id": "6ClKrWbn2n8F"
      },
      "source": [
        "##Obtenemos la media o promedio"
      ]
    },
    {
      "cell_type": "code",
      "metadata": {
        "colab": {
          "base_uri": "https://localhost:8080/"
        },
        "id": "F9AcdkFz2qi3",
        "outputId": "eccc545d-b295-439e-84ef-6b7a7ce2c9fb"
      },
      "source": [
        "print('Track duration ms mean =',rdf['track.duration_ms'].mean())\n",
        "print('Track popularity mean =',rdf['track.popularity'].mean())\n",
        "print('Danceability mean =',rdf['danceability'].mean())\n",
        "print('Energy mean =',rdf['energy'].mean())\n",
        "print('Key mean =',rdf['key'].mean())\n",
        "print('Loudness mean =',rdf['loudness'].mean())\n",
        "print('Speechiness mean =',rdf['speechiness'].mean())\n",
        "print('Acousticness mean =',rdf['acousticness'].mean())\n",
        "print('Instrumentalness mean =',rdf['instrumentalness'].mean())\n",
        "print('Liveness mean =',rdf['liveness'].mean())\n",
        "print('Valence mean =',rdf['valence'].mean())\n",
        "print('Tempo mean =',rdf['tempo'].mean())"
      ],
      "execution_count": null,
      "outputs": [
        {
          "output_type": "stream",
          "text": [
            "Track duration ms mean = 228355.85707317074\n",
            "Track popularity mean = 63.44243902439025\n",
            "Danceability mean = 0.6590995121951209\n",
            "Energy mean = 0.7064407317073166\n",
            "Key mean = 5.3\n",
            "Loudness mean = -5.555303902439029\n",
            "Speechiness mean = 0.09565385365853668\n",
            "Acousticness mean = 0.145586365707317\n",
            "Instrumentalness mean = 0.01043065191707317\n",
            "Liveness mean = 0.17361014634146368\n",
            "Valence mean = 0.5509523414634152\n",
            "Tempo mean = 119.41550975609778\n"
          ],
          "name": "stdout"
        }
      ]
    },
    {
      "cell_type": "markdown",
      "metadata": {
        "id": "vuNh1s-Z4aIS"
      },
      "source": [
        "##Mediana o valor típicio"
      ]
    },
    {
      "cell_type": "code",
      "metadata": {
        "colab": {
          "base_uri": "https://localhost:8080/"
        },
        "id": "Uicqu0Gg4gWG",
        "outputId": "df089bdb-8cfa-4f22-d729-e5cd9b3d2e7f"
      },
      "source": [
        "print('Track duration ms median =',rdf['track.duration_ms'].median())\n",
        "print('Track popularity median =',rdf['track.popularity'].median())\n",
        "print('Danceability median =',rdf['danceability'].median())\n",
        "print('Energy median =',rdf['energy'].median())\n",
        "print('Key median =',rdf['key'].median())\n",
        "print('Loudness median =',rdf['loudness'].median())\n",
        "print('Speechiness median =',rdf['speechiness'].median())\n",
        "print('Acousticness median =',rdf['acousticness'].median())\n",
        "print('Instrumentalness median =',rdf['instrumentalness'].median())\n",
        "print('Liveness median =',rdf['liveness'].median())\n",
        "print('Valence median =',rdf['valence'].median())\n",
        "print('Tempo median =',rdf['tempo'].median())"
      ],
      "execution_count": null,
      "outputs": [
        {
          "output_type": "stream",
          "text": [
            "Track duration ms median = 223346.0\n",
            "Track popularity median = 68.0\n",
            "Danceability median = 0.6715\n",
            "Energy median = 0.7240000000000001\n",
            "Key median = 5.0\n",
            "Loudness median = -5.335\n",
            "Speechiness median = 0.05675\n",
            "Acousticness median = 0.06615\n",
            "Instrumentalness median = 0.0\n",
            "Liveness median = 0.12\n",
            "Valence median = 0.5539999999999999\n",
            "Tempo median = 119.964\n"
          ],
          "name": "stdout"
        }
      ]
    },
    {
      "cell_type": "markdown",
      "metadata": {
        "id": "cJyVRCtG4_hX"
      },
      "source": [
        "Podemos observar que los valores con mayor diferencia se ecuentran en **speechiness** y **acousticness**"
      ]
    },
    {
      "cell_type": "markdown",
      "metadata": {
        "id": "a31iWmKjo-Jv"
      },
      "source": [
        "##Media truncada"
      ]
    },
    {
      "cell_type": "markdown",
      "metadata": {
        "id": "c0Ex2bLC5mZ1"
      },
      "source": [
        "Realizamos la media truncada con **scipy**"
      ]
    },
    {
      "cell_type": "code",
      "metadata": {
        "colab": {
          "base_uri": "https://localhost:8080/"
        },
        "id": "rpy7JkbL5pE-",
        "outputId": "d22ef3db-dad2-45f2-e5fd-9c2879ec5ab5"
      },
      "source": [
        "print('Track duration ms media truncada =',stats.trim_mean(rdf['track.duration_ms'], 0.1))\n",
        "print('Track popularity media truncada =',stats.trim_mean(rdf['track.popularity'], 0.1))\n",
        "print('Danceability media truncada =',stats.trim_mean(rdf['danceability'], 0.1))\n",
        "print('Energy media truncada =',stats.trim_mean(rdf['energy'], 0.1))\n",
        "print('Key media truncada =',stats.trim_mean(rdf['key'], 0.1))\n",
        "print('Loudness media truncada =',stats.trim_mean(rdf['loudness'], 0.1))\n",
        "print('Speechiness media truncada =',stats.trim_mean(rdf['speechiness'], 0.1))\n",
        "print('Acousticness media truncada =',stats.trim_mean(rdf['acousticness'], 0.1))\n",
        "print('Instrumentalness media truncada =',stats.trim_mean(rdf['instrumentalness'], 0.1))\n",
        "print('Liveness media truncada =',stats.trim_mean(rdf['liveness'], 0.1))\n",
        "print('Valence media truncada =',stats.trim_mean(rdf['valence'], 0.1))\n",
        "print('Tempo media truncada =',stats.trim_mean(rdf['tempo'], 0.1))"
      ],
      "execution_count": null,
      "outputs": [
        {
          "output_type": "stream",
          "text": [
            "Track duration ms media truncada = 225439.90914634147\n",
            "Track popularity media truncada = 66.83231707317073\n",
            "Danceability media truncada = 0.6650365853658535\n",
            "Energy media truncada = 0.7167981707317073\n",
            "Key media truncada = 5.264634146341463\n",
            "Loudness media truncada = -5.407348780487805\n",
            "Speechiness media truncada = 0.07646768292682926\n",
            "Acousticness media truncada = 0.10525896951219511\n",
            "Instrumentalness media truncada = 6.172343292682928e-05\n",
            "Liveness media truncada = 0.1517089024390244\n",
            "Valence media truncada = 0.5548804878048781\n",
            "Tempo media truncada = 117.57380487804876\n"
          ],
          "name": "stdout"
        }
      ]
    },
    {
      "cell_type": "markdown",
      "metadata": {
        "id": "KU8Hc3joVbmg"
      },
      "source": [
        "Si obtenemos el promedio, media y mediana podes hacer un análisis rápido.\n",
        "Si la diferencia entre la media truncada y la mediana es menor que la diferencia entre el promedio y la mediana esto puede ser un indicador de que tenemos valores atípicos en nuestro conjunto."
      ]
    },
    {
      "cell_type": "markdown",
      "metadata": {
        "id": "_Khl3M1TWrqw"
      },
      "source": [
        "##Desviación estandar"
      ]
    },
    {
      "cell_type": "code",
      "metadata": {
        "colab": {
          "base_uri": "https://localhost:8080/"
        },
        "id": "GJP_LGIxWocN",
        "outputId": "0609b3c9-3039-4865-aa00-8662794ee5c1"
      },
      "source": [
        "print('Track duration ms desviación estandar =',rdf['track.duration_ms'].std())\n",
        "print('Track popularity desviación estandar =',rdf['track.popularity'].std())\n",
        "print('Danceability desviación estandar =',rdf['danceability'].std())\n",
        "print('Energy desviación estandar =',rdf['energy'].std())\n",
        "print('Key desviación estandar =',rdf['key'].std())\n",
        "print('Loudness desviación estandar =',rdf['loudness'].std())\n",
        "print('Speechiness desviación estandar =',rdf['speechiness'].std())\n",
        "print('Acousticness desviación estandar =',rdf['acousticness'].std())\n",
        "print('Instrumentalness desviación estandar =',rdf['instrumentalness'].std())\n",
        "print('Liveness desviación estandar =',rdf['liveness'].std())\n",
        "print('Valence desviación estandar =',rdf['valence'].std())\n",
        "print('Tempo desviación estandar =',rdf['tempo'].std())"
      ],
      "execution_count": null,
      "outputs": [
        {
          "output_type": "stream",
          "text": [
            "Track duration ms desviación estandar = 39628.63424721108\n",
            "Track popularity desviación estandar = 19.030833523515057\n",
            "Danceability desviación estandar = 0.1388743699511804\n",
            "Energy desviación estandar = 0.15594877687790062\n",
            "Key desviación estandar = 3.570150367376834\n",
            "Loudness desviación estandar = 1.8937773648189544\n",
            "Speechiness desviación estandar = 0.08960701445647476\n",
            "Acousticness desviación estandar = 0.19012346496275045\n",
            "Instrumentalness desviación estandar = 0.07013366308453542\n",
            "Liveness desviación estandar = 0.13172700156911465\n",
            "Valence desviación estandar = 0.22369590330747036\n",
            "Tempo desviación estandar = 26.612913694814132\n"
          ],
          "name": "stdout"
        }
      ]
    },
    {
      "cell_type": "markdown",
      "metadata": {
        "id": "4bnI8_0TZIJA"
      },
      "source": [
        "Podemos observar que tenemos una desviación considerable en los datos de **tempo**"
      ]
    },
    {
      "cell_type": "markdown",
      "metadata": {
        "id": "6bqlBnGnZZru"
      },
      "source": [
        "#Calculando rangos y percentiles"
      ]
    },
    {
      "cell_type": "markdown",
      "metadata": {
        "id": "0n05wPG8aH4j"
      },
      "source": [
        "La obtención del rango consiste en la diferencia entre el valor máximo del conjunto y el valor mínimo."
      ]
    },
    {
      "cell_type": "code",
      "metadata": {
        "colab": {
          "base_uri": "https://localhost:8080/"
        },
        "id": "XSozZPxLZl2p",
        "outputId": "663466be-dab2-4ba7-8a57-d6e5af5df2c3"
      },
      "source": [
        "print('Rango de Danceability =',rdf['danceability'].max() - rdf['danceability'].min())\n",
        "print('Rango de Energy =',rdf['energy'].max() - rdf['energy'].min())\n",
        "print('Rango de Key =',rdf['key'].max() - rdf['key'].min())\n",
        "print('Rango de Loudness =',rdf['loudness'].max() - rdf['loudness'].min())\n",
        "print('Rango de Speechiness =',rdf['speechiness'].max() - rdf['speechiness'].min())\n",
        "print('Rango de Acousticness =',rdf['acousticness'].max() - rdf['acousticness'].min())\n",
        "print('Rango de Instrumentalness =',rdf['instrumentalness'].max() - rdf['instrumentalness'].min())\n",
        "print('Rango de Liveness =',rdf['liveness'].max() - rdf['liveness'].min())\n",
        "print('Rango de Valence =',rdf['valence'].max() - rdf['valence'].min())\n",
        "print('Rango de Tempo =',rdf['tempo'].max() - rdf['tempo'].min())"
      ],
      "execution_count": null,
      "outputs": [
        {
          "output_type": "stream",
          "text": [
            "Rango de Danceability = 0.846\n",
            "Rango de Energy = 0.9425000000000001\n",
            "Rango de Key = 11\n",
            "Rango de Loudness = 13.968\n",
            "Rango de Speechiness = 0.5068\n",
            "Rango de Acousticness = 0.9779808\n",
            "Rango de Instrumentalness = 0.985\n",
            "Rango de Liveness = 0.822\n",
            "Rango de Valence = 0.9349\n",
            "Rango de Tempo = 150.832\n"
          ],
          "name": "stdout"
        }
      ]
    },
    {
      "cell_type": "markdown",
      "metadata": {
        "id": "efgB6lGWqBoQ"
      },
      "source": [
        "##Calculando percentiles"
      ]
    },
    {
      "cell_type": "markdown",
      "metadata": {
        "id": "J7c4CSFIq7Wz"
      },
      "source": [
        "Danceability"
      ]
    },
    {
      "cell_type": "code",
      "metadata": {
        "colab": {
          "base_uri": "https://localhost:8080/"
        },
        "id": "NAWQaHvcqFiI",
        "outputId": "d0e96ea3-5780-46ec-e6d2-bbfe3fb34ca5"
      },
      "source": [
        "print(f'Valor mínimo: {rdf[\"danceability\"].min()}')\n",
        "print(f'Percentil 10: {rdf[\"danceability\"].quantile(0.1)}')\n",
        "print(f'Percentil 25: {rdf[\"danceability\"].quantile(0.25)}')\n",
        "print(f'Percentil 50: {rdf[\"danceability\"].median()}')\n",
        "print(f'Percentil 75: {rdf[\"danceability\"].quantile(0.75)}')\n",
        "print(f'Percentil 90: {rdf[\"danceability\"].quantile(0.9)}')\n",
        "print(f'Valor máximo: {rdf[\"danceability\"].max()}')"
      ],
      "execution_count": null,
      "outputs": [
        {
          "output_type": "stream",
          "text": [
            "Valor mínimo: 0.129\n",
            "Percentil 10: 0.4658\n",
            "Percentil 25: 0.5770000000000001\n",
            "Percentil 50: 0.6715\n",
            "Percentil 75: 0.753\n",
            "Percentil 90: 0.8321000000000002\n",
            "Valor máximo: 0.975\n"
          ],
          "name": "stdout"
        }
      ]
    },
    {
      "cell_type": "markdown",
      "metadata": {
        "id": "REcyeA0drDZQ"
      },
      "source": [
        "Energy"
      ]
    },
    {
      "cell_type": "code",
      "metadata": {
        "colab": {
          "base_uri": "https://localhost:8080/"
        },
        "id": "uWJQe8X5rKWR",
        "outputId": "9735005b-5fd9-4277-cf49-dcab0838c0c4"
      },
      "source": [
        "print(f'Valor mínimo: {rdf[\"energy\"].min()}')\n",
        "print(f'Percentil 10: {rdf[\"energy\"].quantile(0.1)}')\n",
        "print(f'Percentil 25: {rdf[\"energy\"].quantile(0.25)}')\n",
        "print(f'Percentil 50: {rdf[\"energy\"].median()}')\n",
        "print(f'Percentil 75: {rdf[\"energy\"].quantile(0.75)}')\n",
        "print(f'Percentil 90: {rdf[\"energy\"].quantile(0.9)}')\n",
        "print(f'Valor máximo: {rdf[\"energy\"].max()}')"
      ],
      "execution_count": null,
      "outputs": [
        {
          "output_type": "stream",
          "text": [
            "Valor mínimo: 0.0565\n",
            "Percentil 10: 0.4899\n",
            "Percentil 25: 0.606\n",
            "Percentil 50: 0.7240000000000001\n",
            "Percentil 75: 0.82575\n",
            "Percentil 90: 0.894\n",
            "Valor máximo: 0.9990000000000001\n"
          ],
          "name": "stdout"
        }
      ]
    },
    {
      "cell_type": "markdown",
      "metadata": {
        "id": "rLpZqCN7rL9y"
      },
      "source": [
        "Key"
      ]
    },
    {
      "cell_type": "code",
      "metadata": {
        "colab": {
          "base_uri": "https://localhost:8080/"
        },
        "id": "Y5bSbVtHr0DJ",
        "outputId": "1a8f0c80-6708-4ac9-bc39-a7402923d95e"
      },
      "source": [
        "print(f'Valor mínimo: {rdf[\"key\"].min()}')\n",
        "print(f'Percentil 10: {rdf[\"key\"].quantile(0.1)}')\n",
        "print(f'Percentil 25: {rdf[\"key\"].quantile(0.25)}')\n",
        "print(f'Percentil 50: {rdf[\"key\"].median()}')\n",
        "print(f'Percentil 75: {rdf[\"key\"].quantile(0.75)}')\n",
        "print(f'Percentil 90: {rdf[\"key\"].quantile(0.9)}')\n",
        "print(f'Valor máximo: {rdf[\"key\"].max()}')"
      ],
      "execution_count": null,
      "outputs": [
        {
          "output_type": "stream",
          "text": [
            "Valor mínimo: 0\n",
            "Percentil 10: 0.0\n",
            "Percentil 25: 2.0\n",
            "Percentil 50: 5.0\n",
            "Percentil 75: 8.0\n",
            "Percentil 90: 10.0\n",
            "Valor máximo: 11\n"
          ],
          "name": "stdout"
        }
      ]
    },
    {
      "cell_type": "markdown",
      "metadata": {
        "id": "6ikmwelPrPLo"
      },
      "source": [
        "Loudness "
      ]
    },
    {
      "cell_type": "code",
      "metadata": {
        "colab": {
          "base_uri": "https://localhost:8080/"
        },
        "id": "Dsb1J3uqr1uT",
        "outputId": "b1a541ef-4312-48c0-a4a7-d146743adab3"
      },
      "source": [
        "print(f'Valor mínimo: {rdf[\"loudness\"].min()}')\n",
        "print(f'Percentil 10: {rdf[\"loudness\"].quantile(0.1)}')\n",
        "print(f'Percentil 25: {rdf[\"loudness\"].quantile(0.25)}')\n",
        "print(f'Percentil 50: {rdf[\"loudness\"].median()}')\n",
        "print(f'Percentil 75: {rdf[\"loudness\"].quantile(0.75)}')\n",
        "print(f'Percentil 90: {rdf[\"loudness\"].quantile(0.9)}')\n",
        "print(f'Valor máximo: {rdf[\"loudness\"].max()}')"
      ],
      "execution_count": null,
      "outputs": [
        {
          "output_type": "stream",
          "text": [
            "Valor mínimo: -15.099\n",
            "Percentil 10: -8.0206\n",
            "Percentil 25: -6.549499999999999\n",
            "Percentil 50: -5.335\n",
            "Percentil 75: -4.218999999999999\n",
            "Percentil 90: -3.3829\n",
            "Valor máximo: -1.131\n"
          ],
          "name": "stdout"
        }
      ]
    },
    {
      "cell_type": "markdown",
      "metadata": {
        "id": "U8K_WXRnrSHK"
      },
      "source": [
        "Speechiness "
      ]
    },
    {
      "cell_type": "code",
      "metadata": {
        "colab": {
          "base_uri": "https://localhost:8080/"
        },
        "id": "nEwQW5tUr5wZ",
        "outputId": "692907de-06e2-4fcc-9326-a37612607f57"
      },
      "source": [
        "print(f'Valor mínimo: {rdf[\"speechiness\"].min()}')\n",
        "print(f'Percentil 10: {rdf[\"speechiness\"].quantile(0.1)}')\n",
        "print(f'Percentil 25: {rdf[\"speechiness\"].quantile(0.25)}')\n",
        "print(f'Percentil 50: {rdf[\"speechiness\"].median()}')\n",
        "print(f'Percentil 75: {rdf[\"speechiness\"].quantile(0.75)}')\n",
        "print(f'Percentil 90: {rdf[\"speechiness\"].quantile(0.9)}')\n",
        "print(f'Valor máximo: {rdf[\"speechiness\"].max()}')"
      ],
      "execution_count": null,
      "outputs": [
        {
          "output_type": "stream",
          "text": [
            "Valor mínimo: 0.0232\n",
            "Percentil 10: 0.0305\n",
            "Percentil 25: 0.037925\n",
            "Percentil 50: 0.05675\n",
            "Percentil 75: 0.114\n",
            "Percentil 90: 0.22910000000000014\n",
            "Valor máximo: 0.53\n"
          ],
          "name": "stdout"
        }
      ]
    },
    {
      "cell_type": "markdown",
      "metadata": {
        "id": "tC5J6O18rSVw"
      },
      "source": [
        "Acousticness"
      ]
    },
    {
      "cell_type": "code",
      "metadata": {
        "colab": {
          "base_uri": "https://localhost:8080/"
        },
        "id": "m9CO2BBYsGOy",
        "outputId": "bf2535f7-aab4-4ece-a609-dbb72833251b"
      },
      "source": [
        "print(f'Valor mínimo: {rdf[\"acousticness\"].min()}')\n",
        "print(f'Percentil 10: {rdf[\"acousticness\"].quantile(0.1)}')\n",
        "print(f'Percentil 25: {rdf[\"acousticness\"].quantile(0.25)}')\n",
        "print(f'Percentil 50: {rdf[\"acousticness\"].median()}')\n",
        "print(f'Percentil 75: {rdf[\"acousticness\"].quantile(0.75)}')\n",
        "print(f'Percentil 90: {rdf[\"acousticness\"].quantile(0.9)}')\n",
        "print(f'Valor máximo: {rdf[\"acousticness\"].max()}')"
      ],
      "execution_count": null,
      "outputs": [
        {
          "output_type": "stream",
          "text": [
            "Valor mínimo: 1.92e-05\n",
            "Percentil 10: 0.003436\n",
            "Percentil 25: 0.018325\n",
            "Percentil 50: 0.06615\n",
            "Percentil 75: 0.2\n",
            "Percentil 90: 0.4033000000000004\n",
            "Valor máximo: 0.978\n"
          ],
          "name": "stdout"
        }
      ]
    },
    {
      "cell_type": "markdown",
      "metadata": {
        "id": "ngtc24c4rSqm"
      },
      "source": [
        "Instrumentalness"
      ]
    },
    {
      "cell_type": "code",
      "metadata": {
        "colab": {
          "base_uri": "https://localhost:8080/"
        },
        "id": "FFG4EifisNjf",
        "outputId": "5d2a669c-1b29-4ad2-ec32-94df849310fe"
      },
      "source": [
        "print(f'Valor mínimo: {rdf[\"instrumentalness\"].min()}')\n",
        "print(f'Percentil 10: {rdf[\"instrumentalness\"].quantile(0.1)}')\n",
        "print(f'Percentil 25: {rdf[\"instrumentalness\"].quantile(0.25)}')\n",
        "print(f'Percentil 50: {rdf[\"instrumentalness\"].median()}')\n",
        "print(f'Percentil 75: {rdf[\"instrumentalness\"].quantile(0.75)}')\n",
        "print(f'Percentil 90: {rdf[\"instrumentalness\"].quantile(0.9)}')\n",
        "print(f'Valor máximo: {rdf[\"instrumentalness\"].max()}')"
      ],
      "execution_count": null,
      "outputs": [
        {
          "output_type": "stream",
          "text": [
            "Valor mínimo: 0.0\n",
            "Percentil 10: 0.0\n",
            "Percentil 25: 0.0\n",
            "Percentil 50: 0.0\n",
            "Percentil 75: 2.365e-05\n",
            "Percentil 90: 0.0014460000000000083\n",
            "Valor máximo: 0.985\n"
          ],
          "name": "stdout"
        }
      ]
    },
    {
      "cell_type": "markdown",
      "metadata": {
        "id": "vLG0D66Ura5b"
      },
      "source": [
        "Liveness"
      ]
    },
    {
      "cell_type": "code",
      "metadata": {
        "colab": {
          "base_uri": "https://localhost:8080/"
        },
        "id": "CE5FsCS9sR49",
        "outputId": "fab0a78e-c613-49aa-a07d-439354aaed22"
      },
      "source": [
        "print(f'Valor mínimo: {rdf[\"liveness\"].min()}')\n",
        "print(f'Percentil 10: {rdf[\"liveness\"].quantile(0.1)}')\n",
        "print(f'Percentil 25: {rdf[\"liveness\"].quantile(0.25)}')\n",
        "print(f'Percentil 50: {rdf[\"liveness\"].median()}')\n",
        "print(f'Percentil 75: {rdf[\"liveness\"].quantile(0.75)}')\n",
        "print(f'Percentil 90: {rdf[\"liveness\"].quantile(0.9)}')\n",
        "print(f'Valor máximo: {rdf[\"liveness\"].max()}')"
      ],
      "execution_count": null,
      "outputs": [
        {
          "output_type": "stream",
          "text": [
            "Valor mínimo: 0.021\n",
            "Percentil 10: 0.0642\n",
            "Percentil 25: 0.0886\n",
            "Percentil 50: 0.12\n",
            "Percentil 75: 0.225\n",
            "Percentil 90: 0.348\n",
            "Valor máximo: 0.843\n"
          ],
          "name": "stdout"
        }
      ]
    },
    {
      "cell_type": "markdown",
      "metadata": {
        "id": "StcEMjojrbco"
      },
      "source": [
        "Valence"
      ]
    },
    {
      "cell_type": "code",
      "metadata": {
        "colab": {
          "base_uri": "https://localhost:8080/"
        },
        "id": "I9TbP-AvsVwy",
        "outputId": "55f203b3-3aed-48dd-a3c7-046f9d88d67d"
      },
      "source": [
        "print(f'Valor mínimo: {rdf[\"valence\"].min()}')\n",
        "print(f'Percentil 10: {rdf[\"valence\"].quantile(0.1)}')\n",
        "print(f'Percentil 25: {rdf[\"valence\"].quantile(0.25)}')\n",
        "print(f'Percentil 50: {rdf[\"valence\"].median()}')\n",
        "print(f'Percentil 75: {rdf[\"valence\"].quantile(0.75)}')\n",
        "print(f'Percentil 90: {rdf[\"valence\"].quantile(0.9)}')\n",
        "print(f'Valor máximo: {rdf[\"valence\"].max()}')"
      ],
      "execution_count": null,
      "outputs": [
        {
          "output_type": "stream",
          "text": [
            "Valor mínimo: 0.0381\n",
            "Percentil 10: 0.23600000000000002\n",
            "Percentil 25: 0.38225\n",
            "Percentil 50: 0.5539999999999999\n",
            "Percentil 75: 0.735\n",
            "Percentil 90: 0.851\n",
            "Valor máximo: 0.973\n"
          ],
          "name": "stdout"
        }
      ]
    },
    {
      "cell_type": "markdown",
      "metadata": {
        "id": "kUiMNKuUrsFm"
      },
      "source": [
        "Tempo"
      ]
    },
    {
      "cell_type": "code",
      "metadata": {
        "colab": {
          "base_uri": "https://localhost:8080/"
        },
        "id": "4JGLukG2sWiO",
        "outputId": "893c49d1-c7a8-4248-d190-28a8ba8be114"
      },
      "source": [
        "print(f'Valor mínimo: {rdf[\"tempo\"].min()}')\n",
        "print(f'Percentil 10: {rdf[\"tempo\"].quantile(0.1)}')\n",
        "print(f'Percentil 25: {rdf[\"tempo\"].quantile(0.25)}')\n",
        "print(f'Percentil 50: {rdf[\"tempo\"].median()}')\n",
        "print(f'Percentil 75: {rdf[\"tempo\"].quantile(0.75)}')\n",
        "print(f'Percentil 90: {rdf[\"tempo\"].quantile(0.9)}')\n",
        "print(f'Valor máximo: {rdf[\"tempo\"].max()}')"
      ],
      "execution_count": null,
      "outputs": [
        {
          "output_type": "stream",
          "text": [
            "Valor mínimo: 60.019\n",
            "Percentil 10: 87.016\n",
            "Percentil 25: 98.523\n",
            "Percentil 50: 119.964\n",
            "Percentil 75: 133.92700000000002\n",
            "Percentil 90: 157.9808\n",
            "Valor máximo: 210.851\n"
          ],
          "name": "stdout"
        }
      ]
    }
  ]
}
