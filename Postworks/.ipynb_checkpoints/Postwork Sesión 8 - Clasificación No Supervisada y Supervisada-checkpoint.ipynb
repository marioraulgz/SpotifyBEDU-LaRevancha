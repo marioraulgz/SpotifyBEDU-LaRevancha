{
 "cells": [
  {
   "cell_type": "markdown",
   "id": "1c68ab5e-7171-4fd2-8ae8-6d73502d8dc2",
   "metadata": {},
   "source": [
    "# Postwork Sesión 8 - Clasificación No Supervisada y Supervisada"
   ]
  },
  {
   "cell_type": "markdown",
   "id": "be010965-d5c9-4bfe-9439-b42a3b248b07",
   "metadata": {},
   "source": [
    "La parte favorita cuando se habla de ciencia de datos, aprendizaje de maquina. En este postwork usaremos clasificación supervisada para ver construir un modelo que dados algunos metadatos de la canción, nos diga si será o no popular. Usaremos regresión logística.  \n",
    "De Wikipedia\n",
    "> En estadística, la regresión logística es un tipo de análisis de regresión utilizado para predecir el resultado de una variable categórica en función de las variables independientes o predictoras. Es útil para modelar la probabilidad de un evento ocurriendo como función de otros factores. "
   ]
  },
  {
   "cell_type": "markdown",
   "id": "d1c53672-7f6a-4380-8d12-779feeba6628",
   "metadata": {},
   "source": [
    "\n"
   ]
  },
  {
   "cell_type": "markdown",
   "id": "0bd8b537-cf62-4f1c-9f21-7b4f434e0558",
   "metadata": {},
   "source": [
    "## 1. Si hay un problema de clasificación binaria en tu proyecto, ¡genial! Aplica lo aprendido en esta sesión y entrena un modelo de Regresión Logística con tu dataset."
   ]
  },
  {
   "cell_type": "markdown",
   "id": "403d642d-d0b3-4cd8-8552-11607658e4f2",
   "metadata": {},
   "source": [
    "Importemos las librerias necesarias para la limpieza y unas cuantas mas que nos podran ayudar a explorar la información."
   ]
  },
  {
   "cell_type": "code",
   "execution_count": 2,
   "id": "668bdd58-f22f-4ccc-91fc-9911ebd760f0",
   "metadata": {},
   "outputs": [],
   "source": [
    "import os\n",
    "import pandas as pd\n",
    "import numpy as np\n",
    "from matplotlib import pyplot as plt\n",
    "import seaborn as sns"
   ]
  },
  {
   "cell_type": "markdown",
   "id": "c0714b48-0971-4894-9865-01462d0540f7",
   "metadata": {},
   "source": [
    "Importemos el dataset"
   ]
  },
  {
   "cell_type": "code",
   "execution_count": 3,
   "id": "827eba5b-84a8-448f-8be1-a99764b63596",
   "metadata": {},
   "outputs": [
    {
     "data": {
      "text/plain": [
       "'Postworks/Datasets'"
      ]
     },
     "execution_count": 3,
     "metadata": {},
     "output_type": "execute_result"
    }
   ],
   "source": [
    "path_datasets = os.path.join(\"Postworks\", \"Datasets\")\n",
    "path_datasets"
   ]
  },
  {
   "cell_type": "code",
   "execution_count": 4,
   "id": "2bdb08df-40ec-4eda-8388-2dcc92dd8cac",
   "metadata": {},
   "outputs": [
    {
     "data": {
      "text/plain": [
       "['data_delimited.csv', 'dict_spotify_raw.json']"
      ]
     },
     "execution_count": 4,
     "metadata": {},
     "output_type": "execute_result"
    }
   ],
   "source": [
    "os.listdir(path_datasets)"
   ]
  },
  {
   "cell_type": "code",
   "execution_count": 5,
   "id": "a59c24b9-1d03-48d2-aa6d-a1011ad67885",
   "metadata": {},
   "outputs": [],
   "source": [
    "df_filename = os.listdir(path_datasets)[0]"
   ]
  },
  {
   "cell_type": "code",
   "execution_count": 6,
   "id": "a6735180-2e6b-4d11-8ddc-a4d6ed3fc484",
   "metadata": {},
   "outputs": [
    {
     "data": {
      "text/plain": [
       "'Postworks/Datasets/data_delimited.csv'"
      ]
     },
     "execution_count": 6,
     "metadata": {},
     "output_type": "execute_result"
    }
   ],
   "source": [
    "path_df = os.path.join(path_datasets, df_filename)\n",
    "path_df"
   ]
  },
  {
   "cell_type": "code",
   "execution_count": 7,
   "id": "4a645a5a-9203-48ef-a609-3fed77373804",
   "metadata": {},
   "outputs": [],
   "source": [
    "df = pd.read_csv(path_df)"
   ]
  },
  {
   "cell_type": "code",
   "execution_count": 8,
   "id": "1a699750-1d1f-4d88-a3a4-da4fd798e75f",
   "metadata": {},
   "outputs": [
    {
     "data": {
      "text/html": [
       "<div>\n",
       "<style scoped>\n",
       "    .dataframe tbody tr th:only-of-type {\n",
       "        vertical-align: middle;\n",
       "    }\n",
       "\n",
       "    .dataframe tbody tr th {\n",
       "        vertical-align: top;\n",
       "    }\n",
       "\n",
       "    .dataframe thead th {\n",
       "        text-align: right;\n",
       "    }\n",
       "</style>\n",
       "<table border=\"1\" class=\"dataframe\">\n",
       "  <thead>\n",
       "    <tr style=\"text-align: right;\">\n",
       "      <th></th>\n",
       "      <th>Unnamed: 0</th>\n",
       "      <th>added_at</th>\n",
       "      <th>is_local</th>\n",
       "      <th>added_by.type</th>\n",
       "      <th>track.album.album_type</th>\n",
       "      <th>track.album.id</th>\n",
       "      <th>track.album.name</th>\n",
       "      <th>track.album.release_date</th>\n",
       "      <th>track.album.release_date_precision</th>\n",
       "      <th>track.album.total_tracks</th>\n",
       "      <th>...</th>\n",
       "      <th>loudness</th>\n",
       "      <th>mode</th>\n",
       "      <th>speechiness</th>\n",
       "      <th>acousticness</th>\n",
       "      <th>instrumentalness</th>\n",
       "      <th>liveness</th>\n",
       "      <th>valence</th>\n",
       "      <th>tempo</th>\n",
       "      <th>id</th>\n",
       "      <th>time_signature</th>\n",
       "    </tr>\n",
       "  </thead>\n",
       "  <tbody>\n",
       "    <tr>\n",
       "      <th>0</th>\n",
       "      <td>0</td>\n",
       "      <td>2020-12-01T05:02:00Z</td>\n",
       "      <td>False</td>\n",
       "      <td>user</td>\n",
       "      <td>album</td>\n",
       "      <td>4yP0hdKOZPNshxUOjY0cZj</td>\n",
       "      <td>After Hours</td>\n",
       "      <td>2020-03-20</td>\n",
       "      <td>day</td>\n",
       "      <td>14</td>\n",
       "      <td>...</td>\n",
       "      <td>-5.934</td>\n",
       "      <td>1</td>\n",
       "      <td>0.0598</td>\n",
       "      <td>0.00146</td>\n",
       "      <td>0.000095</td>\n",
       "      <td>0.0897</td>\n",
       "      <td>0.334</td>\n",
       "      <td>171.005</td>\n",
       "      <td>0VjIjW4GlUZAMYd2vXMi3b</td>\n",
       "      <td>4</td>\n",
       "    </tr>\n",
       "    <tr>\n",
       "      <th>1</th>\n",
       "      <td>1</td>\n",
       "      <td>2020-12-01T05:02:00Z</td>\n",
       "      <td>False</td>\n",
       "      <td>user</td>\n",
       "      <td>single</td>\n",
       "      <td>31IDBea3eEs57a0joX6TjN</td>\n",
       "      <td>Dance Monkey</td>\n",
       "      <td>2019-05-10</td>\n",
       "      <td>day</td>\n",
       "      <td>1</td>\n",
       "      <td>...</td>\n",
       "      <td>-6.401</td>\n",
       "      <td>0</td>\n",
       "      <td>0.0988</td>\n",
       "      <td>0.68800</td>\n",
       "      <td>0.000161</td>\n",
       "      <td>0.1700</td>\n",
       "      <td>0.540</td>\n",
       "      <td>98.078</td>\n",
       "      <td>1rgnBhdG2JDFTbYkYRZAku</td>\n",
       "      <td>4</td>\n",
       "    </tr>\n",
       "    <tr>\n",
       "      <th>2</th>\n",
       "      <td>2</td>\n",
       "      <td>2020-12-01T05:02:00Z</td>\n",
       "      <td>False</td>\n",
       "      <td>user</td>\n",
       "      <td>album</td>\n",
       "      <td>52u4anZbHd6UInnmHRFzba</td>\n",
       "      <td>Please Excuse Me For Being Antisocial</td>\n",
       "      <td>2019-12-06</td>\n",
       "      <td>day</td>\n",
       "      <td>16</td>\n",
       "      <td>...</td>\n",
       "      <td>-6.687</td>\n",
       "      <td>0</td>\n",
       "      <td>0.0559</td>\n",
       "      <td>0.10400</td>\n",
       "      <td>0.000000</td>\n",
       "      <td>0.7900</td>\n",
       "      <td>0.642</td>\n",
       "      <td>116.971</td>\n",
       "      <td>0nbXyq5TXYPCO7pr3N8S4I</td>\n",
       "      <td>4</td>\n",
       "    </tr>\n",
       "    <tr>\n",
       "      <th>3</th>\n",
       "      <td>3</td>\n",
       "      <td>2020-12-01T05:02:00Z</td>\n",
       "      <td>False</td>\n",
       "      <td>user</td>\n",
       "      <td>single</td>\n",
       "      <td>6XcYTEonLIpg9NpAbJnqrC</td>\n",
       "      <td>Roses (Imanbek Remix)</td>\n",
       "      <td>2019-09-13</td>\n",
       "      <td>day</td>\n",
       "      <td>1</td>\n",
       "      <td>...</td>\n",
       "      <td>-5.457</td>\n",
       "      <td>1</td>\n",
       "      <td>0.0506</td>\n",
       "      <td>0.01490</td>\n",
       "      <td>0.004320</td>\n",
       "      <td>0.2850</td>\n",
       "      <td>0.894</td>\n",
       "      <td>121.962</td>\n",
       "      <td>2Wo6QQD1KMDWeFkkjLqwx5</td>\n",
       "      <td>4</td>\n",
       "    </tr>\n",
       "    <tr>\n",
       "      <th>4</th>\n",
       "      <td>4</td>\n",
       "      <td>2020-12-01T05:02:00Z</td>\n",
       "      <td>False</td>\n",
       "      <td>user</td>\n",
       "      <td>album</td>\n",
       "      <td>7fJJK56U9fHixgO0HQkhtI</td>\n",
       "      <td>Future Nostalgia</td>\n",
       "      <td>2020-03-27</td>\n",
       "      <td>day</td>\n",
       "      <td>11</td>\n",
       "      <td>...</td>\n",
       "      <td>-4.521</td>\n",
       "      <td>0</td>\n",
       "      <td>0.0830</td>\n",
       "      <td>0.01230</td>\n",
       "      <td>0.000000</td>\n",
       "      <td>0.0951</td>\n",
       "      <td>0.679</td>\n",
       "      <td>123.950</td>\n",
       "      <td>3PfIrDoz19wz7qK7tYeu62</td>\n",
       "      <td>4</td>\n",
       "    </tr>\n",
       "  </tbody>\n",
       "</table>\n",
       "<p>5 rows × 35 columns</p>\n",
       "</div>"
      ],
      "text/plain": [
       "   Unnamed: 0              added_at  is_local added_by.type  \\\n",
       "0           0  2020-12-01T05:02:00Z     False          user   \n",
       "1           1  2020-12-01T05:02:00Z     False          user   \n",
       "2           2  2020-12-01T05:02:00Z     False          user   \n",
       "3           3  2020-12-01T05:02:00Z     False          user   \n",
       "4           4  2020-12-01T05:02:00Z     False          user   \n",
       "\n",
       "  track.album.album_type          track.album.id  \\\n",
       "0                  album  4yP0hdKOZPNshxUOjY0cZj   \n",
       "1                 single  31IDBea3eEs57a0joX6TjN   \n",
       "2                  album  52u4anZbHd6UInnmHRFzba   \n",
       "3                 single  6XcYTEonLIpg9NpAbJnqrC   \n",
       "4                  album  7fJJK56U9fHixgO0HQkhtI   \n",
       "\n",
       "                        track.album.name track.album.release_date  \\\n",
       "0                            After Hours               2020-03-20   \n",
       "1                           Dance Monkey               2019-05-10   \n",
       "2  Please Excuse Me For Being Antisocial               2019-12-06   \n",
       "3                  Roses (Imanbek Remix)               2019-09-13   \n",
       "4                       Future Nostalgia               2020-03-27   \n",
       "\n",
       "  track.album.release_date_precision  track.album.total_tracks  ... loudness  \\\n",
       "0                                day                        14  ...   -5.934   \n",
       "1                                day                         1  ...   -6.401   \n",
       "2                                day                        16  ...   -6.687   \n",
       "3                                day                         1  ...   -5.457   \n",
       "4                                day                        11  ...   -4.521   \n",
       "\n",
       "   mode  speechiness  acousticness  instrumentalness liveness  valence  \\\n",
       "0     1       0.0598       0.00146          0.000095   0.0897    0.334   \n",
       "1     0       0.0988       0.68800          0.000161   0.1700    0.540   \n",
       "2     0       0.0559       0.10400          0.000000   0.7900    0.642   \n",
       "3     1       0.0506       0.01490          0.004320   0.2850    0.894   \n",
       "4     0       0.0830       0.01230          0.000000   0.0951    0.679   \n",
       "\n",
       "     tempo                      id  time_signature  \n",
       "0  171.005  0VjIjW4GlUZAMYd2vXMi3b               4  \n",
       "1   98.078  1rgnBhdG2JDFTbYkYRZAku               4  \n",
       "2  116.971  0nbXyq5TXYPCO7pr3N8S4I               4  \n",
       "3  121.962  2Wo6QQD1KMDWeFkkjLqwx5               4  \n",
       "4  123.950  3PfIrDoz19wz7qK7tYeu62               4  \n",
       "\n",
       "[5 rows x 35 columns]"
      ]
     },
     "execution_count": 8,
     "metadata": {},
     "output_type": "execute_result"
    }
   ],
   "source": [
    "df.head()"
   ]
  },
  {
   "cell_type": "markdown",
   "id": "30ff9973-62b1-4569-9a85-9fb18fd06757",
   "metadata": {},
   "source": [
    "Echemos un vistazo a las estadísticas de los valores numéricos para ver cuales nos podrían ayudar a construir el modelo."
   ]
  },
  {
   "cell_type": "code",
   "execution_count": 9,
   "id": "7cc8620f-58c5-4fed-a1f6-8555b0a780de",
   "metadata": {},
   "outputs": [
    {
     "data": {
      "text/plain": [
       "Index(['Unnamed: 0', 'added_at', 'is_local', 'added_by.type',\n",
       "       'track.album.album_type', 'track.album.id', 'track.album.name',\n",
       "       'track.album.release_date', 'track.album.release_date_precision',\n",
       "       'track.album.total_tracks', 'track.album.type', 'track.disc_number',\n",
       "       'track.duration_ms', 'track.episode', 'track.explicit',\n",
       "       'track.external_ids.isrc', 'track.is_local', 'track.name',\n",
       "       'track.popularity', 'track.track', 'track.track_number', 'track.type',\n",
       "       'danceability', 'energy', 'key', 'loudness', 'mode', 'speechiness',\n",
       "       'acousticness', 'instrumentalness', 'liveness', 'valence', 'tempo',\n",
       "       'id', 'time_signature'],\n",
       "      dtype='object')"
      ]
     },
     "execution_count": 9,
     "metadata": {},
     "output_type": "execute_result"
    }
   ],
   "source": [
    "df.columns"
   ]
  },
  {
   "cell_type": "code",
   "execution_count": 10,
   "id": "010b27c1-e272-4435-8728-cb431903576e",
   "metadata": {},
   "outputs": [
    {
     "data": {
      "text/html": [
       "<div>\n",
       "<style scoped>\n",
       "    .dataframe tbody tr th:only-of-type {\n",
       "        vertical-align: middle;\n",
       "    }\n",
       "\n",
       "    .dataframe tbody tr th {\n",
       "        vertical-align: top;\n",
       "    }\n",
       "\n",
       "    .dataframe thead th {\n",
       "        text-align: right;\n",
       "    }\n",
       "</style>\n",
       "<table border=\"1\" class=\"dataframe\">\n",
       "  <thead>\n",
       "    <tr style=\"text-align: right;\">\n",
       "      <th></th>\n",
       "      <th>Unnamed: 0</th>\n",
       "      <th>track.album.total_tracks</th>\n",
       "      <th>track.disc_number</th>\n",
       "      <th>track.duration_ms</th>\n",
       "      <th>track.popularity</th>\n",
       "      <th>track.track_number</th>\n",
       "      <th>danceability</th>\n",
       "      <th>energy</th>\n",
       "      <th>key</th>\n",
       "      <th>loudness</th>\n",
       "      <th>mode</th>\n",
       "      <th>speechiness</th>\n",
       "      <th>acousticness</th>\n",
       "      <th>instrumentalness</th>\n",
       "      <th>liveness</th>\n",
       "      <th>valence</th>\n",
       "      <th>tempo</th>\n",
       "      <th>time_signature</th>\n",
       "    </tr>\n",
       "  </thead>\n",
       "  <tbody>\n",
       "    <tr>\n",
       "      <th>count</th>\n",
       "      <td>2050.000000</td>\n",
       "      <td>2050.000000</td>\n",
       "      <td>2050.000000</td>\n",
       "      <td>2050.000000</td>\n",
       "      <td>2050.000000</td>\n",
       "      <td>2050.000000</td>\n",
       "      <td>2050.000000</td>\n",
       "      <td>2050.000000</td>\n",
       "      <td>2050.00000</td>\n",
       "      <td>2050.000000</td>\n",
       "      <td>2050.000000</td>\n",
       "      <td>2050.000000</td>\n",
       "      <td>2050.000000</td>\n",
       "      <td>2050.000000</td>\n",
       "      <td>2050.000000</td>\n",
       "      <td>2050.000000</td>\n",
       "      <td>2050.000000</td>\n",
       "      <td>2050.000000</td>\n",
       "    </tr>\n",
       "    <tr>\n",
       "      <th>mean</th>\n",
       "      <td>1024.500000</td>\n",
       "      <td>13.319512</td>\n",
       "      <td>1.011220</td>\n",
       "      <td>228355.857073</td>\n",
       "      <td>63.442439</td>\n",
       "      <td>4.452683</td>\n",
       "      <td>0.659100</td>\n",
       "      <td>0.706441</td>\n",
       "      <td>5.30000</td>\n",
       "      <td>-5.555304</td>\n",
       "      <td>0.600488</td>\n",
       "      <td>0.095654</td>\n",
       "      <td>0.145586</td>\n",
       "      <td>0.010431</td>\n",
       "      <td>0.173610</td>\n",
       "      <td>0.550952</td>\n",
       "      <td>119.415510</td>\n",
       "      <td>3.985854</td>\n",
       "    </tr>\n",
       "    <tr>\n",
       "      <th>std</th>\n",
       "      <td>591.928346</td>\n",
       "      <td>7.686948</td>\n",
       "      <td>0.109887</td>\n",
       "      <td>39628.634247</td>\n",
       "      <td>19.030834</td>\n",
       "      <td>4.344707</td>\n",
       "      <td>0.138874</td>\n",
       "      <td>0.155949</td>\n",
       "      <td>3.57015</td>\n",
       "      <td>1.893777</td>\n",
       "      <td>0.489918</td>\n",
       "      <td>0.089607</td>\n",
       "      <td>0.190123</td>\n",
       "      <td>0.070134</td>\n",
       "      <td>0.131727</td>\n",
       "      <td>0.223696</td>\n",
       "      <td>26.612914</td>\n",
       "      <td>0.219354</td>\n",
       "    </tr>\n",
       "    <tr>\n",
       "      <th>min</th>\n",
       "      <td>0.000000</td>\n",
       "      <td>1.000000</td>\n",
       "      <td>1.000000</td>\n",
       "      <td>113000.000000</td>\n",
       "      <td>0.000000</td>\n",
       "      <td>1.000000</td>\n",
       "      <td>0.129000</td>\n",
       "      <td>0.056500</td>\n",
       "      <td>0.00000</td>\n",
       "      <td>-15.099000</td>\n",
       "      <td>0.000000</td>\n",
       "      <td>0.023200</td>\n",
       "      <td>0.000019</td>\n",
       "      <td>0.000000</td>\n",
       "      <td>0.021000</td>\n",
       "      <td>0.038100</td>\n",
       "      <td>60.019000</td>\n",
       "      <td>1.000000</td>\n",
       "    </tr>\n",
       "    <tr>\n",
       "      <th>25%</th>\n",
       "      <td>512.250000</td>\n",
       "      <td>11.000000</td>\n",
       "      <td>1.000000</td>\n",
       "      <td>203496.250000</td>\n",
       "      <td>58.000000</td>\n",
       "      <td>1.000000</td>\n",
       "      <td>0.577000</td>\n",
       "      <td>0.606000</td>\n",
       "      <td>2.00000</td>\n",
       "      <td>-6.549500</td>\n",
       "      <td>0.000000</td>\n",
       "      <td>0.037925</td>\n",
       "      <td>0.018325</td>\n",
       "      <td>0.000000</td>\n",
       "      <td>0.088600</td>\n",
       "      <td>0.382250</td>\n",
       "      <td>98.523000</td>\n",
       "      <td>4.000000</td>\n",
       "    </tr>\n",
       "    <tr>\n",
       "      <th>50%</th>\n",
       "      <td>1024.500000</td>\n",
       "      <td>14.000000</td>\n",
       "      <td>1.000000</td>\n",
       "      <td>223346.000000</td>\n",
       "      <td>68.000000</td>\n",
       "      <td>3.000000</td>\n",
       "      <td>0.671500</td>\n",
       "      <td>0.724000</td>\n",
       "      <td>5.00000</td>\n",
       "      <td>-5.335000</td>\n",
       "      <td>1.000000</td>\n",
       "      <td>0.056750</td>\n",
       "      <td>0.066150</td>\n",
       "      <td>0.000000</td>\n",
       "      <td>0.120000</td>\n",
       "      <td>0.554000</td>\n",
       "      <td>119.964000</td>\n",
       "      <td>4.000000</td>\n",
       "    </tr>\n",
       "    <tr>\n",
       "      <th>75%</th>\n",
       "      <td>1536.750000</td>\n",
       "      <td>17.000000</td>\n",
       "      <td>1.000000</td>\n",
       "      <td>246850.250000</td>\n",
       "      <td>75.000000</td>\n",
       "      <td>6.000000</td>\n",
       "      <td>0.753000</td>\n",
       "      <td>0.825750</td>\n",
       "      <td>8.00000</td>\n",
       "      <td>-4.219000</td>\n",
       "      <td>1.000000</td>\n",
       "      <td>0.114000</td>\n",
       "      <td>0.200000</td>\n",
       "      <td>0.000024</td>\n",
       "      <td>0.225000</td>\n",
       "      <td>0.735000</td>\n",
       "      <td>133.927000</td>\n",
       "      <td>4.000000</td>\n",
       "    </tr>\n",
       "    <tr>\n",
       "      <th>max</th>\n",
       "      <td>2049.000000</td>\n",
       "      <td>100.000000</td>\n",
       "      <td>3.000000</td>\n",
       "      <td>688453.000000</td>\n",
       "      <td>96.000000</td>\n",
       "      <td>54.000000</td>\n",
       "      <td>0.975000</td>\n",
       "      <td>0.999000</td>\n",
       "      <td>11.00000</td>\n",
       "      <td>-1.131000</td>\n",
       "      <td>1.000000</td>\n",
       "      <td>0.530000</td>\n",
       "      <td>0.978000</td>\n",
       "      <td>0.985000</td>\n",
       "      <td>0.843000</td>\n",
       "      <td>0.973000</td>\n",
       "      <td>210.851000</td>\n",
       "      <td>5.000000</td>\n",
       "    </tr>\n",
       "  </tbody>\n",
       "</table>\n",
       "</div>"
      ],
      "text/plain": [
       "        Unnamed: 0  track.album.total_tracks  track.disc_number  \\\n",
       "count  2050.000000               2050.000000        2050.000000   \n",
       "mean   1024.500000                 13.319512           1.011220   \n",
       "std     591.928346                  7.686948           0.109887   \n",
       "min       0.000000                  1.000000           1.000000   \n",
       "25%     512.250000                 11.000000           1.000000   \n",
       "50%    1024.500000                 14.000000           1.000000   \n",
       "75%    1536.750000                 17.000000           1.000000   \n",
       "max    2049.000000                100.000000           3.000000   \n",
       "\n",
       "       track.duration_ms  track.popularity  track.track_number  danceability  \\\n",
       "count        2050.000000       2050.000000         2050.000000   2050.000000   \n",
       "mean       228355.857073         63.442439            4.452683      0.659100   \n",
       "std         39628.634247         19.030834            4.344707      0.138874   \n",
       "min        113000.000000          0.000000            1.000000      0.129000   \n",
       "25%        203496.250000         58.000000            1.000000      0.577000   \n",
       "50%        223346.000000         68.000000            3.000000      0.671500   \n",
       "75%        246850.250000         75.000000            6.000000      0.753000   \n",
       "max        688453.000000         96.000000           54.000000      0.975000   \n",
       "\n",
       "            energy         key     loudness         mode  speechiness  \\\n",
       "count  2050.000000  2050.00000  2050.000000  2050.000000  2050.000000   \n",
       "mean      0.706441     5.30000    -5.555304     0.600488     0.095654   \n",
       "std       0.155949     3.57015     1.893777     0.489918     0.089607   \n",
       "min       0.056500     0.00000   -15.099000     0.000000     0.023200   \n",
       "25%       0.606000     2.00000    -6.549500     0.000000     0.037925   \n",
       "50%       0.724000     5.00000    -5.335000     1.000000     0.056750   \n",
       "75%       0.825750     8.00000    -4.219000     1.000000     0.114000   \n",
       "max       0.999000    11.00000    -1.131000     1.000000     0.530000   \n",
       "\n",
       "       acousticness  instrumentalness     liveness      valence        tempo  \\\n",
       "count   2050.000000       2050.000000  2050.000000  2050.000000  2050.000000   \n",
       "mean       0.145586          0.010431     0.173610     0.550952   119.415510   \n",
       "std        0.190123          0.070134     0.131727     0.223696    26.612914   \n",
       "min        0.000019          0.000000     0.021000     0.038100    60.019000   \n",
       "25%        0.018325          0.000000     0.088600     0.382250    98.523000   \n",
       "50%        0.066150          0.000000     0.120000     0.554000   119.964000   \n",
       "75%        0.200000          0.000024     0.225000     0.735000   133.927000   \n",
       "max        0.978000          0.985000     0.843000     0.973000   210.851000   \n",
       "\n",
       "       time_signature  \n",
       "count     2050.000000  \n",
       "mean         3.985854  \n",
       "std          0.219354  \n",
       "min          1.000000  \n",
       "25%          4.000000  \n",
       "50%          4.000000  \n",
       "75%          4.000000  \n",
       "max          5.000000  "
      ]
     },
     "execution_count": 10,
     "metadata": {},
     "output_type": "execute_result"
    }
   ],
   "source": [
    "df.describe()"
   ]
  },
  {
   "cell_type": "code",
   "execution_count": 11,
   "id": "4dcc56a1-2c96-4b53-ad66-c83131602a71",
   "metadata": {},
   "outputs": [
    {
     "data": {
      "text/plain": [
       "0       False\n",
       "1       False\n",
       "2        True\n",
       "3        True\n",
       "4       False\n",
       "        ...  \n",
       "2045    False\n",
       "2046    False\n",
       "2047    False\n",
       "2048    False\n",
       "2049    False\n",
       "Name: track.explicit, Length: 2050, dtype: bool"
      ]
     },
     "execution_count": 11,
     "metadata": {},
     "output_type": "execute_result"
    }
   ],
   "source": [
    "df['track.explicit']"
   ]
  },
  {
   "cell_type": "markdown",
   "id": "f076179b-8354-4ff9-881c-1ddca6f9d04e",
   "metadata": {},
   "source": [
    "Notamos dos cosas:\n",
    "1) `track.explicit` es del tipo booleano, y podría ser una buena *feature* para el modelo, por lo tanto debemos convertirla a algun valor numérico.\n",
    "2) Algunos datos, tales como `acousticness` son muy pequeños, al compararlos a otros tales como el `tempo`, esto podría jugar en nuestra contra, por lo tanto hay que normalizarlos."
   ]
  },
  {
   "cell_type": "code",
   "execution_count": 12,
   "id": "dc25f6a8-7c3b-4e63-be6a-69f2bc35a900",
   "metadata": {},
   "outputs": [],
   "source": [
    "df['track.explicit'] = df['track.explicit'].astype('int')"
   ]
  },
  {
   "cell_type": "markdown",
   "id": "b06bffb6-a654-4c24-8c46-4f5285aacdcf",
   "metadata": {},
   "source": [
    "Tomaremos el tercer cuartil para definir si una canción es popular o no dado su score de popularidad."
   ]
  },
  {
   "cell_type": "code",
   "execution_count": 16,
   "id": "745c45b1-64e2-4482-9a1d-dcb56962f76f",
   "metadata": {},
   "outputs": [],
   "source": [
    "df['is_popular']  = (df['track.popularity']>=df.describe()['track.popularity']['75%']).astype('int')"
   ]
  },
  {
   "cell_type": "code",
   "execution_count": 19,
   "id": "67fad437-b730-48b7-8d8d-14dbf846226d",
   "metadata": {},
   "outputs": [],
   "source": [
    "list_features_pred = ['track.duration_ms',  'track.explicit','is_popular','danceability', 'energy', 'key', 'loudness', 'mode', 'speechiness','acousticness', 'instrumentalness', 'liveness', 'valence', 'tempo']"
   ]
  },
  {
   "cell_type": "code",
   "execution_count": 20,
   "id": "46da8d39-6069-4578-b424-20e7040c0d24",
   "metadata": {},
   "outputs": [],
   "source": [
    "df_pred = df[list_features_pred]"
   ]
  },
  {
   "cell_type": "code",
   "execution_count": 21,
   "id": "f1e7f022-2475-4338-89ea-e2a11f36bd64",
   "metadata": {},
   "outputs": [
    {
     "data": {
      "text/html": [
       "<div>\n",
       "<style scoped>\n",
       "    .dataframe tbody tr th:only-of-type {\n",
       "        vertical-align: middle;\n",
       "    }\n",
       "\n",
       "    .dataframe tbody tr th {\n",
       "        vertical-align: top;\n",
       "    }\n",
       "\n",
       "    .dataframe thead th {\n",
       "        text-align: right;\n",
       "    }\n",
       "</style>\n",
       "<table border=\"1\" class=\"dataframe\">\n",
       "  <thead>\n",
       "    <tr style=\"text-align: right;\">\n",
       "      <th></th>\n",
       "      <th>track.duration_ms</th>\n",
       "      <th>track.explicit</th>\n",
       "      <th>is_popular</th>\n",
       "      <th>danceability</th>\n",
       "      <th>energy</th>\n",
       "      <th>key</th>\n",
       "      <th>loudness</th>\n",
       "      <th>mode</th>\n",
       "      <th>speechiness</th>\n",
       "      <th>acousticness</th>\n",
       "      <th>instrumentalness</th>\n",
       "      <th>liveness</th>\n",
       "      <th>valence</th>\n",
       "      <th>tempo</th>\n",
       "    </tr>\n",
       "  </thead>\n",
       "  <tbody>\n",
       "    <tr>\n",
       "      <th>0</th>\n",
       "      <td>200040</td>\n",
       "      <td>0</td>\n",
       "      <td>1</td>\n",
       "      <td>0.514</td>\n",
       "      <td>0.730</td>\n",
       "      <td>1</td>\n",
       "      <td>-5.934</td>\n",
       "      <td>1</td>\n",
       "      <td>0.0598</td>\n",
       "      <td>0.001460</td>\n",
       "      <td>0.000095</td>\n",
       "      <td>0.0897</td>\n",
       "      <td>0.334</td>\n",
       "      <td>171.005</td>\n",
       "    </tr>\n",
       "    <tr>\n",
       "      <th>1</th>\n",
       "      <td>209754</td>\n",
       "      <td>0</td>\n",
       "      <td>0</td>\n",
       "      <td>0.825</td>\n",
       "      <td>0.593</td>\n",
       "      <td>6</td>\n",
       "      <td>-6.401</td>\n",
       "      <td>0</td>\n",
       "      <td>0.0988</td>\n",
       "      <td>0.688000</td>\n",
       "      <td>0.000161</td>\n",
       "      <td>0.1700</td>\n",
       "      <td>0.540</td>\n",
       "      <td>98.078</td>\n",
       "    </tr>\n",
       "    <tr>\n",
       "      <th>2</th>\n",
       "      <td>196652</td>\n",
       "      <td>1</td>\n",
       "      <td>1</td>\n",
       "      <td>0.896</td>\n",
       "      <td>0.586</td>\n",
       "      <td>10</td>\n",
       "      <td>-6.687</td>\n",
       "      <td>0</td>\n",
       "      <td>0.0559</td>\n",
       "      <td>0.104000</td>\n",
       "      <td>0.000000</td>\n",
       "      <td>0.7900</td>\n",
       "      <td>0.642</td>\n",
       "      <td>116.971</td>\n",
       "    </tr>\n",
       "    <tr>\n",
       "      <th>3</th>\n",
       "      <td>176218</td>\n",
       "      <td>1</td>\n",
       "      <td>0</td>\n",
       "      <td>0.785</td>\n",
       "      <td>0.721</td>\n",
       "      <td>8</td>\n",
       "      <td>-5.457</td>\n",
       "      <td>1</td>\n",
       "      <td>0.0506</td>\n",
       "      <td>0.014900</td>\n",
       "      <td>0.004320</td>\n",
       "      <td>0.2850</td>\n",
       "      <td>0.894</td>\n",
       "      <td>121.962</td>\n",
       "    </tr>\n",
       "    <tr>\n",
       "      <th>4</th>\n",
       "      <td>183290</td>\n",
       "      <td>0</td>\n",
       "      <td>1</td>\n",
       "      <td>0.793</td>\n",
       "      <td>0.793</td>\n",
       "      <td>11</td>\n",
       "      <td>-4.521</td>\n",
       "      <td>0</td>\n",
       "      <td>0.0830</td>\n",
       "      <td>0.012300</td>\n",
       "      <td>0.000000</td>\n",
       "      <td>0.0951</td>\n",
       "      <td>0.679</td>\n",
       "      <td>123.950</td>\n",
       "    </tr>\n",
       "    <tr>\n",
       "      <th>...</th>\n",
       "      <td>...</td>\n",
       "      <td>...</td>\n",
       "      <td>...</td>\n",
       "      <td>...</td>\n",
       "      <td>...</td>\n",
       "      <td>...</td>\n",
       "      <td>...</td>\n",
       "      <td>...</td>\n",
       "      <td>...</td>\n",
       "      <td>...</td>\n",
       "      <td>...</td>\n",
       "      <td>...</td>\n",
       "      <td>...</td>\n",
       "      <td>...</td>\n",
       "    </tr>\n",
       "    <tr>\n",
       "      <th>2045</th>\n",
       "      <td>294200</td>\n",
       "      <td>0</td>\n",
       "      <td>0</td>\n",
       "      <td>0.689</td>\n",
       "      <td>0.685</td>\n",
       "      <td>3</td>\n",
       "      <td>-5.153</td>\n",
       "      <td>1</td>\n",
       "      <td>0.0478</td>\n",
       "      <td>0.092100</td>\n",
       "      <td>0.000000</td>\n",
       "      <td>0.1190</td>\n",
       "      <td>0.398</td>\n",
       "      <td>160.067</td>\n",
       "    </tr>\n",
       "    <tr>\n",
       "      <th>2046</th>\n",
       "      <td>276266</td>\n",
       "      <td>0</td>\n",
       "      <td>0</td>\n",
       "      <td>0.813</td>\n",
       "      <td>0.491</td>\n",
       "      <td>10</td>\n",
       "      <td>-9.923</td>\n",
       "      <td>0</td>\n",
       "      <td>0.0770</td>\n",
       "      <td>0.241000</td>\n",
       "      <td>0.000046</td>\n",
       "      <td>0.0817</td>\n",
       "      <td>0.868</td>\n",
       "      <td>99.008</td>\n",
       "    </tr>\n",
       "    <tr>\n",
       "      <th>2047</th>\n",
       "      <td>189333</td>\n",
       "      <td>0</td>\n",
       "      <td>0</td>\n",
       "      <td>0.481</td>\n",
       "      <td>0.940</td>\n",
       "      <td>7</td>\n",
       "      <td>-5.204</td>\n",
       "      <td>1</td>\n",
       "      <td>0.0660</td>\n",
       "      <td>0.000891</td>\n",
       "      <td>0.000000</td>\n",
       "      <td>0.0939</td>\n",
       "      <td>0.660</td>\n",
       "      <td>96.493</td>\n",
       "    </tr>\n",
       "    <tr>\n",
       "      <th>2048</th>\n",
       "      <td>296693</td>\n",
       "      <td>0</td>\n",
       "      <td>0</td>\n",
       "      <td>0.725</td>\n",
       "      <td>0.487</td>\n",
       "      <td>8</td>\n",
       "      <td>-5.959</td>\n",
       "      <td>0</td>\n",
       "      <td>0.0368</td>\n",
       "      <td>0.260000</td>\n",
       "      <td>0.000011</td>\n",
       "      <td>0.4310</td>\n",
       "      <td>0.599</td>\n",
       "      <td>136.086</td>\n",
       "    </tr>\n",
       "    <tr>\n",
       "      <th>2049</th>\n",
       "      <td>268863</td>\n",
       "      <td>0</td>\n",
       "      <td>0</td>\n",
       "      <td>0.745</td>\n",
       "      <td>0.958</td>\n",
       "      <td>7</td>\n",
       "      <td>-9.664</td>\n",
       "      <td>1</td>\n",
       "      <td>0.0287</td>\n",
       "      <td>0.081300</td>\n",
       "      <td>0.324000</td>\n",
       "      <td>0.5330</td>\n",
       "      <td>0.960</td>\n",
       "      <td>129.962</td>\n",
       "    </tr>\n",
       "  </tbody>\n",
       "</table>\n",
       "<p>2050 rows × 14 columns</p>\n",
       "</div>"
      ],
      "text/plain": [
       "      track.duration_ms  track.explicit  is_popular  danceability  energy  \\\n",
       "0                200040               0           1         0.514   0.730   \n",
       "1                209754               0           0         0.825   0.593   \n",
       "2                196652               1           1         0.896   0.586   \n",
       "3                176218               1           0         0.785   0.721   \n",
       "4                183290               0           1         0.793   0.793   \n",
       "...                 ...             ...         ...           ...     ...   \n",
       "2045             294200               0           0         0.689   0.685   \n",
       "2046             276266               0           0         0.813   0.491   \n",
       "2047             189333               0           0         0.481   0.940   \n",
       "2048             296693               0           0         0.725   0.487   \n",
       "2049             268863               0           0         0.745   0.958   \n",
       "\n",
       "      key  loudness  mode  speechiness  acousticness  instrumentalness  \\\n",
       "0       1    -5.934     1       0.0598      0.001460          0.000095   \n",
       "1       6    -6.401     0       0.0988      0.688000          0.000161   \n",
       "2      10    -6.687     0       0.0559      0.104000          0.000000   \n",
       "3       8    -5.457     1       0.0506      0.014900          0.004320   \n",
       "4      11    -4.521     0       0.0830      0.012300          0.000000   \n",
       "...   ...       ...   ...          ...           ...               ...   \n",
       "2045    3    -5.153     1       0.0478      0.092100          0.000000   \n",
       "2046   10    -9.923     0       0.0770      0.241000          0.000046   \n",
       "2047    7    -5.204     1       0.0660      0.000891          0.000000   \n",
       "2048    8    -5.959     0       0.0368      0.260000          0.000011   \n",
       "2049    7    -9.664     1       0.0287      0.081300          0.324000   \n",
       "\n",
       "      liveness  valence    tempo  \n",
       "0       0.0897    0.334  171.005  \n",
       "1       0.1700    0.540   98.078  \n",
       "2       0.7900    0.642  116.971  \n",
       "3       0.2850    0.894  121.962  \n",
       "4       0.0951    0.679  123.950  \n",
       "...        ...      ...      ...  \n",
       "2045    0.1190    0.398  160.067  \n",
       "2046    0.0817    0.868   99.008  \n",
       "2047    0.0939    0.660   96.493  \n",
       "2048    0.4310    0.599  136.086  \n",
       "2049    0.5330    0.960  129.962  \n",
       "\n",
       "[2050 rows x 14 columns]"
      ]
     },
     "execution_count": 21,
     "metadata": {},
     "output_type": "execute_result"
    }
   ],
   "source": [
    "df_pred"
   ]
  },
  {
   "cell_type": "markdown",
   "id": "f9b8bab8-f408-416d-93a8-b4a70f6516e1",
   "metadata": {},
   "source": [
    "Procedemos a crear un modelo normalizando los atributos, y otro sin normalizarlos, para ver como se comportan."
   ]
  },
  {
   "cell_type": "code",
   "execution_count": 22,
   "id": "a87d79fe-b38c-4c6f-8f7e-b7e034b4b219",
   "metadata": {},
   "outputs": [],
   "source": [
    "from sklearn.linear_model import LogisticRegression\n",
    "from sklearn.model_selection import train_test_split\n",
    "from sklearn.preprocessing import StandardScaler\n",
    "from sklearn.pipeline import Pipeline"
   ]
  },
  {
   "cell_type": "code",
   "execution_count": 23,
   "id": "8c4b388d-fab0-4460-aa75-a7f70f3a170c",
   "metadata": {},
   "outputs": [],
   "source": [
    "X= df_pred.drop('is_popular', axis=1)\n",
    "y= df_pred['is_popular']\n",
    "X_train, X_test, y_train, y_test = train_test_split(X, y, random_state=420)\n",
    "pipe = Pipeline([('scaler', StandardScaler()), ('log_reg', LogisticRegression())])"
   ]
  },
  {
   "cell_type": "code",
   "execution_count": 30,
   "id": "be3e7d23-a670-4420-9eee-3f296bc3b2f0",
   "metadata": {},
   "outputs": [
    {
     "data": {
      "text/plain": [
       "Pipeline(steps=[('scaler', StandardScaler()),\n",
       "                ('log_reg', LogisticRegression())])"
      ]
     },
     "execution_count": 30,
     "metadata": {},
     "output_type": "execute_result"
    }
   ],
   "source": [
    "pipe"
   ]
  },
  {
   "cell_type": "code",
   "execution_count": 24,
   "id": "4374d4ac-2b25-4b60-8c84-852357ef946f",
   "metadata": {},
   "outputs": [],
   "source": [
    "log_reg_clf = pipe.fit(X_train, y_train)"
   ]
  },
  {
   "cell_type": "code",
   "execution_count": 25,
   "id": "e4eb8cbf-6bb7-436f-b56f-d47902d4ab23",
   "metadata": {},
   "outputs": [
    {
     "data": {
      "text/plain": [
       "0.7293428757319453"
      ]
     },
     "execution_count": 25,
     "metadata": {},
     "output_type": "execute_result"
    }
   ],
   "source": [
    "log_reg_clf.score(X_train, y_train)"
   ]
  },
  {
   "cell_type": "code",
   "execution_count": 26,
   "id": "28c461ce-f46b-43a9-b308-43f2d56780ff",
   "metadata": {},
   "outputs": [
    {
     "data": {
      "text/plain": [
       "0.7251461988304093"
      ]
     },
     "execution_count": 26,
     "metadata": {},
     "output_type": "execute_result"
    }
   ],
   "source": [
    "log_reg_clf.score(X_test, y_test)"
   ]
  },
  {
   "cell_type": "markdown",
   "id": "d54ce27e-33c5-4a8b-b764-85f803f5e69f",
   "metadata": {},
   "source": [
    "Ahora veamos el modelo sin normalizar"
   ]
  },
  {
   "cell_type": "code",
   "execution_count": 27,
   "id": "0887fc38-3d48-4f65-a491-03d73e8f903e",
   "metadata": {},
   "outputs": [
    {
     "data": {
      "text/plain": [
       "LogisticRegression()"
      ]
     },
     "execution_count": 27,
     "metadata": {},
     "output_type": "execute_result"
    }
   ],
   "source": [
    "log_reg_clf_no_norm = LogisticRegression()\n",
    "log_reg_clf_no_norm.fit(X_train, y_train)"
   ]
  },
  {
   "cell_type": "code",
   "execution_count": 28,
   "id": "8449a581-7448-4582-8c61-969110de5b1f",
   "metadata": {},
   "outputs": [
    {
     "data": {
      "text/plain": [
       "0.7182823682498374"
      ]
     },
     "execution_count": 28,
     "metadata": {},
     "output_type": "execute_result"
    }
   ],
   "source": [
    "log_reg_clf_no_norm.score(X_train, y_train)"
   ]
  },
  {
   "cell_type": "code",
   "execution_count": 29,
   "id": "e68c06be-df98-4ca5-bb98-a3a235719450",
   "metadata": {},
   "outputs": [
    {
     "data": {
      "text/plain": [
       "0.7251461988304093"
      ]
     },
     "execution_count": 29,
     "metadata": {},
     "output_type": "execute_result"
    }
   ],
   "source": [
    "log_reg_clf_no_norm.score(X_test, y_test)"
   ]
  },
  {
   "cell_type": "markdown",
   "id": "9223e8b5-a42a-4b7d-b10b-cf965da2776f",
   "metadata": {},
   "source": [
    "## 2. Si no hay un problema de clasificación binaria en tu proyecto, pídele ayuda a la experta para conseguir un dataset con el que puedas practicar."
   ]
  },
  {
   "cell_type": "markdown",
   "id": "3d3b2d64-0bb4-4c10-b299-365c67f9b69c",
   "metadata": {},
   "source": [
    "Nos hemos encargado de este punto."
   ]
  },
  {
   "cell_type": "markdown",
   "id": "74ba85c5-715f-4020-a05b-2d2fcf1dbe61",
   "metadata": {},
   "source": [
    "## 3. Evalúa tu modelo de Regresión Logística utilizando matriz de confusión; medidas de precisión, exactitud, sensibilidad y especificidad; y curva ROC / AUC."
   ]
  },
  {
   "cell_type": "markdown",
   "id": "1c550e49-a2c7-4a69-93b3-c533502ad575",
   "metadata": {},
   "source": [
    "### Modelo normalizado"
   ]
  },
  {
   "cell_type": "code",
   "execution_count": 31,
   "id": "5407b6cf-0642-4e29-b2df-ef5985fe51c1",
   "metadata": {},
   "outputs": [],
   "source": [
    "from sklearn import metrics"
   ]
  },
  {
   "cell_type": "code",
   "execution_count": 40,
   "id": "e2320c43-fbac-4285-8082-4aac199fb4e6",
   "metadata": {},
   "outputs": [],
   "source": [
    "y_pred = log_reg_clf.predict(X_test)"
   ]
  },
  {
   "cell_type": "code",
   "execution_count": 41,
   "id": "d9cb1db5-e1aa-4992-8f48-7a79963b9d9f",
   "metadata": {},
   "outputs": [
    {
     "data": {
      "text/plain": [
       "array([[360,  12],\n",
       "       [128,  13]])"
      ]
     },
     "execution_count": 41,
     "metadata": {},
     "output_type": "execute_result"
    }
   ],
   "source": [
    "cm = metrics.confusion_matrix(y_test, y_pred)\n",
    "cm"
   ]
  },
  {
   "cell_type": "code",
   "execution_count": 38,
   "id": "3f431dd8-f569-4845-96d3-696ecd832e44",
   "metadata": {},
   "outputs": [
    {
     "data": {
      "text/plain": [
       "<sklearn.metrics._plot.confusion_matrix.ConfusionMatrixDisplay at 0x7f28b553fa90>"
      ]
     },
     "execution_count": 38,
     "metadata": {},
     "output_type": "execute_result"
    },
    {
     "data": {
      "image/png": "[encoded data removed]",
      "text/plain": [
       "<Figure size 432x288 with 2 Axes>"
      ]
     },
     "metadata": {
      "needs_background": "light"
     },
     "output_type": "display_data"
    }
   ],
   "source": [
    "metrics.plot_confusion_matrix(log_reg_clf, X_test, y_test)"
   ]
  },
  {
   "cell_type": "code",
   "execution_count": 42,
   "id": "bf1441dd-fa87-48af-9932-d76fdc0346e5",
   "metadata": {},
   "outputs": [
    {
     "data": {
      "image/png": "[encoded data removed]",
      "text/plain": [
       "<Figure size 432x432 with 1 Axes>"
      ]
     },
     "metadata": {
      "needs_background": "light"
     },
     "output_type": "display_data"
    }
   ],
   "source": [
    "class_names=[0,1] # name  of classes\n",
    "fig, ax = plt.subplots(figsize=(6, 6))\n",
    "tick_marks = np.arange(len(class_names))\n",
    "plt.xticks(tick_marks, class_names)\n",
    "plt.yticks(tick_marks, class_names)\n",
    "# create heatmap\n",
    "sns.heatmap(pd.DataFrame(cm), annot=True, cmap=\"Blues\" ,fmt='g', cbar=False, annot_kws={\"size\": 20})\n",
    "ax.xaxis.set_label_position(\"top\")\n",
    "plt.tight_layout()\n",
    "plt.ylabel('Realidad', fontsize=15, y=0.5)\n",
    "plt.xlabel('Estimado por el modelo', fontsize=15);"
   ]
  },
  {
   "cell_type": "code",
   "execution_count": 49,
   "id": "fd23bb51-8bf3-4d26-b815-37978a26a3f0",
   "metadata": {},
   "outputs": [
    {
     "name": "stdout",
     "output_type": "stream",
     "text": [
      "Precision: 0.52\n",
      "Exactitud: 0.7270955165692008\n",
      "Sensibilidad: 0.09219858156028368\n",
      "Especificidad: 0.967741935483871\n"
     ]
    }
   ],
   "source": [
    "tn, fp, fn, tp = cm.ravel()\n",
    "\n",
    "print(\"Precision:\",metrics.precision_score(y_test, y_pred))\n",
    "print(\"Exactitud:\",metrics.accuracy_score(y_test, y_pred))\n",
    "print(\"Sensibilidad:\",metrics.recall_score(y_test, y_pred))\n",
    "print(\"Especificidad:\", tn / (tn + fp))"
   ]
  },
  {
   "cell_type": "markdown",
   "id": "299c769b-c7b4-4442-adf3-8df62427f5f0",
   "metadata": {},
   "source": [
    "### Modelo sin normalizar"
   ]
  },
  {
   "cell_type": "code",
   "execution_count": 43,
   "id": "9a84008b-802a-40a8-9c78-6d62c4319a47",
   "metadata": {},
   "outputs": [],
   "source": [
    "y_pred_no_norm = log_reg_clf_no_norm.predict(X_test)"
   ]
  },
  {
   "cell_type": "code",
   "execution_count": 45,
   "id": "7fea9348-49ae-4027-8361-368e0e62f3b9",
   "metadata": {},
   "outputs": [
    {
     "data": {
      "text/plain": [
       "array([[372,   0],\n",
       "       [141,   0]])"
      ]
     },
     "execution_count": 45,
     "metadata": {},
     "output_type": "execute_result"
    }
   ],
   "source": [
    "cm_no_norm = metrics.confusion_matrix(y_test, y_pred_no_norm)\n",
    "cm_no_norm"
   ]
  },
  {
   "cell_type": "code",
   "execution_count": 48,
   "id": "e629d462-d3d5-42fc-8c8c-8c8e4e6a1c41",
   "metadata": {},
   "outputs": [
    {
     "data": {
      "text/plain": [
       "<sklearn.metrics._plot.confusion_matrix.ConfusionMatrixDisplay at 0x7f28b4f380a0>"
      ]
     },
     "execution_count": 48,
     "metadata": {},
     "output_type": "execute_result"
    },
    {
     "data": {
      "image/png": "[encoded data removed]",
      "text/plain": [
       "<Figure size 432x288 with 2 Axes>"
      ]
     },
     "metadata": {
      "needs_background": "light"
     },
     "output_type": "display_data"
    }
   ],
   "source": [
    "metrics.plot_confusion_matrix(log_reg_clf_no_norm, X_test, y_test)"
   ]
  },
  {
   "cell_type": "code",
   "execution_count": 46,
   "id": "da09f63d-49aa-4378-afa3-3a14c5ee0d46",
   "metadata": {},
   "outputs": [
    {
     "data": {
      "image/png": "[encoded data removed]",
      "text/plain": [
       "<Figure size 432x432 with 1 Axes>"
      ]
     },
     "metadata": {
      "needs_background": "light"
     },
     "output_type": "display_data"
    }
   ],
   "source": [
    "class_names=[0,1] # name  of classes\n",
    "fig, ax = plt.subplots(figsize=(6, 6))\n",
    "tick_marks = np.arange(len(class_names))\n",
    "plt.xticks(tick_marks, class_names)\n",
    "plt.yticks(tick_marks, class_names)\n",
    "# create heatmap\n",
    "sns.heatmap(pd.DataFrame(cm), annot=True, cmap=\"Blues\" ,fmt='g', cbar=False, annot_kws={\"size\": 20})\n",
    "ax.xaxis.set_label_position(\"top\")\n",
    "plt.tight_layout()\n",
    "plt.ylabel('Realidad', fontsize=15, y=0.5)\n",
    "plt.xlabel('Estimado por el modelo', fontsize=15);"
   ]
  },
  {
   "cell_type": "code",
   "execution_count": 50,
   "id": "6511d71c-30f3-4cb9-a2a5-bae10e956e69",
   "metadata": {},
   "outputs": [
    {
     "name": "stdout",
     "output_type": "stream",
     "text": [
      "Precision: 0.0\n",
      "Exactitud: 0.7251461988304093\n",
      "Sensibilidad: 0.0\n",
      "Especificidad: 1.0\n"
     ]
    },
    {
     "name": "stderr",
     "output_type": "stream",
     "text": [
      "/home/marioraulgz/miniconda3/envs/pyds/lib/python3.8/site-packages/sklearn/metrics/_classification.py:1221: UndefinedMetricWarning: Precision is ill-defined and being set to 0.0 due to no predicted samples. Use `zero_division` parameter to control this behavior.\n",
      "  _warn_prf(average, modifier, msg_start, len(result))\n"
     ]
    }
   ],
   "source": [
    "tn_no_norm, fp_no_norm, fn_no_norm, tp_no_norm = cm_no_norm.ravel()\n",
    "\n",
    "print(\"Precision:\",metrics.precision_score(y_test, y_pred_no_norm))\n",
    "print(\"Exactitud:\",metrics.accuracy_score(y_test, y_pred_no_norm))\n",
    "print(\"Sensibilidad:\",metrics.recall_score(y_test, y_pred_no_norm))\n",
    "print(\"Especificidad:\", tn_no_norm / (tn_no_norm + fp_no_norm))"
   ]
  },
  {
   "cell_type": "markdown",
   "id": "cd1c46f6-31fb-4305-8d57-8343b638a070",
   "metadata": {},
   "source": [
    "Este error nos alerta y tras una visita a Stack  Overflow, decidimos revisar los valores que esta prediciendo este modelo."
   ]
  },
  {
   "cell_type": "code",
   "execution_count": 51,
   "id": "47f253e2-f610-484c-be7e-bfda6fa1766f",
   "metadata": {},
   "outputs": [
    {
     "data": {
      "text/plain": [
       "{0, 1}"
      ]
     },
     "execution_count": 51,
     "metadata": {},
     "output_type": "execute_result"
    }
   ],
   "source": [
    "set(y_test)"
   ]
  },
  {
   "cell_type": "code",
   "execution_count": 53,
   "id": "74b872a6-af34-4649-8852-ed4058192d9b",
   "metadata": {},
   "outputs": [
    {
     "data": {
      "text/plain": [
       "{0}"
      ]
     },
     "execution_count": 53,
     "metadata": {},
     "output_type": "execute_result"
    }
   ],
   "source": [
    "set(y_pred_no_norm)"
   ]
  },
  {
   "cell_type": "markdown",
   "id": "27a433f2-f239-4b4b-8971-926a64d915da",
   "metadata": {},
   "source": [
    "Al parecer el modelo que generamos sin normalizar logro obtener esa exactitud solamente prediciendo que la canción no sería famosa el 100% de las veces. "
   ]
  },
  {
   "cell_type": "markdown",
   "id": "94e7458e-2e24-4d26-9e68-5a0db1ecca14",
   "metadata": {},
   "source": [
    "Por lo tanto, concluimos que si bien parecia que el uso del `StandardScaler` en realidad no nos beneficiaba. Vemos que hacerlo fue una decisión acertada."
   ]
  },
  {
   "cell_type": "markdown",
   "id": "1794e0e5-52b9-418b-a37a-022fd5948b76",
   "metadata": {},
   "source": [
    "### Modelo normalizado"
   ]
  },
  {
   "cell_type": "markdown",
   "id": "dd167206-5bad-4548-a0d1-a3a6c89ea102",
   "metadata": {},
   "source": [
    "La curva ROC no utiliza los resultados binarios (0,1) que obtenemos del clasificador, si no resultados probabilisticos. Por lo tanto, obtengámoslos."
   ]
  },
  {
   "cell_type": "code",
   "execution_count": 55,
   "id": "133505c0-54ab-4cc2-9335-8f4863d7a907",
   "metadata": {},
   "outputs": [
    {
     "data": {
      "text/plain": [
       "array([[0.77335076, 0.22664924],\n",
       "       [0.82554031, 0.17445969],\n",
       "       [0.76329598, 0.23670402],\n",
       "       [0.54401353, 0.45598647],\n",
       "       [0.85169552, 0.14830448],\n",
       "       [0.6361266 , 0.3638734 ],\n",
       "       [0.80162808, 0.19837192],\n",
       "       [0.56586679, 0.43413321],\n",
       "       [0.4925526 , 0.5074474 ],\n",
       "       [0.79914669, 0.20085331]])"
      ]
     },
     "execution_count": 55,
     "metadata": {},
     "output_type": "execute_result"
    }
   ],
   "source": [
    "y_pred_proba = log_reg_clf.predict_proba(X_test)\n",
    "\n",
    "y_pred_proba[:10,:]"
   ]
  },
  {
   "cell_type": "code",
   "execution_count": 57,
   "id": "3359c713-5dd8-4ede-a46e-22197fb44541",
   "metadata": {},
   "outputs": [],
   "source": [
    "from sklearn.metrics import roc_curve, auc\n",
    "fpr, tpr, _ = roc_curve(y_test, y_pred_proba[:, 1])\n",
    "roc_auc = auc(fpr, tpr)"
   ]
  },
  {
   "cell_type": "code",
   "execution_count": 58,
   "id": "289cd7c1-fb71-40fd-9d33-283a53749711",
   "metadata": {},
   "outputs": [
    {
     "data": {
      "image/png": "[encoded data removed]",
      "text/plain": [
       "<Figure size 432x288 with 1 Axes>"
      ]
     },
     "metadata": {
      "needs_background": "light"
     },
     "output_type": "display_data"
    }
   ],
   "source": [
    "plt.figure()\n",
    "plt.plot(fpr, tpr, color='darkorange',\n",
    "         label='ROC curve (area = %0.2f)' % roc_auc)\n",
    "plt.plot([0, 1], [0, 1], color='navy', linestyle='--')\n",
    "plt.xlim([0.0, 1.0])\n",
    "plt.ylim([0.0, 1.05])\n",
    "plt.xlabel('Proporción Positivos False')\n",
    "plt.ylabel('Proporción Positivos Verdaderos')\n",
    "plt.title('Curva ROC / AUC')\n",
    "plt.legend(loc=\"lower right\")\n",
    "plt.show()"
   ]
  },
  {
   "cell_type": "code",
   "execution_count": 59,
   "id": "29e92ac2-b351-4c7e-8843-cdd62452f4ea",
   "metadata": {},
   "outputs": [
    {
     "data": {
      "text/plain": [
       "array([[0.78227165, 0.21772835],\n",
       "       [0.68660071, 0.31339929],\n",
       "       [0.73417107, 0.26582893],\n",
       "       [0.68206385, 0.31793615],\n",
       "       [0.72484954, 0.27515046],\n",
       "       [0.69437598, 0.30562402],\n",
       "       [0.72583137, 0.27416863],\n",
       "       [0.70836028, 0.29163972],\n",
       "       [0.73523967, 0.26476033],\n",
       "       [0.73542513, 0.26457487]])"
      ]
     },
     "execution_count": 59,
     "metadata": {},
     "output_type": "execute_result"
    }
   ],
   "source": [
    "y_pred_proba_no_norm = log_reg_clf_no_norm.predict_proba(X_test)\n",
    "\n",
    "y_pred_proba_no_norm[:10,:]"
   ]
  },
  {
   "cell_type": "markdown",
   "id": "012b5c07-751a-4429-826b-ca619ffa6edd",
   "metadata": {},
   "source": [
    "### Modelo sin normalizar"
   ]
  },
  {
   "cell_type": "code",
   "execution_count": 60,
   "id": "ee07d4c6-731d-4d95-831c-cb2b3b45f09c",
   "metadata": {},
   "outputs": [],
   "source": [
    "from sklearn.metrics import roc_curve, auc\n",
    "fpr_no_norm, tpr_no_norm, _ = roc_curve(y_test, y_pred_proba_no_norm[:, 1])\n",
    "roc_auc_no_norm = auc(fpr_no_norm, tpr_no_norm)"
   ]
  },
  {
   "cell_type": "code",
   "execution_count": 62,
   "id": "103a7bcc-b5ee-4b5e-a3de-d2190a75db20",
   "metadata": {},
   "outputs": [
    {
     "data": {
      "image/png": "[encoded data removed]",
      "text/plain": [
       "<Figure size 432x288 with 1 Axes>"
      ]
     },
     "metadata": {
      "needs_background": "light"
     },
     "output_type": "display_data"
    }
   ],
   "source": [
    "plt.figure()\n",
    "plt.plot(fpr_no_norm, tpr_no_norm, color='darkorange',\n",
    "         label='ROC curve (area = %0.2f)' % roc_auc_no_norm)\n",
    "plt.plot([0, 1], [0, 1], color='navy', linestyle='--')\n",
    "plt.xlim([0.0, 1.0])\n",
    "plt.ylim([0.0, 1.05])\n",
    "plt.xlabel('Proporción Positivos False')\n",
    "plt.ylabel('Proporción Positivos Verdaderos')\n",
    "plt.title('Curva ROC / AUC modelo no normalizado')\n",
    "plt.legend(loc=\"lower right\")\n",
    "plt.show()"
   ]
  },
  {
   "cell_type": "markdown",
   "id": "1d763757-6899-4d8b-af96-bf1144b4dc58",
   "metadata": {},
   "source": [
    "Finalmente. Vemos que ambos modelos lucen mal cuando los vemos desde la perspectivca de la curva ROC/AUC, por lo que debemos plantearnos usar modelos más complejos o hacer mas complejo el modelo que tenemos."
   ]
  },
  {
   "cell_type": "code",
   "execution_count": null,
   "id": "35032cbe-79ae-410c-ac4f-36ed13576697",
   "metadata": {},
   "outputs": [],
   "source": []
  }
 ],
 "metadata": {
  "kernelspec": {
   "display_name": "Python 3",
   "language": "python",
   "name": "python3"
  },
  "language_info": {
   "codemirror_mode": {
    "name": "ipython",
    "version": 3
   },
   "file_extension": ".py",
   "mimetype": "text/x-python",
   "name": "python",
   "nbconvert_exporter": "python",
   "pygments_lexer": "ipython3",
   "version": "3.8.8"
  }
 },
 "nbformat": 4,
 "nbformat_minor": 5
}
