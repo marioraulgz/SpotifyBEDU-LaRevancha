{
  "nbformat": 4,
  "nbformat_minor": 0,
  "metadata": {
    "colab": {
      "name": "VisualizaciónDeDatosAvanzada.ipynb",
      "provenance": [],
      "toc_visible": true
    },
    "kernelspec": {
      "name": "python3",
      "display_name": "Python 3"
    },
    "language_info": {
      "name": "python"
    }
  },
  "cells": [
    {
      "cell_type": "markdown",
      "metadata": {
        "id": "3-QJxRg5vanm"
      },
      "source": [
        "#Visualización de datos avanzada"
      ]
    },
    {
      "cell_type": "code",
      "metadata": {
        "id": "GMPsDQppcBY9"
      },
      "source": [
        "#!pip install --upgrade plotly"
      ],
      "execution_count": null,
      "outputs": []
    },
    {
      "cell_type": "markdown",
      "metadata": {
        "id": "hKsGa9cLvq8N"
      },
      "source": [
        "#Obtención de datos mediante la API de spotify"
      ]
    },
    {
      "cell_type": "code",
      "metadata": {
        "id": "ZyITBpU1vmsU"
      },
      "source": [
        "#Utilizando la data de spotipy\n",
        "!pip install spotipy"
      ],
      "execution_count": null,
      "outputs": []
    },
    {
      "cell_type": "code",
      "metadata": {
        "id": "N_o9W9o_vygV"
      },
      "source": [
        "import spotipy\n",
        "from spotipy.oauth2 import SpotifyClientCredentials #Accesar a la data de spotify"
      ],
      "execution_count": 2,
      "outputs": []
    },
    {
      "cell_type": "code",
      "metadata": {
        "id": "m7l62393vz7N"
      },
      "source": [
        "client_id= \"72654f91e8424dc8b4924dc4cdf3674a\"\n",
        "client_secret= \"968caf037e674bb0a89533fde2831f25\"\n",
        "\n",
        "client_credentials_manager = SpotifyClientCredentials(client_id=client_id, client_secret=client_secret)\n",
        "\n",
        "sp = spotipy.Spotify(client_credentials_manager=client_credentials_manager) #API de spotify"
      ],
      "execution_count": 3,
      "outputs": []
    },
    {
      "cell_type": "markdown",
      "metadata": {
        "id": "l0SHFpggv2WB"
      },
      "source": [
        "Ejemplo de obtención de datos"
      ]
    },
    {
      "cell_type": "code",
      "metadata": {
        "id": "052WmsSXv1mt",
        "colab": {
          "base_uri": "https://localhost:8080/"
        },
        "outputId": "99b477c8-992c-4b53-bb50-e7298ef45a9d"
      },
      "source": [
        "name = \"Parcels\" #Artista\n",
        "\n",
        "result = sp.search(name) #Busqueda\n",
        "\n",
        "result['tracks']['items'][0]['artists']"
      ],
      "execution_count": 4,
      "outputs": [
        {
          "output_type": "execute_result",
          "data": {
            "text/plain": [
              "[{'external_urls': {'spotify': 'https://open.spotify.com/artist/3oKRxpszQKUjjaHz388fVA'},\n",
              "  'href': 'https://api.spotify.com/v1/artists/3oKRxpszQKUjjaHz388fVA',\n",
              "  'id': '3oKRxpszQKUjjaHz388fVA',\n",
              "  'name': 'Parcels',\n",
              "  'type': 'artist',\n",
              "  'uri': 'spotify:artist:3oKRxpszQKUjjaHz388fVA'}]"
            ]
          },
          "metadata": {
            "tags": []
          },
          "execution_count": 4
        }
      ]
    },
    {
      "cell_type": "markdown",
      "metadata": {
        "id": "Kgkzb8RRv8_Q"
      },
      "source": [
        "#Importando las librerías necesarias y manejo de data"
      ]
    },
    {
      "cell_type": "code",
      "metadata": {
        "id": "x95IexfYwODR"
      },
      "source": [
        "%matplotlib inline\n",
        "import pandas as pd\n",
        "import seaborn as sns\n",
        "import matplotlib.pyplot as plt\n",
        "import plotly.express as px"
      ],
      "execution_count": 5,
      "outputs": []
    },
    {
      "cell_type": "code",
      "metadata": {
        "id": "l0HnJG49wUR0"
      },
      "source": [
        "df = pd.read_csv('data_delimited.csv',index_col=0)"
      ],
      "execution_count": null,
      "outputs": []
    },
    {
      "cell_type": "code",
      "metadata": {
        "colab": {
          "base_uri": "https://localhost:8080/"
        },
        "id": "rvzxDNSCwVEG",
        "outputId": "9666c678-b5da-44fa-a661-cc556d1e3b6a"
      },
      "source": [
        "df.head()"
      ],
      "execution_count": null,
      "outputs": [
        {
          "output_type": "execute_result",
          "data": {
            "text/html": [
              "<div>\n",
              "<style scoped>\n",
              "    .dataframe tbody tr th:only-of-type {\n",
              "        vertical-align: middle;\n",
              "    }\n",
              "\n",
              "    .dataframe tbody tr th {\n",
              "        vertical-align: top;\n",
              "    }\n",
              "\n",
              "    .dataframe thead th {\n",
              "        text-align: right;\n",
              "    }\n",
              "</style>\n",
              "<table border=\"1\" class=\"dataframe\">\n",
              "  <thead>\n",
              "    <tr style=\"text-align: right;\">\n",
              "      <th></th>\n",
              "      <th>added_at</th>\n",
              "      <th>is_local</th>\n",
              "      <th>added_by.type</th>\n",
              "      <th>track.album.album_type</th>\n",
              "      <th>track.album.id</th>\n",
              "      <th>track.album.name</th>\n",
              "      <th>track.album.release_date</th>\n",
              "      <th>track.album.release_date_precision</th>\n",
              "      <th>track.album.total_tracks</th>\n",
              "      <th>track.album.type</th>\n",
              "      <th>track.disc_number</th>\n",
              "      <th>track.duration_ms</th>\n",
              "      <th>track.episode</th>\n",
              "      <th>track.explicit</th>\n",
              "      <th>track.external_ids.isrc</th>\n",
              "      <th>track.is_local</th>\n",
              "      <th>track.name</th>\n",
              "      <th>track.popularity</th>\n",
              "      <th>track.track</th>\n",
              "      <th>track.track_number</th>\n",
              "      <th>track.type</th>\n",
              "      <th>danceability</th>\n",
              "      <th>energy</th>\n",
              "      <th>key</th>\n",
              "      <th>loudness</th>\n",
              "      <th>mode</th>\n",
              "      <th>speechiness</th>\n",
              "      <th>acousticness</th>\n",
              "      <th>instrumentalness</th>\n",
              "      <th>liveness</th>\n",
              "      <th>valence</th>\n",
              "      <th>tempo</th>\n",
              "      <th>id</th>\n",
              "      <th>time_signature</th>\n",
              "    </tr>\n",
              "  </thead>\n",
              "  <tbody>\n",
              "    <tr>\n",
              "      <th>0</th>\n",
              "      <td>2020-12-01T05:02:00Z</td>\n",
              "      <td>False</td>\n",
              "      <td>user</td>\n",
              "      <td>album</td>\n",
              "      <td>4yP0hdKOZPNshxUOjY0cZj</td>\n",
              "      <td>After Hours</td>\n",
              "      <td>2020-03-20</td>\n",
              "      <td>day</td>\n",
              "      <td>14</td>\n",
              "      <td>album</td>\n",
              "      <td>1</td>\n",
              "      <td>200040</td>\n",
              "      <td>False</td>\n",
              "      <td>False</td>\n",
              "      <td>USUG11904206</td>\n",
              "      <td>False</td>\n",
              "      <td>Blinding Lights</td>\n",
              "      <td>96</td>\n",
              "      <td>True</td>\n",
              "      <td>9</td>\n",
              "      <td>track</td>\n",
              "      <td>0.514</td>\n",
              "      <td>0.730</td>\n",
              "      <td>1</td>\n",
              "      <td>-5.934</td>\n",
              "      <td>1</td>\n",
              "      <td>0.0598</td>\n",
              "      <td>0.00146</td>\n",
              "      <td>0.000095</td>\n",
              "      <td>0.0897</td>\n",
              "      <td>0.334</td>\n",
              "      <td>171.005</td>\n",
              "      <td>0VjIjW4GlUZAMYd2vXMi3b</td>\n",
              "      <td>4</td>\n",
              "    </tr>\n",
              "    <tr>\n",
              "      <th>1</th>\n",
              "      <td>2020-12-01T05:02:00Z</td>\n",
              "      <td>False</td>\n",
              "      <td>user</td>\n",
              "      <td>single</td>\n",
              "      <td>31IDBea3eEs57a0joX6TjN</td>\n",
              "      <td>Dance Monkey</td>\n",
              "      <td>2019-05-10</td>\n",
              "      <td>day</td>\n",
              "      <td>1</td>\n",
              "      <td>album</td>\n",
              "      <td>1</td>\n",
              "      <td>209754</td>\n",
              "      <td>False</td>\n",
              "      <td>False</td>\n",
              "      <td>QZES71982312</td>\n",
              "      <td>False</td>\n",
              "      <td>Dance Monkey</td>\n",
              "      <td>68</td>\n",
              "      <td>True</td>\n",
              "      <td>1</td>\n",
              "      <td>track</td>\n",
              "      <td>0.825</td>\n",
              "      <td>0.593</td>\n",
              "      <td>6</td>\n",
              "      <td>-6.401</td>\n",
              "      <td>0</td>\n",
              "      <td>0.0988</td>\n",
              "      <td>0.68800</td>\n",
              "      <td>0.000161</td>\n",
              "      <td>0.1700</td>\n",
              "      <td>0.540</td>\n",
              "      <td>98.078</td>\n",
              "      <td>1rgnBhdG2JDFTbYkYRZAku</td>\n",
              "      <td>4</td>\n",
              "    </tr>\n",
              "    <tr>\n",
              "      <th>2</th>\n",
              "      <td>2020-12-01T05:02:00Z</td>\n",
              "      <td>False</td>\n",
              "      <td>user</td>\n",
              "      <td>album</td>\n",
              "      <td>52u4anZbHd6UInnmHRFzba</td>\n",
              "      <td>Please Excuse Me For Being Antisocial</td>\n",
              "      <td>2019-12-06</td>\n",
              "      <td>day</td>\n",
              "      <td>16</td>\n",
              "      <td>album</td>\n",
              "      <td>1</td>\n",
              "      <td>196652</td>\n",
              "      <td>False</td>\n",
              "      <td>True</td>\n",
              "      <td>USAT21906978</td>\n",
              "      <td>False</td>\n",
              "      <td>The Box</td>\n",
              "      <td>87</td>\n",
              "      <td>True</td>\n",
              "      <td>2</td>\n",
              "      <td>track</td>\n",
              "      <td>0.896</td>\n",
              "      <td>0.586</td>\n",
              "      <td>10</td>\n",
              "      <td>-6.687</td>\n",
              "      <td>0</td>\n",
              "      <td>0.0559</td>\n",
              "      <td>0.10400</td>\n",
              "      <td>0.000000</td>\n",
              "      <td>0.7900</td>\n",
              "      <td>0.642</td>\n",
              "      <td>116.971</td>\n",
              "      <td>0nbXyq5TXYPCO7pr3N8S4I</td>\n",
              "      <td>4</td>\n",
              "    </tr>\n",
              "    <tr>\n",
              "      <th>3</th>\n",
              "      <td>2020-12-01T05:02:00Z</td>\n",
              "      <td>False</td>\n",
              "      <td>user</td>\n",
              "      <td>single</td>\n",
              "      <td>6XcYTEonLIpg9NpAbJnqrC</td>\n",
              "      <td>Roses (Imanbek Remix)</td>\n",
              "      <td>2019-09-13</td>\n",
              "      <td>day</td>\n",
              "      <td>1</td>\n",
              "      <td>album</td>\n",
              "      <td>1</td>\n",
              "      <td>176218</td>\n",
              "      <td>False</td>\n",
              "      <td>True</td>\n",
              "      <td>RUB421901499</td>\n",
              "      <td>False</td>\n",
              "      <td>Roses - Imanbek Remix</td>\n",
              "      <td>66</td>\n",
              "      <td>True</td>\n",
              "      <td>1</td>\n",
              "      <td>track</td>\n",
              "      <td>0.785</td>\n",
              "      <td>0.721</td>\n",
              "      <td>8</td>\n",
              "      <td>-5.457</td>\n",
              "      <td>1</td>\n",
              "      <td>0.0506</td>\n",
              "      <td>0.01490</td>\n",
              "      <td>0.004320</td>\n",
              "      <td>0.2850</td>\n",
              "      <td>0.894</td>\n",
              "      <td>121.962</td>\n",
              "      <td>2Wo6QQD1KMDWeFkkjLqwx5</td>\n",
              "      <td>4</td>\n",
              "    </tr>\n",
              "    <tr>\n",
              "      <th>4</th>\n",
              "      <td>2020-12-01T05:02:00Z</td>\n",
              "      <td>False</td>\n",
              "      <td>user</td>\n",
              "      <td>album</td>\n",
              "      <td>7fJJK56U9fHixgO0HQkhtI</td>\n",
              "      <td>Future Nostalgia</td>\n",
              "      <td>2020-03-27</td>\n",
              "      <td>day</td>\n",
              "      <td>11</td>\n",
              "      <td>album</td>\n",
              "      <td>1</td>\n",
              "      <td>183290</td>\n",
              "      <td>False</td>\n",
              "      <td>False</td>\n",
              "      <td>GBAHT1901121</td>\n",
              "      <td>False</td>\n",
              "      <td>Don't Start Now</td>\n",
              "      <td>83</td>\n",
              "      <td>True</td>\n",
              "      <td>2</td>\n",
              "      <td>track</td>\n",
              "      <td>0.793</td>\n",
              "      <td>0.793</td>\n",
              "      <td>11</td>\n",
              "      <td>-4.521</td>\n",
              "      <td>0</td>\n",
              "      <td>0.0830</td>\n",
              "      <td>0.01230</td>\n",
              "      <td>0.000000</td>\n",
              "      <td>0.0951</td>\n",
              "      <td>0.679</td>\n",
              "      <td>123.950</td>\n",
              "      <td>3PfIrDoz19wz7qK7tYeu62</td>\n",
              "      <td>4</td>\n",
              "    </tr>\n",
              "  </tbody>\n",
              "</table>\n",
              "</div>"
            ],
            "text/plain": [
              "               added_at  is_local  ...                      id time_signature\n",
              "0  2020-12-01T05:02:00Z     False  ...  0VjIjW4GlUZAMYd2vXMi3b              4\n",
              "1  2020-12-01T05:02:00Z     False  ...  1rgnBhdG2JDFTbYkYRZAku              4\n",
              "2  2020-12-01T05:02:00Z     False  ...  0nbXyq5TXYPCO7pr3N8S4I              4\n",
              "3  2020-12-01T05:02:00Z     False  ...  2Wo6QQD1KMDWeFkkjLqwx5              4\n",
              "4  2020-12-01T05:02:00Z     False  ...  3PfIrDoz19wz7qK7tYeu62              4\n",
              "\n",
              "[5 rows x 34 columns]"
            ]
          },
          "metadata": {
            "tags": []
          },
          "execution_count": 81
        }
      ]
    },
    {
      "cell_type": "markdown",
      "metadata": {
        "id": "PSesETVxwY_o"
      },
      "source": [
        "Retiramos los datos que no nos son de utilidad"
      ]
    },
    {
      "cell_type": "code",
      "metadata": {
        "id": "aVHsrzOHkmeJ"
      },
      "source": [
        "rdf = df[['track.album.name','track.album.release_date','track.duration_ms','track.explicit','track.name','track.popularity','danceability','energy','key','loudness','mode','speechiness','acousticness','instrumentalness','liveness','valence','tempo']]"
      ],
      "execution_count": null,
      "outputs": []
    },
    {
      "cell_type": "code",
      "metadata": {
        "id": "Qk3xP5yfnSs3",
        "colab": {
          "base_uri": "https://localhost:8080/"
        },
        "outputId": "72a71ffa-bd58-4eb4-9e02-597adde8c832"
      },
      "source": [
        "rdf.head()"
      ],
      "execution_count": null,
      "outputs": [
        {
          "output_type": "execute_result",
          "data": {
            "text/html": [
              "<div>\n",
              "<style scoped>\n",
              "    .dataframe tbody tr th:only-of-type {\n",
              "        vertical-align: middle;\n",
              "    }\n",
              "\n",
              "    .dataframe tbody tr th {\n",
              "        vertical-align: top;\n",
              "    }\n",
              "\n",
              "    .dataframe thead th {\n",
              "        text-align: right;\n",
              "    }\n",
              "</style>\n",
              "<table border=\"1\" class=\"dataframe\">\n",
              "  <thead>\n",
              "    <tr style=\"text-align: right;\">\n",
              "      <th></th>\n",
              "      <th>track.album.name</th>\n",
              "      <th>track.album.release_date</th>\n",
              "      <th>track.duration_ms</th>\n",
              "      <th>track.explicit</th>\n",
              "      <th>track.name</th>\n",
              "      <th>track.popularity</th>\n",
              "      <th>danceability</th>\n",
              "      <th>energy</th>\n",
              "      <th>key</th>\n",
              "      <th>loudness</th>\n",
              "      <th>mode</th>\n",
              "      <th>speechiness</th>\n",
              "      <th>acousticness</th>\n",
              "      <th>instrumentalness</th>\n",
              "      <th>liveness</th>\n",
              "      <th>valence</th>\n",
              "      <th>tempo</th>\n",
              "    </tr>\n",
              "  </thead>\n",
              "  <tbody>\n",
              "    <tr>\n",
              "      <th>0</th>\n",
              "      <td>After Hours</td>\n",
              "      <td>2020-03-20</td>\n",
              "      <td>200040</td>\n",
              "      <td>False</td>\n",
              "      <td>Blinding Lights</td>\n",
              "      <td>96</td>\n",
              "      <td>0.514</td>\n",
              "      <td>0.730</td>\n",
              "      <td>1</td>\n",
              "      <td>-5.934</td>\n",
              "      <td>1</td>\n",
              "      <td>0.0598</td>\n",
              "      <td>0.00146</td>\n",
              "      <td>0.000095</td>\n",
              "      <td>0.0897</td>\n",
              "      <td>0.334</td>\n",
              "      <td>171.005</td>\n",
              "    </tr>\n",
              "    <tr>\n",
              "      <th>1</th>\n",
              "      <td>Dance Monkey</td>\n",
              "      <td>2019-05-10</td>\n",
              "      <td>209754</td>\n",
              "      <td>False</td>\n",
              "      <td>Dance Monkey</td>\n",
              "      <td>68</td>\n",
              "      <td>0.825</td>\n",
              "      <td>0.593</td>\n",
              "      <td>6</td>\n",
              "      <td>-6.401</td>\n",
              "      <td>0</td>\n",
              "      <td>0.0988</td>\n",
              "      <td>0.68800</td>\n",
              "      <td>0.000161</td>\n",
              "      <td>0.1700</td>\n",
              "      <td>0.540</td>\n",
              "      <td>98.078</td>\n",
              "    </tr>\n",
              "    <tr>\n",
              "      <th>2</th>\n",
              "      <td>Please Excuse Me For Being Antisocial</td>\n",
              "      <td>2019-12-06</td>\n",
              "      <td>196652</td>\n",
              "      <td>True</td>\n",
              "      <td>The Box</td>\n",
              "      <td>87</td>\n",
              "      <td>0.896</td>\n",
              "      <td>0.586</td>\n",
              "      <td>10</td>\n",
              "      <td>-6.687</td>\n",
              "      <td>0</td>\n",
              "      <td>0.0559</td>\n",
              "      <td>0.10400</td>\n",
              "      <td>0.000000</td>\n",
              "      <td>0.7900</td>\n",
              "      <td>0.642</td>\n",
              "      <td>116.971</td>\n",
              "    </tr>\n",
              "    <tr>\n",
              "      <th>3</th>\n",
              "      <td>Roses (Imanbek Remix)</td>\n",
              "      <td>2019-09-13</td>\n",
              "      <td>176218</td>\n",
              "      <td>True</td>\n",
              "      <td>Roses - Imanbek Remix</td>\n",
              "      <td>66</td>\n",
              "      <td>0.785</td>\n",
              "      <td>0.721</td>\n",
              "      <td>8</td>\n",
              "      <td>-5.457</td>\n",
              "      <td>1</td>\n",
              "      <td>0.0506</td>\n",
              "      <td>0.01490</td>\n",
              "      <td>0.004320</td>\n",
              "      <td>0.2850</td>\n",
              "      <td>0.894</td>\n",
              "      <td>121.962</td>\n",
              "    </tr>\n",
              "    <tr>\n",
              "      <th>4</th>\n",
              "      <td>Future Nostalgia</td>\n",
              "      <td>2020-03-27</td>\n",
              "      <td>183290</td>\n",
              "      <td>False</td>\n",
              "      <td>Don't Start Now</td>\n",
              "      <td>83</td>\n",
              "      <td>0.793</td>\n",
              "      <td>0.793</td>\n",
              "      <td>11</td>\n",
              "      <td>-4.521</td>\n",
              "      <td>0</td>\n",
              "      <td>0.0830</td>\n",
              "      <td>0.01230</td>\n",
              "      <td>0.000000</td>\n",
              "      <td>0.0951</td>\n",
              "      <td>0.679</td>\n",
              "      <td>123.950</td>\n",
              "    </tr>\n",
              "  </tbody>\n",
              "</table>\n",
              "</div>"
            ],
            "text/plain": [
              "                        track.album.name  ...    tempo\n",
              "0                            After Hours  ...  171.005\n",
              "1                           Dance Monkey  ...   98.078\n",
              "2  Please Excuse Me For Being Antisocial  ...  116.971\n",
              "3                  Roses (Imanbek Remix)  ...  121.962\n",
              "4                       Future Nostalgia  ...  123.950\n",
              "\n",
              "[5 rows x 17 columns]"
            ]
          },
          "metadata": {
            "tags": []
          },
          "execution_count": 83
        }
      ]
    },
    {
      "cell_type": "markdown",
      "metadata": {
        "id": "Sq0ak9BTW2Eo"
      },
      "source": [
        ""
      ]
    },
    {
      "cell_type": "markdown",
      "metadata": {
        "id": "-TiLzrsLxhOI"
      },
      "source": [
        "#Visualización de gráficas"
      ]
    },
    {
      "cell_type": "markdown",
      "metadata": {
        "id": "pg4mlHdXYtN8"
      },
      "source": [
        "##Graficas de barras"
      ]
    },
    {
      "cell_type": "code",
      "metadata": {
        "id": "D_Cwyip8ujUR",
        "colab": {
          "base_uri": "https://localhost:8080/",
          "height": 373
        },
        "outputId": "af3115f6-6c07-48d1-a1ab-4dcfc72b7cb6"
      },
      "source": [
        "plt.style.use('ggplot')\n",
        "\n",
        "sns.distplot(df['track.duration_ms'], kde=False, norm_hist=False);"
      ],
      "execution_count": null,
      "outputs": [
        {
          "output_type": "stream",
          "text": [
            "/usr/local/lib/python3.7/dist-packages/seaborn/distributions.py:2557: FutureWarning:\n",
            "\n",
            "`distplot` is a deprecated function and will be removed in a future version. Please adapt your code to use either `displot` (a figure-level function with similar flexibility) or `histplot` (an axes-level function for histograms).\n",
            "\n"
          ],
          "name": "stderr"
        },
        {
          "output_type": "display_data",
          "data": {
            "image/png": "[encoded data removed]",
            "text/plain": [
              "<Figure size 432x288 with 1 Axes>"
            ]
          },
          "metadata": {
            "tags": []
          }
        }
      ]
    },
    {
      "cell_type": "code",
      "metadata": {
        "colab": {
          "base_uri": "https://localhost:8080/",
          "height": 373
        },
        "id": "epY3_b5dXfzn",
        "outputId": "60374a7e-f0e3-49cf-a1e7-7864e3e2a43d"
      },
      "source": [
        "plt.style.use('ggplot')\n",
        "\n",
        "sns.distplot(df['track.popularity'], kde=False, norm_hist=False);"
      ],
      "execution_count": null,
      "outputs": [
        {
          "output_type": "stream",
          "text": [
            "/usr/local/lib/python3.7/dist-packages/seaborn/distributions.py:2557: FutureWarning:\n",
            "\n",
            "`distplot` is a deprecated function and will be removed in a future version. Please adapt your code to use either `displot` (a figure-level function with similar flexibility) or `histplot` (an axes-level function for histograms).\n",
            "\n"
          ],
          "name": "stderr"
        },
        {
          "output_type": "display_data",
          "data": {
            "image/png": "[encoded data removed]",
            "text/plain": [
              "<Figure size 432x288 with 1 Axes>"
            ]
          },
          "metadata": {
            "tags": []
          }
        }
      ]
    },
    {
      "cell_type": "code",
      "metadata": {
        "colab": {
          "base_uri": "https://localhost:8080/",
          "height": 373
        },
        "id": "xNvhwkj4Xf_-",
        "outputId": "67e663d2-f4d1-4604-94d6-093493d4b23b"
      },
      "source": [
        "plt.style.use('ggplot')\n",
        "\n",
        "sns.distplot(df['danceability'], kde=False, norm_hist=False);"
      ],
      "execution_count": null,
      "outputs": [
        {
          "output_type": "stream",
          "text": [
            "/usr/local/lib/python3.7/dist-packages/seaborn/distributions.py:2557: FutureWarning:\n",
            "\n",
            "`distplot` is a deprecated function and will be removed in a future version. Please adapt your code to use either `displot` (a figure-level function with similar flexibility) or `histplot` (an axes-level function for histograms).\n",
            "\n"
          ],
          "name": "stderr"
        },
        {
          "output_type": "display_data",
          "data": {
            "image/png": "[encoded data removed]",
            "text/plain": [
              "<Figure size 432x288 with 1 Axes>"
            ]
          },
          "metadata": {
            "tags": []
          }
        }
      ]
    },
    {
      "cell_type": "code",
      "metadata": {
        "colab": {
          "base_uri": "https://localhost:8080/",
          "height": 373
        },
        "id": "7-d_s9-NX27H",
        "outputId": "ea12dfd7-c694-4a8c-f0dd-fdbb4c0f6411"
      },
      "source": [
        "plt.style.use('ggplot')\n",
        "\n",
        "sns.distplot(df['energy'], kde=False, norm_hist=False);"
      ],
      "execution_count": null,
      "outputs": [
        {
          "output_type": "stream",
          "text": [
            "/usr/local/lib/python3.7/dist-packages/seaborn/distributions.py:2557: FutureWarning:\n",
            "\n",
            "`distplot` is a deprecated function and will be removed in a future version. Please adapt your code to use either `displot` (a figure-level function with similar flexibility) or `histplot` (an axes-level function for histograms).\n",
            "\n"
          ],
          "name": "stderr"
        },
        {
          "output_type": "display_data",
          "data": {
            "image/png": "[encoded data removed]",
            "text/plain": [
              "<Figure size 432x288 with 1 Axes>"
            ]
          },
          "metadata": {
            "tags": []
          }
        }
      ]
    },
    {
      "cell_type": "code",
      "metadata": {
        "colab": {
          "base_uri": "https://localhost:8080/",
          "height": 373
        },
        "id": "JfErQ-1ZX3Go",
        "outputId": "7808e82e-2351-48bd-e4a4-7bea0c0e914d"
      },
      "source": [
        "plt.style.use('ggplot')\n",
        "\n",
        "sns.distplot(df['key'], kde=False, norm_hist=False);"
      ],
      "execution_count": null,
      "outputs": [
        {
          "output_type": "stream",
          "text": [
            "/usr/local/lib/python3.7/dist-packages/seaborn/distributions.py:2557: FutureWarning:\n",
            "\n",
            "`distplot` is a deprecated function and will be removed in a future version. Please adapt your code to use either `displot` (a figure-level function with similar flexibility) or `histplot` (an axes-level function for histograms).\n",
            "\n"
          ],
          "name": "stderr"
        },
        {
          "output_type": "display_data",
          "data": {
            "image/png": "[encoded data removed]",
            "text/plain": [
              "<Figure size 432x288 with 1 Axes>"
            ]
          },
          "metadata": {
            "tags": []
          }
        }
      ]
    },
    {
      "cell_type": "code",
      "metadata": {
        "colab": {
          "base_uri": "https://localhost:8080/",
          "height": 373
        },
        "id": "fXBjVJ1RX3Q_",
        "outputId": "3744b480-b12f-47d8-f189-922c42675365"
      },
      "source": [
        "plt.style.use('ggplot')\n",
        "\n",
        "sns.distplot(df['loudness'], kde=False, norm_hist=False);"
      ],
      "execution_count": null,
      "outputs": [
        {
          "output_type": "stream",
          "text": [
            "/usr/local/lib/python3.7/dist-packages/seaborn/distributions.py:2557: FutureWarning:\n",
            "\n",
            "`distplot` is a deprecated function and will be removed in a future version. Please adapt your code to use either `displot` (a figure-level function with similar flexibility) or `histplot` (an axes-level function for histograms).\n",
            "\n"
          ],
          "name": "stderr"
        },
        {
          "output_type": "display_data",
          "data": {
            "image/png": "[encoded data removed]",
            "text/plain": [
              "<Figure size 432x288 with 1 Axes>"
            ]
          },
          "metadata": {
            "tags": []
          }
        }
      ]
    },
    {
      "cell_type": "code",
      "metadata": {
        "colab": {
          "base_uri": "https://localhost:8080/",
          "height": 373
        },
        "id": "plapIeYLX3b_",
        "outputId": "2632477a-ae65-4638-f99d-36c02754355f"
      },
      "source": [
        "plt.style.use('ggplot')\n",
        "\n",
        "sns.distplot(df['speechiness'], kde=False, norm_hist=False);"
      ],
      "execution_count": null,
      "outputs": [
        {
          "output_type": "stream",
          "text": [
            "/usr/local/lib/python3.7/dist-packages/seaborn/distributions.py:2557: FutureWarning:\n",
            "\n",
            "`distplot` is a deprecated function and will be removed in a future version. Please adapt your code to use either `displot` (a figure-level function with similar flexibility) or `histplot` (an axes-level function for histograms).\n",
            "\n"
          ],
          "name": "stderr"
        },
        {
          "output_type": "display_data",
          "data": {
            "image/png": "[encoded data removed]",
            "text/plain": [
              "<Figure size 432x288 with 1 Axes>"
            ]
          },
          "metadata": {
            "tags": []
          }
        }
      ]
    },
    {
      "cell_type": "code",
      "metadata": {
        "colab": {
          "base_uri": "https://localhost:8080/",
          "height": 373
        },
        "id": "1XrMwWjlX3lI",
        "outputId": "d78fd31d-5b19-47d4-9d15-d1d238cdb0c1"
      },
      "source": [
        "plt.style.use('ggplot')\n",
        "\n",
        "sns.distplot(df['acousticness'], kde=False, norm_hist=False);"
      ],
      "execution_count": null,
      "outputs": [
        {
          "output_type": "stream",
          "text": [
            "/usr/local/lib/python3.7/dist-packages/seaborn/distributions.py:2557: FutureWarning:\n",
            "\n",
            "`distplot` is a deprecated function and will be removed in a future version. Please adapt your code to use either `displot` (a figure-level function with similar flexibility) or `histplot` (an axes-level function for histograms).\n",
            "\n"
          ],
          "name": "stderr"
        },
        {
          "output_type": "display_data",
          "data": {
            "image/png": "[encoded data removed]",
            "text/plain": [
              "<Figure size 432x288 with 1 Axes>"
            ]
          },
          "metadata": {
            "tags": []
          }
        }
      ]
    },
    {
      "cell_type": "code",
      "metadata": {
        "colab": {
          "base_uri": "https://localhost:8080/",
          "height": 373
        },
        "id": "hE2ELzU0YJGT",
        "outputId": "4a4955c7-a612-44e5-dce2-27c5d13ca283"
      },
      "source": [
        "plt.style.use('ggplot')\n",
        "\n",
        "sns.distplot(df['instrumentalness'], kde=False, norm_hist=False);"
      ],
      "execution_count": null,
      "outputs": [
        {
          "output_type": "stream",
          "text": [
            "/usr/local/lib/python3.7/dist-packages/seaborn/distributions.py:2557: FutureWarning:\n",
            "\n",
            "`distplot` is a deprecated function and will be removed in a future version. Please adapt your code to use either `displot` (a figure-level function with similar flexibility) or `histplot` (an axes-level function for histograms).\n",
            "\n"
          ],
          "name": "stderr"
        },
        {
          "output_type": "display_data",
          "data": {
            "image/png": "[encoded data removed]",
            "text/plain": [
              "<Figure size 432x288 with 1 Axes>"
            ]
          },
          "metadata": {
            "tags": []
          }
        }
      ]
    },
    {
      "cell_type": "code",
      "metadata": {
        "colab": {
          "base_uri": "https://localhost:8080/",
          "height": 373
        },
        "id": "r_mJi6BMYJP8",
        "outputId": "fb0649b2-00f1-4a27-95b7-00c62da32296"
      },
      "source": [
        "plt.style.use('ggplot')\n",
        "\n",
        "sns.distplot(df['liveness'], kde=False, norm_hist=False);"
      ],
      "execution_count": null,
      "outputs": [
        {
          "output_type": "stream",
          "text": [
            "/usr/local/lib/python3.7/dist-packages/seaborn/distributions.py:2557: FutureWarning:\n",
            "\n",
            "`distplot` is a deprecated function and will be removed in a future version. Please adapt your code to use either `displot` (a figure-level function with similar flexibility) or `histplot` (an axes-level function for histograms).\n",
            "\n"
          ],
          "name": "stderr"
        },
        {
          "output_type": "display_data",
          "data": {
            "image/png": "[encoded data removed]",
            "text/plain": [
              "<Figure size 432x288 with 1 Axes>"
            ]
          },
          "metadata": {
            "tags": []
          }
        }
      ]
    },
    {
      "cell_type": "code",
      "metadata": {
        "colab": {
          "base_uri": "https://localhost:8080/",
          "height": 373
        },
        "id": "S2dVIcIEYJ5h",
        "outputId": "81f5299a-e1a3-498c-b4eb-18f207b4303b"
      },
      "source": [
        "plt.style.use('ggplot')\n",
        "\n",
        "sns.distplot(df['valence'], kde=False, norm_hist=False);"
      ],
      "execution_count": null,
      "outputs": [
        {
          "output_type": "stream",
          "text": [
            "/usr/local/lib/python3.7/dist-packages/seaborn/distributions.py:2557: FutureWarning:\n",
            "\n",
            "`distplot` is a deprecated function and will be removed in a future version. Please adapt your code to use either `displot` (a figure-level function with similar flexibility) or `histplot` (an axes-level function for histograms).\n",
            "\n"
          ],
          "name": "stderr"
        },
        {
          "output_type": "display_data",
          "data": {
            "image/png": "[encoded data removed]",
            "text/plain": [
              "<Figure size 432x288 with 1 Axes>"
            ]
          },
          "metadata": {
            "tags": []
          }
        }
      ]
    },
    {
      "cell_type": "code",
      "metadata": {
        "colab": {
          "base_uri": "https://localhost:8080/",
          "height": 373
        },
        "id": "kYen1uH6YTUP",
        "outputId": "996dcf62-9d8c-47ae-a40d-33a2885f0a73"
      },
      "source": [
        "plt.style.use('ggplot')\n",
        "\n",
        "sns.distplot(df['tempo'], kde=False, norm_hist=False);"
      ],
      "execution_count": null,
      "outputs": [
        {
          "output_type": "stream",
          "text": [
            "/usr/local/lib/python3.7/dist-packages/seaborn/distributions.py:2557: FutureWarning:\n",
            "\n",
            "`distplot` is a deprecated function and will be removed in a future version. Please adapt your code to use either `displot` (a figure-level function with similar flexibility) or `histplot` (an axes-level function for histograms).\n",
            "\n"
          ],
          "name": "stderr"
        },
        {
          "output_type": "display_data",
          "data": {
            "image/png": "[encoded data removed]",
            "text/plain": [
              "<Figure size 432x288 with 1 Axes>"
            ]
          },
          "metadata": {
            "tags": []
          }
        }
      ]
    },
    {
      "cell_type": "markdown",
      "metadata": {
        "id": "zVPy2uF2Yhkj"
      },
      "source": [
        "##Treemaps\n"
      ]
    },
    {
      "cell_type": "code",
      "metadata": {
        "colab": {
          "base_uri": "https://localhost:8080/",
          "height": 317
        },
        "id": "jjs8EOoVZpSG",
        "outputId": "e992fb78-a17c-44cd-cd0e-40765b7e7a3f"
      },
      "source": [
        "rdf.head()"
      ],
      "execution_count": null,
      "outputs": [
        {
          "output_type": "execute_result",
          "data": {
            "text/html": [
              "<div>\n",
              "<style scoped>\n",
              "    .dataframe tbody tr th:only-of-type {\n",
              "        vertical-align: middle;\n",
              "    }\n",
              "\n",
              "    .dataframe tbody tr th {\n",
              "        vertical-align: top;\n",
              "    }\n",
              "\n",
              "    .dataframe thead th {\n",
              "        text-align: right;\n",
              "    }\n",
              "</style>\n",
              "<table border=\"1\" class=\"dataframe\">\n",
              "  <thead>\n",
              "    <tr style=\"text-align: right;\">\n",
              "      <th></th>\n",
              "      <th>track.album.name</th>\n",
              "      <th>track.album.release_date</th>\n",
              "      <th>track.duration_ms</th>\n",
              "      <th>track.explicit</th>\n",
              "      <th>track.name</th>\n",
              "      <th>track.popularity</th>\n",
              "      <th>danceability</th>\n",
              "      <th>energy</th>\n",
              "      <th>key</th>\n",
              "      <th>loudness</th>\n",
              "      <th>mode</th>\n",
              "      <th>speechiness</th>\n",
              "      <th>acousticness</th>\n",
              "      <th>instrumentalness</th>\n",
              "      <th>liveness</th>\n",
              "      <th>valence</th>\n",
              "      <th>tempo</th>\n",
              "    </tr>\n",
              "  </thead>\n",
              "  <tbody>\n",
              "    <tr>\n",
              "      <th>0</th>\n",
              "      <td>After Hours</td>\n",
              "      <td>2020-03-20</td>\n",
              "      <td>200040</td>\n",
              "      <td>False</td>\n",
              "      <td>Blinding Lights</td>\n",
              "      <td>96</td>\n",
              "      <td>0.514</td>\n",
              "      <td>0.730</td>\n",
              "      <td>1</td>\n",
              "      <td>-5.934</td>\n",
              "      <td>1</td>\n",
              "      <td>0.0598</td>\n",
              "      <td>0.00146</td>\n",
              "      <td>0.000095</td>\n",
              "      <td>0.0897</td>\n",
              "      <td>0.334</td>\n",
              "      <td>171.005</td>\n",
              "    </tr>\n",
              "    <tr>\n",
              "      <th>1</th>\n",
              "      <td>Dance Monkey</td>\n",
              "      <td>2019-05-10</td>\n",
              "      <td>209754</td>\n",
              "      <td>False</td>\n",
              "      <td>Dance Monkey</td>\n",
              "      <td>68</td>\n",
              "      <td>0.825</td>\n",
              "      <td>0.593</td>\n",
              "      <td>6</td>\n",
              "      <td>-6.401</td>\n",
              "      <td>0</td>\n",
              "      <td>0.0988</td>\n",
              "      <td>0.68800</td>\n",
              "      <td>0.000161</td>\n",
              "      <td>0.1700</td>\n",
              "      <td>0.540</td>\n",
              "      <td>98.078</td>\n",
              "    </tr>\n",
              "    <tr>\n",
              "      <th>2</th>\n",
              "      <td>Please Excuse Me For Being Antisocial</td>\n",
              "      <td>2019-12-06</td>\n",
              "      <td>196652</td>\n",
              "      <td>True</td>\n",
              "      <td>The Box</td>\n",
              "      <td>87</td>\n",
              "      <td>0.896</td>\n",
              "      <td>0.586</td>\n",
              "      <td>10</td>\n",
              "      <td>-6.687</td>\n",
              "      <td>0</td>\n",
              "      <td>0.0559</td>\n",
              "      <td>0.10400</td>\n",
              "      <td>0.000000</td>\n",
              "      <td>0.7900</td>\n",
              "      <td>0.642</td>\n",
              "      <td>116.971</td>\n",
              "    </tr>\n",
              "    <tr>\n",
              "      <th>3</th>\n",
              "      <td>Roses (Imanbek Remix)</td>\n",
              "      <td>2019-09-13</td>\n",
              "      <td>176218</td>\n",
              "      <td>True</td>\n",
              "      <td>Roses - Imanbek Remix</td>\n",
              "      <td>66</td>\n",
              "      <td>0.785</td>\n",
              "      <td>0.721</td>\n",
              "      <td>8</td>\n",
              "      <td>-5.457</td>\n",
              "      <td>1</td>\n",
              "      <td>0.0506</td>\n",
              "      <td>0.01490</td>\n",
              "      <td>0.004320</td>\n",
              "      <td>0.2850</td>\n",
              "      <td>0.894</td>\n",
              "      <td>121.962</td>\n",
              "    </tr>\n",
              "    <tr>\n",
              "      <th>4</th>\n",
              "      <td>Future Nostalgia</td>\n",
              "      <td>2020-03-27</td>\n",
              "      <td>183290</td>\n",
              "      <td>False</td>\n",
              "      <td>Don't Start Now</td>\n",
              "      <td>83</td>\n",
              "      <td>0.793</td>\n",
              "      <td>0.793</td>\n",
              "      <td>11</td>\n",
              "      <td>-4.521</td>\n",
              "      <td>0</td>\n",
              "      <td>0.0830</td>\n",
              "      <td>0.01230</td>\n",
              "      <td>0.000000</td>\n",
              "      <td>0.0951</td>\n",
              "      <td>0.679</td>\n",
              "      <td>123.950</td>\n",
              "    </tr>\n",
              "  </tbody>\n",
              "</table>\n",
              "</div>"
            ],
            "text/plain": [
              "                        track.album.name  ...    tempo\n",
              "0                            After Hours  ...  171.005\n",
              "1                           Dance Monkey  ...   98.078\n",
              "2  Please Excuse Me For Being Antisocial  ...  116.971\n",
              "3                  Roses (Imanbek Remix)  ...  121.962\n",
              "4                       Future Nostalgia  ...  123.950\n",
              "\n",
              "[5 rows x 17 columns]"
            ]
          },
          "metadata": {
            "tags": []
          },
          "execution_count": 97
        }
      ]
    },
    {
      "cell_type": "code",
      "metadata": {
        "id": "7AosAoT_ZRtX",
        "colab": {
          "base_uri": "https://localhost:8080/",
          "height": 364
        },
        "outputId": "59d02f78-624a-4efb-a99b-f47b77c84ace"
      },
      "source": [
        "df_grouped = df.groupby('track.popularity')[['track.name','track.duration_ms','track.explicit','danceability','energy','key','loudness','mode','speechiness','acousticness','instrumentalness','liveness','valence','tempo']].max()\n",
        "\n",
        "df_grouped.head()"
      ],
      "execution_count": null,
      "outputs": [
        {
          "output_type": "execute_result",
          "data": {
            "text/html": [
              "<div>\n",
              "<style scoped>\n",
              "    .dataframe tbody tr th:only-of-type {\n",
              "        vertical-align: middle;\n",
              "    }\n",
              "\n",
              "    .dataframe tbody tr th {\n",
              "        vertical-align: top;\n",
              "    }\n",
              "\n",
              "    .dataframe thead th {\n",
              "        text-align: right;\n",
              "    }\n",
              "</style>\n",
              "<table border=\"1\" class=\"dataframe\">\n",
              "  <thead>\n",
              "    <tr style=\"text-align: right;\">\n",
              "      <th></th>\n",
              "      <th>track.name</th>\n",
              "      <th>track.duration_ms</th>\n",
              "      <th>track.explicit</th>\n",
              "      <th>danceability</th>\n",
              "      <th>energy</th>\n",
              "      <th>key</th>\n",
              "      <th>loudness</th>\n",
              "      <th>mode</th>\n",
              "      <th>speechiness</th>\n",
              "      <th>acousticness</th>\n",
              "      <th>instrumentalness</th>\n",
              "      <th>liveness</th>\n",
              "      <th>valence</th>\n",
              "      <th>tempo</th>\n",
              "    </tr>\n",
              "    <tr>\n",
              "      <th>track.popularity</th>\n",
              "      <th></th>\n",
              "      <th></th>\n",
              "      <th></th>\n",
              "      <th></th>\n",
              "      <th></th>\n",
              "      <th></th>\n",
              "      <th></th>\n",
              "      <th></th>\n",
              "      <th></th>\n",
              "      <th></th>\n",
              "      <th></th>\n",
              "      <th></th>\n",
              "      <th></th>\n",
              "      <th></th>\n",
              "    </tr>\n",
              "  </thead>\n",
              "  <tbody>\n",
              "    <tr>\n",
              "      <th>0</th>\n",
              "      <td>You &amp; Me</td>\n",
              "      <td>271426</td>\n",
              "      <td>True</td>\n",
              "      <td>0.903</td>\n",
              "      <td>0.915</td>\n",
              "      <td>11</td>\n",
              "      <td>-2.215</td>\n",
              "      <td>1</td>\n",
              "      <td>0.370</td>\n",
              "      <td>0.839</td>\n",
              "      <td>0.44500</td>\n",
              "      <td>0.452</td>\n",
              "      <td>0.965</td>\n",
              "      <td>179.666</td>\n",
              "    </tr>\n",
              "    <tr>\n",
              "      <th>1</th>\n",
              "      <td>When You Love Someone</td>\n",
              "      <td>288670</td>\n",
              "      <td>True</td>\n",
              "      <td>0.906</td>\n",
              "      <td>0.865</td>\n",
              "      <td>11</td>\n",
              "      <td>-2.396</td>\n",
              "      <td>1</td>\n",
              "      <td>0.282</td>\n",
              "      <td>0.590</td>\n",
              "      <td>0.22500</td>\n",
              "      <td>0.325</td>\n",
              "      <td>0.863</td>\n",
              "      <td>186.054</td>\n",
              "    </tr>\n",
              "    <tr>\n",
              "      <th>2</th>\n",
              "      <td>There's Nothing Holdin' Me Back</td>\n",
              "      <td>305746</td>\n",
              "      <td>False</td>\n",
              "      <td>0.894</td>\n",
              "      <td>0.930</td>\n",
              "      <td>11</td>\n",
              "      <td>-2.974</td>\n",
              "      <td>1</td>\n",
              "      <td>0.438</td>\n",
              "      <td>0.835</td>\n",
              "      <td>0.15000</td>\n",
              "      <td>0.351</td>\n",
              "      <td>0.968</td>\n",
              "      <td>198.065</td>\n",
              "    </tr>\n",
              "    <tr>\n",
              "      <th>3</th>\n",
              "      <td>Up (feat. Demi Lovato)</td>\n",
              "      <td>228200</td>\n",
              "      <td>False</td>\n",
              "      <td>0.774</td>\n",
              "      <td>0.845</td>\n",
              "      <td>9</td>\n",
              "      <td>-4.432</td>\n",
              "      <td>1</td>\n",
              "      <td>0.170</td>\n",
              "      <td>0.209</td>\n",
              "      <td>0.21000</td>\n",
              "      <td>0.155</td>\n",
              "      <td>0.846</td>\n",
              "      <td>177.833</td>\n",
              "    </tr>\n",
              "    <tr>\n",
              "      <th>4</th>\n",
              "      <td>One Dance</td>\n",
              "      <td>221653</td>\n",
              "      <td>False</td>\n",
              "      <td>0.791</td>\n",
              "      <td>0.779</td>\n",
              "      <td>5</td>\n",
              "      <td>-4.449</td>\n",
              "      <td>1</td>\n",
              "      <td>0.221</td>\n",
              "      <td>0.489</td>\n",
              "      <td>0.00423</td>\n",
              "      <td>0.636</td>\n",
              "      <td>0.768</td>\n",
              "      <td>175.813</td>\n",
              "    </tr>\n",
              "  </tbody>\n",
              "</table>\n",
              "</div>"
            ],
            "text/plain": [
              "                                       track.name  ...    tempo\n",
              "track.popularity                                   ...         \n",
              "0                                        You & Me  ...  179.666\n",
              "1                           When You Love Someone  ...  186.054\n",
              "2                 There's Nothing Holdin' Me Back  ...  198.065\n",
              "3                          Up (feat. Demi Lovato)  ...  177.833\n",
              "4                                       One Dance  ...  175.813\n",
              "\n",
              "[5 rows x 14 columns]"
            ]
          },
          "metadata": {
            "tags": []
          },
          "execution_count": 98
        }
      ]
    },
    {
      "cell_type": "code",
      "metadata": {
        "id": "WTR0PlKXZRtY"
      },
      "source": [
        "df_grouped['count'] = 1"
      ],
      "execution_count": null,
      "outputs": []
    },
    {
      "cell_type": "code",
      "metadata": {
        "colab": {
          "base_uri": "https://localhost:8080/",
          "height": 542
        },
        "id": "3cb8MG8qbYAE",
        "outputId": "158e2510-c928-4c71-97d1-404f349dfbfe"
      },
      "source": [
        "fig = px.treemap(df_grouped, path=['track.explicit','track.name'], values='count',title='Canciones explicitas')\n",
        "\n",
        "fig.show()"
      ],
      "execution_count": null,
      "outputs": [
        {
          "output_type": "display_data",
          "data": {
            "text/html": [
              "<html>\n",
              "<head><meta charset=\"utf-8\" /></head>\n",
              "<body>\n",
              "    <div>            <script src=\"https://cdnjs.cloudflare.com/ajax/libs/mathjax/2.7.5/MathJax.js?config=TeX-AMS-MML_SVG\"></script><script type=\"text/javascript\">if (window.MathJax) {MathJax.Hub.Config({SVG: {font: \"STIX-Web\"}});}</script>                <script type=\"text/javascript\">window.PlotlyConfig = {MathJaxConfig: 'local'};</script>\n",
              "        <script src=\"https://cdn.plot.ly/plotly-latest.min.js\"></script>                <div id=\"3f2100cf-b667-457e-9d7a-5f1576158ef3\" class=\"plotly-graph-div\" style=\"height:525px; width:100%;\"></div>            <script type=\"text/javascript\">                                    window.PLOTLYENV=window.PLOTLYENV || {};                                    if (document.getElementById(\"3f2100cf-b667-457e-9d7a-5f1576158ef3\")) {                    Plotly.newPlot(                        \"3f2100cf-b667-457e-9d7a-5f1576158ef3\",                        [{\"branchvalues\": \"total\", \"domain\": {\"x\": [0.0, 1.0], \"y\": [0.0, 1.0]}, \"hovertemplate\": \"labels=%{label}<br>count=%{value}<br>parent=%{parent}<br>id=%{id}<extra></extra>\", \"ids\": [\"False/Blinding Lights\", \"False/Body (feat. brando)\", \"False/Chasing Pavements\", \"False/Hello\", \"False/Let Me Think About It\", \"False/Lyla\", \"True/Mood (feat. iann dior)\", \"False/Need U (100%) [feat. A*M*E] - Radio Edit\", \"False/Not In Love - Radio Mix\", \"False/One Dance\", \"True/Power Trip (feat. Miguel)\", \"True/Rolling in the Deep\", \"False/Romeo\", \"True/See You Again\", \"False/Seven Nation Army\", \"False/So Am I\", \"False/Stop Crying Your Heart Out\", \"True/Stupid Girls\", \"True/Super Bass\", \"False/Sweater Weather\", \"False/Sweet Dreams My LA Ex - Radio Edit\", \"True/Sweet Lovin' - Radio Edit\", \"False/Sweet but Psycho\", \"False/The Creeps - Fedde Le Grand Radio Mix\", \"False/The Logical Song\", \"True/The Whole World (feat. Killer Mike)\", \"False/There's Nothing Holdin' Me Back\", \"True/Thunder in My Heart Again (Radio Edit)\", \"True/Touch My Body\", \"False/Turn Off The Light\", \"True/U + Ur Hand\", \"True/Ugly Heart\", \"False/Up (feat. Demi Lovato)\", \"False/Valerie - Version Revisited\", \"False/Wake Me Up\", \"False/Water Under The Bridge\", \"True/Watermelon Sugar\", \"False/Waves - Robin Schulz Radio Edit\", \"False/What You Know\", \"True/What's Left Of Me\", \"True/When It's Over - David Kahne Main\", \"True/When We Collide\", \"True/When We Were Young\", \"True/When You Love Someone\", \"True/Wherever You Will Go\", \"False/White Flag\", \"False/Who Knew\", \"True/Why Don't You & I (feat. Chad Kroeger)\", \"True/Why'd You Only Call Me When You're High?\", \"True/Wifey\", \"False/Wings\", \"True/Wings\", \"True/Wish You Well\", \"False/With Every Heartbeat\", \"True/Wonderful\", \"True/Work\", \"True/Wow.\", \"True/Yeah! (feat. Lil Jon & Ludacris)\", \"True/Yo (Excuse Me Miss)\", \"True/You & Me\", \"True/You Belong With Me\", \"True/You Don't Know My Name\", \"True/You Make It Easy\", \"True/You Make Me Feel... (feat. Sabi)\", \"True/You Raise Me Up\", \"True/You Sang To Me\", \"True/Young Forever\", \"True/Young, Wild & Free (feat. Bruno Mars)\", \"True/Your Body\", \"True/Your Love Is My Drug\", \"True/Your Song\", \"True/Youth of the Nation\", \"True/Yummy\", \"True/boyfriend (with Social House)\", \"True/bury a friend\", \"True/do re mi\", \"True/goosebumps\", \"True/human\", \"True/i'm so tired...\", \"True/iSpy (feat. Lil Yachty)\", \"True/lovely (with Khalid)\", \"True/no tears left to cry\", \"True/oui\", \"True/thank u, next\", \"True/we fell in love in october\", \"True/when the party's over\", \"True/\\u00c9chame La Culpa\", \"False\", \"True\"], \"labels\": [\"Blinding Lights\", \"Body (feat. brando)\", \"Chasing Pavements\", \"Hello\", \"Let Me Think About It\", \"Lyla\", \"Mood (feat. iann dior)\", \"Need U (100%) [feat. A*M*E] - Radio Edit\", \"Not In Love - Radio Mix\", \"One Dance\", \"Power Trip (feat. Miguel)\", \"Rolling in the Deep\", \"Romeo\", \"See You Again\", \"Seven Nation Army\", \"So Am I\", \"Stop Crying Your Heart Out\", \"Stupid Girls\", \"Super Bass\", \"Sweater Weather\", \"Sweet Dreams My LA Ex - Radio Edit\", \"Sweet Lovin' - Radio Edit\", \"Sweet but Psycho\", \"The Creeps - Fedde Le Grand Radio Mix\", \"The Logical Song\", \"The Whole World (feat. Killer Mike)\", \"There's Nothing Holdin' Me Back\", \"Thunder in My Heart Again (Radio Edit)\", \"Touch My Body\", \"Turn Off The Light\", \"U + Ur Hand\", \"Ugly Heart\", \"Up (feat. Demi Lovato)\", \"Valerie - Version Revisited\", \"Wake Me Up\", \"Water Under The Bridge\", \"Watermelon Sugar\", \"Waves - Robin Schulz Radio Edit\", \"What You Know\", \"What's Left Of Me\", \"When It's Over - David Kahne Main\", \"When We Collide\", \"When We Were Young\", \"When You Love Someone\", \"Wherever You Will Go\", \"White Flag\", \"Who Knew\", \"Why Don't You & I (feat. Chad Kroeger)\", \"Why'd You Only Call Me When You're High?\", \"Wifey\", \"Wings\", \"Wings\", \"Wish You Well\", \"With Every Heartbeat\", \"Wonderful\", \"Work\", \"Wow.\", \"Yeah! (feat. Lil Jon & Ludacris)\", \"Yo (Excuse Me Miss)\", \"You & Me\", \"You Belong With Me\", \"You Don't Know My Name\", \"You Make It Easy\", \"You Make Me Feel... (feat. Sabi)\", \"You Raise Me Up\", \"You Sang To Me\", \"Young Forever\", \"Young, Wild & Free (feat. Bruno Mars)\", \"Your Body\", \"Your Love Is My Drug\", \"Your Song\", \"Youth of the Nation\", \"Yummy\", \"boyfriend (with Social House)\", \"bury a friend\", \"do re mi\", \"goosebumps\", \"human\", \"i'm so tired...\", \"iSpy (feat. Lil Yachty)\", \"lovely (with Khalid)\", \"no tears left to cry\", \"oui\", \"thank u, next\", \"we fell in love in october\", \"when the party's over\", \"\\u00c9chame La Culpa\", \"False\", \"True\"], \"name\": \"\", \"parents\": [\"False\", \"False\", \"False\", \"False\", \"False\", \"False\", \"True\", \"False\", \"False\", \"False\", \"True\", \"True\", \"False\", \"True\", \"False\", \"False\", \"False\", \"True\", \"True\", \"False\", \"False\", \"True\", \"False\", \"False\", \"False\", \"True\", \"False\", \"True\", \"True\", \"False\", \"True\", \"True\", \"False\", \"False\", \"False\", \"False\", \"True\", \"False\", \"False\", \"True\", \"True\", \"True\", \"True\", \"True\", \"True\", \"False\", \"False\", \"True\", \"True\", \"True\", \"False\", \"True\", \"True\", \"False\", \"True\", \"True\", \"True\", \"True\", \"True\", \"True\", \"True\", \"True\", \"True\", \"True\", \"True\", \"True\", \"True\", \"True\", \"True\", \"True\", \"True\", \"True\", \"True\", \"True\", \"True\", \"True\", \"True\", \"True\", \"True\", \"True\", \"True\", \"True\", \"True\", \"True\", \"True\", \"True\", \"True\", \"\", \"\"], \"type\": \"treemap\", \"values\": [1, 1, 1, 1, 1, 1, 1, 1, 1, 1, 1, 1, 1, 1, 1, 1, 1, 1, 1, 1, 1, 1, 1, 1, 1, 1, 1, 1, 1, 1, 1, 1, 1, 1, 1, 1, 1, 1, 1, 1, 1, 1, 1, 1, 1, 1, 1, 1, 1, 1, 1, 1, 1, 1, 1, 1, 1, 1, 1, 1, 1, 1, 1, 1, 1, 1, 1, 1, 1, 1, 1, 1, 1, 1, 1, 1, 1, 1, 1, 1, 1, 1, 1, 1, 1, 1, 1, 30, 57]}],                        {\"legend\": {\"tracegroupgap\": 0}, \"template\": {\"data\": {\"bar\": [{\"error_x\": {\"color\": \"#2a3f5f\"}, \"error_y\": {\"color\": \"#2a3f5f\"}, \"marker\": {\"line\": {\"color\": \"#E5ECF6\", \"width\": 0.5}}, \"type\": \"bar\"}], \"barpolar\": [{\"marker\": {\"line\": {\"color\": \"#E5ECF6\", \"width\": 0.5}}, \"type\": \"barpolar\"}], \"carpet\": [{\"aaxis\": {\"endlinecolor\": \"#2a3f5f\", \"gridcolor\": \"white\", \"linecolor\": \"white\", \"minorgridcolor\": \"white\", \"startlinecolor\": \"#2a3f5f\"}, \"baxis\": {\"endlinecolor\": \"#2a3f5f\", \"gridcolor\": \"white\", \"linecolor\": \"white\", \"minorgridcolor\": \"white\", \"startlinecolor\": \"#2a3f5f\"}, \"type\": \"carpet\"}], \"choropleth\": [{\"colorbar\": {\"outlinewidth\": 0, \"ticks\": \"\"}, \"type\": \"choropleth\"}], \"contour\": [{\"colorbar\": {\"outlinewidth\": 0, \"ticks\": \"\"}, \"colorscale\": [[0.0, \"#0d0887\"], [0.1111111111111111, \"#46039f\"], [0.2222222222222222, \"#7201a8\"], [0.3333333333333333, \"#9c179e\"], [0.4444444444444444, \"#bd3786\"], [0.5555555555555556, \"#d8576b\"], [0.6666666666666666, \"#ed7953\"], [0.7777777777777778, \"#fb9f3a\"], [0.8888888888888888, \"#fdca26\"], [1.0, \"#f0f921\"]], \"type\": \"contour\"}], \"contourcarpet\": [{\"colorbar\": {\"outlinewidth\": 0, \"ticks\": \"\"}, \"type\": \"contourcarpet\"}], \"heatmap\": [{\"colorbar\": {\"outlinewidth\": 0, \"ticks\": \"\"}, \"colorscale\": [[0.0, \"#0d0887\"], [0.1111111111111111, \"#46039f\"], [0.2222222222222222, \"#7201a8\"], [0.3333333333333333, \"#9c179e\"], [0.4444444444444444, \"#bd3786\"], [0.5555555555555556, \"#d8576b\"], [0.6666666666666666, \"#ed7953\"], [0.7777777777777778, \"#fb9f3a\"], [0.8888888888888888, \"#fdca26\"], [1.0, \"#f0f921\"]], \"type\": \"heatmap\"}], \"heatmapgl\": [{\"colorbar\": {\"outlinewidth\": 0, \"ticks\": \"\"}, \"colorscale\": [[0.0, \"#0d0887\"], [0.1111111111111111, \"#46039f\"], [0.2222222222222222, \"#7201a8\"], [0.3333333333333333, \"#9c179e\"], [0.4444444444444444, \"#bd3786\"], [0.5555555555555556, \"#d8576b\"], [0.6666666666666666, \"#ed7953\"], [0.7777777777777778, \"#fb9f3a\"], [0.8888888888888888, \"#fdca26\"], [1.0, \"#f0f921\"]], \"type\": \"heatmapgl\"}], \"histogram\": [{\"marker\": {\"colorbar\": {\"outlinewidth\": 0, \"ticks\": \"\"}}, \"type\": \"histogram\"}], \"histogram2d\": [{\"colorbar\": {\"outlinewidth\": 0, \"ticks\": \"\"}, \"colorscale\": [[0.0, \"#0d0887\"], [0.1111111111111111, \"#46039f\"], [0.2222222222222222, \"#7201a8\"], [0.3333333333333333, \"#9c179e\"], [0.4444444444444444, \"#bd3786\"], [0.5555555555555556, \"#d8576b\"], [0.6666666666666666, \"#ed7953\"], [0.7777777777777778, \"#fb9f3a\"], [0.8888888888888888, \"#fdca26\"], [1.0, \"#f0f921\"]], \"type\": \"histogram2d\"}], \"histogram2dcontour\": [{\"colorbar\": {\"outlinewidth\": 0, \"ticks\": \"\"}, \"colorscale\": [[0.0, \"#0d0887\"], [0.1111111111111111, \"#46039f\"], [0.2222222222222222, \"#7201a8\"], [0.3333333333333333, \"#9c179e\"], [0.4444444444444444, \"#bd3786\"], [0.5555555555555556, \"#d8576b\"], [0.6666666666666666, \"#ed7953\"], [0.7777777777777778, \"#fb9f3a\"], [0.8888888888888888, \"#fdca26\"], [1.0, \"#f0f921\"]], \"type\": \"histogram2dcontour\"}], \"mesh3d\": [{\"colorbar\": {\"outlinewidth\": 0, \"ticks\": \"\"}, \"type\": \"mesh3d\"}], \"parcoords\": [{\"line\": {\"colorbar\": {\"outlinewidth\": 0, \"ticks\": \"\"}}, \"type\": \"parcoords\"}], \"pie\": [{\"automargin\": true, \"type\": \"pie\"}], \"scatter\": [{\"marker\": {\"colorbar\": {\"outlinewidth\": 0, \"ticks\": \"\"}}, \"type\": \"scatter\"}], \"scatter3d\": [{\"line\": {\"colorbar\": {\"outlinewidth\": 0, \"ticks\": \"\"}}, \"marker\": {\"colorbar\": {\"outlinewidth\": 0, \"ticks\": \"\"}}, \"type\": \"scatter3d\"}], \"scattercarpet\": [{\"marker\": {\"colorbar\": {\"outlinewidth\": 0, \"ticks\": \"\"}}, \"type\": \"scattercarpet\"}], \"scattergeo\": [{\"marker\": {\"colorbar\": {\"outlinewidth\": 0, \"ticks\": \"\"}}, \"type\": \"scattergeo\"}], \"scattergl\": [{\"marker\": {\"colorbar\": {\"outlinewidth\": 0, \"ticks\": \"\"}}, \"type\": \"scattergl\"}], \"scattermapbox\": [{\"marker\": {\"colorbar\": {\"outlinewidth\": 0, \"ticks\": \"\"}}, \"type\": \"scattermapbox\"}], \"scatterpolar\": [{\"marker\": {\"colorbar\": {\"outlinewidth\": 0, \"ticks\": \"\"}}, \"type\": \"scatterpolar\"}], \"scatterpolargl\": [{\"marker\": {\"colorbar\": {\"outlinewidth\": 0, \"ticks\": \"\"}}, \"type\": \"scatterpolargl\"}], \"scatterternary\": [{\"marker\": {\"colorbar\": {\"outlinewidth\": 0, \"ticks\": \"\"}}, \"type\": \"scatterternary\"}], \"surface\": [{\"colorbar\": {\"outlinewidth\": 0, \"ticks\": \"\"}, \"colorscale\": [[0.0, \"#0d0887\"], [0.1111111111111111, \"#46039f\"], [0.2222222222222222, \"#7201a8\"], [0.3333333333333333, \"#9c179e\"], [0.4444444444444444, \"#bd3786\"], [0.5555555555555556, \"#d8576b\"], [0.6666666666666666, \"#ed7953\"], [0.7777777777777778, \"#fb9f3a\"], [0.8888888888888888, \"#fdca26\"], [1.0, \"#f0f921\"]], \"type\": \"surface\"}], \"table\": [{\"cells\": {\"fill\": {\"color\": \"#EBF0F8\"}, \"line\": {\"color\": \"white\"}}, \"header\": {\"fill\": {\"color\": \"#C8D4E3\"}, \"line\": {\"color\": \"white\"}}, \"type\": \"table\"}]}, \"layout\": {\"annotationdefaults\": {\"arrowcolor\": \"#2a3f5f\", \"arrowhead\": 0, \"arrowwidth\": 1}, \"autotypenumbers\": \"strict\", \"coloraxis\": {\"colorbar\": {\"outlinewidth\": 0, \"ticks\": \"\"}}, \"colorscale\": {\"diverging\": [[0, \"#8e0152\"], [0.1, \"#c51b7d\"], [0.2, \"#de77ae\"], [0.3, \"#f1b6da\"], [0.4, \"#fde0ef\"], [0.5, \"#f7f7f7\"], [0.6, \"#e6f5d0\"], [0.7, \"#b8e186\"], [0.8, \"#7fbc41\"], [0.9, \"#4d9221\"], [1, \"#276419\"]], \"sequential\": [[0.0, \"#0d0887\"], [0.1111111111111111, \"#46039f\"], [0.2222222222222222, \"#7201a8\"], [0.3333333333333333, \"#9c179e\"], [0.4444444444444444, \"#bd3786\"], [0.5555555555555556, \"#d8576b\"], [0.6666666666666666, \"#ed7953\"], [0.7777777777777778, \"#fb9f3a\"], [0.8888888888888888, \"#fdca26\"], [1.0, \"#f0f921\"]], \"sequentialminus\": [[0.0, \"#0d0887\"], [0.1111111111111111, \"#46039f\"], [0.2222222222222222, \"#7201a8\"], [0.3333333333333333, \"#9c179e\"], [0.4444444444444444, \"#bd3786\"], [0.5555555555555556, \"#d8576b\"], [0.6666666666666666, \"#ed7953\"], [0.7777777777777778, \"#fb9f3a\"], [0.8888888888888888, \"#fdca26\"], [1.0, \"#f0f921\"]]}, \"colorway\": [\"#636efa\", \"#EF553B\", \"#00cc96\", \"#ab63fa\", \"#FFA15A\", \"#19d3f3\", \"#FF6692\", \"#B6E880\", \"#FF97FF\", \"#FECB52\"], \"font\": {\"color\": \"#2a3f5f\"}, \"geo\": {\"bgcolor\": \"white\", \"lakecolor\": \"white\", \"landcolor\": \"#E5ECF6\", \"showlakes\": true, \"showland\": true, \"subunitcolor\": \"white\"}, \"hoverlabel\": {\"align\": \"left\"}, \"hovermode\": \"closest\", \"mapbox\": {\"style\": \"light\"}, \"paper_bgcolor\": \"white\", \"plot_bgcolor\": \"#E5ECF6\", \"polar\": {\"angularaxis\": {\"gridcolor\": \"white\", \"linecolor\": \"white\", \"ticks\": \"\"}, \"bgcolor\": \"#E5ECF6\", \"radialaxis\": {\"gridcolor\": \"white\", \"linecolor\": \"white\", \"ticks\": \"\"}}, \"scene\": {\"xaxis\": {\"backgroundcolor\": \"#E5ECF6\", \"gridcolor\": \"white\", \"gridwidth\": 2, \"linecolor\": \"white\", \"showbackground\": true, \"ticks\": \"\", \"zerolinecolor\": \"white\"}, \"yaxis\": {\"backgroundcolor\": \"#E5ECF6\", \"gridcolor\": \"white\", \"gridwidth\": 2, \"linecolor\": \"white\", \"showbackground\": true, \"ticks\": \"\", \"zerolinecolor\": \"white\"}, \"zaxis\": {\"backgroundcolor\": \"#E5ECF6\", \"gridcolor\": \"white\", \"gridwidth\": 2, \"linecolor\": \"white\", \"showbackground\": true, \"ticks\": \"\", \"zerolinecolor\": \"white\"}}, \"shapedefaults\": {\"line\": {\"color\": \"#2a3f5f\"}}, \"ternary\": {\"aaxis\": {\"gridcolor\": \"white\", \"linecolor\": \"white\", \"ticks\": \"\"}, \"baxis\": {\"gridcolor\": \"white\", \"linecolor\": \"white\", \"ticks\": \"\"}, \"bgcolor\": \"#E5ECF6\", \"caxis\": {\"gridcolor\": \"white\", \"linecolor\": \"white\", \"ticks\": \"\"}}, \"title\": {\"x\": 0.05}, \"xaxis\": {\"automargin\": true, \"gridcolor\": \"white\", \"linecolor\": \"white\", \"ticks\": \"\", \"title\": {\"standoff\": 15}, \"zerolinecolor\": \"white\", \"zerolinewidth\": 2}, \"yaxis\": {\"automargin\": true, \"gridcolor\": \"white\", \"linecolor\": \"white\", \"ticks\": \"\", \"title\": {\"standoff\": 15}, \"zerolinecolor\": \"white\", \"zerolinewidth\": 2}}}, \"title\": {\"text\": \"Canciones explicitas\"}},                        {\"responsive\": true}                    ).then(function(){\n",
              "                            \n",
              "var gd = document.getElementById('3f2100cf-b667-457e-9d7a-5f1576158ef3');\n",
              "var x = new MutationObserver(function (mutations, observer) {{\n",
              "        var display = window.getComputedStyle(gd).display;\n",
              "        if (!display || display === 'none') {{\n",
              "            console.log([gd, 'removed!']);\n",
              "            Plotly.purge(gd);\n",
              "            observer.disconnect();\n",
              "        }}\n",
              "}});\n",
              "\n",
              "// Listen for the removal of the full notebook cells\n",
              "var notebookContainer = gd.closest('#notebook-container');\n",
              "if (notebookContainer) {{\n",
              "    x.observe(notebookContainer, {childList: true});\n",
              "}}\n",
              "\n",
              "// Listen for the clearing of the current output cell\n",
              "var outputEl = gd.closest('.output');\n",
              "if (outputEl) {{\n",
              "    x.observe(outputEl, {childList: true});\n",
              "}}\n",
              "\n",
              "                        })                };                            </script>        </div>\n",
              "</body>\n",
              "</html>"
            ]
          },
          "metadata": {
            "tags": []
          }
        }
      ]
    },
    {
      "cell_type": "markdown",
      "metadata": {
        "id": "b7ONyvSoolot"
      },
      "source": [
        "##Scatterplots"
      ]
    },
    {
      "cell_type": "code",
      "metadata": {
        "colab": {
          "base_uri": "https://localhost:8080/"
        },
        "id": "cktOvwhYop9I",
        "outputId": "162ae235-28bf-4818-8e96-7fdab344568f"
      },
      "source": [
        "sns.scatterplot(df['danceability'], df['energy'], hue=df['track.explicit'],style=df['track.explicit']);"
      ],
      "execution_count": null,
      "outputs": [
        {
          "output_type": "stream",
          "text": [
            "/usr/local/lib/python3.7/dist-packages/seaborn/_decorators.py:43: FutureWarning:\n",
            "\n",
            "Pass the following variables as keyword args: x, y. From version 0.12, the only valid positional argument will be `data`, and passing other arguments without an explicit keyword will result in an error or misinterpretation.\n",
            "\n"
          ],
          "name": "stderr"
        },
        {
          "output_type": "display_data",
          "data": {
            "image/png": "[encoded data removed]",
            "text/plain": [
              "<Figure size 432x288 with 1 Axes>"
            ]
          },
          "metadata": {
            "tags": []
          }
        }
      ]
    },
    {
      "cell_type": "code",
      "metadata": {
        "colab": {
          "base_uri": "https://localhost:8080/"
        },
        "id": "ac0OIECz0dFm",
        "outputId": "d2b2693a-5ff1-4b2d-f563-cfa0e72a920b"
      },
      "source": [
        "sns.scatterplot(df['instrumentalness'], df['speechiness']);"
      ],
      "execution_count": null,
      "outputs": [
        {
          "output_type": "stream",
          "text": [
            "/usr/local/lib/python3.7/dist-packages/seaborn/_decorators.py:43: FutureWarning:\n",
            "\n",
            "Pass the following variables as keyword args: x, y. From version 0.12, the only valid positional argument will be `data`, and passing other arguments without an explicit keyword will result in an error or misinterpretation.\n",
            "\n"
          ],
          "name": "stderr"
        },
        {
          "output_type": "display_data",
          "data": {
            "image/png": "[encoded data removed]",
            "text/plain": [
              "<Figure size 432x288 with 1 Axes>"
            ]
          },
          "metadata": {
            "tags": []
          }
        }
      ]
    },
    {
      "cell_type": "markdown",
      "metadata": {
        "id": "VKmb0nVp1-yV"
      },
      "source": [
        "##Scatterplots por grupo (TOP5)"
      ]
    },
    {
      "cell_type": "markdown",
      "metadata": {
        "id": "sHYNto1r2qHV"
      },
      "source": [
        "Realizando el dataframe de los top 5"
      ]
    },
    {
      "cell_type": "code",
      "metadata": {
        "id": "fuCKFxR82NC1"
      },
      "source": [
        "#top5 = df_grouped.tail()\n",
        "top5 = df_grouped"
      ],
      "execution_count": null,
      "outputs": []
    },
    {
      "cell_type": "code",
      "metadata": {
        "colab": {
          "base_uri": "https://localhost:8080/",
          "height": 674
        },
        "id": "zfaafc_M37ak",
        "outputId": "6142454c-712c-4a0d-d891-cf4d16ed3c1d"
      },
      "source": [
        "top5.groupby('track.popularity')['track.name','track.duration_ms','track.explicit','danceability','energy','key','loudness','mode','speechiness','acousticness','instrumentalness','liveness','valence','tempo'].max()"
      ],
      "execution_count": null,
      "outputs": [
        {
          "output_type": "stream",
          "text": [
            "/usr/local/lib/python3.7/dist-packages/ipykernel_launcher.py:1: FutureWarning:\n",
            "\n",
            "Indexing with multiple keys (implicitly converted to a tuple of keys) will be deprecated, use a list instead.\n",
            "\n"
          ],
          "name": "stderr"
        },
        {
          "output_type": "execute_result",
          "data": {
            "text/html": [
              "<div>\n",
              "<style scoped>\n",
              "    .dataframe tbody tr th:only-of-type {\n",
              "        vertical-align: middle;\n",
              "    }\n",
              "\n",
              "    .dataframe tbody tr th {\n",
              "        vertical-align: top;\n",
              "    }\n",
              "\n",
              "    .dataframe thead th {\n",
              "        text-align: right;\n",
              "    }\n",
              "</style>\n",
              "<table border=\"1\" class=\"dataframe\">\n",
              "  <thead>\n",
              "    <tr style=\"text-align: right;\">\n",
              "      <th></th>\n",
              "      <th>track.name</th>\n",
              "      <th>track.duration_ms</th>\n",
              "      <th>track.explicit</th>\n",
              "      <th>danceability</th>\n",
              "      <th>energy</th>\n",
              "      <th>key</th>\n",
              "      <th>loudness</th>\n",
              "      <th>mode</th>\n",
              "      <th>speechiness</th>\n",
              "      <th>acousticness</th>\n",
              "      <th>instrumentalness</th>\n",
              "      <th>liveness</th>\n",
              "      <th>valence</th>\n",
              "      <th>tempo</th>\n",
              "    </tr>\n",
              "    <tr>\n",
              "      <th>track.popularity</th>\n",
              "      <th></th>\n",
              "      <th></th>\n",
              "      <th></th>\n",
              "      <th></th>\n",
              "      <th></th>\n",
              "      <th></th>\n",
              "      <th></th>\n",
              "      <th></th>\n",
              "      <th></th>\n",
              "      <th></th>\n",
              "      <th></th>\n",
              "      <th></th>\n",
              "      <th></th>\n",
              "      <th></th>\n",
              "    </tr>\n",
              "  </thead>\n",
              "  <tbody>\n",
              "    <tr>\n",
              "      <th>0</th>\n",
              "      <td>You &amp; Me</td>\n",
              "      <td>271426</td>\n",
              "      <td>True</td>\n",
              "      <td>0.903</td>\n",
              "      <td>0.915</td>\n",
              "      <td>11</td>\n",
              "      <td>-2.215</td>\n",
              "      <td>1</td>\n",
              "      <td>0.3700</td>\n",
              "      <td>0.83900</td>\n",
              "      <td>0.445000</td>\n",
              "      <td>0.4520</td>\n",
              "      <td>0.965</td>\n",
              "      <td>179.666</td>\n",
              "    </tr>\n",
              "    <tr>\n",
              "      <th>1</th>\n",
              "      <td>When You Love Someone</td>\n",
              "      <td>288670</td>\n",
              "      <td>True</td>\n",
              "      <td>0.906</td>\n",
              "      <td>0.865</td>\n",
              "      <td>11</td>\n",
              "      <td>-2.396</td>\n",
              "      <td>1</td>\n",
              "      <td>0.2820</td>\n",
              "      <td>0.59000</td>\n",
              "      <td>0.225000</td>\n",
              "      <td>0.3250</td>\n",
              "      <td>0.863</td>\n",
              "      <td>186.054</td>\n",
              "    </tr>\n",
              "    <tr>\n",
              "      <th>2</th>\n",
              "      <td>There's Nothing Holdin' Me Back</td>\n",
              "      <td>305746</td>\n",
              "      <td>False</td>\n",
              "      <td>0.894</td>\n",
              "      <td>0.930</td>\n",
              "      <td>11</td>\n",
              "      <td>-2.974</td>\n",
              "      <td>1</td>\n",
              "      <td>0.4380</td>\n",
              "      <td>0.83500</td>\n",
              "      <td>0.150000</td>\n",
              "      <td>0.3510</td>\n",
              "      <td>0.968</td>\n",
              "      <td>198.065</td>\n",
              "    </tr>\n",
              "    <tr>\n",
              "      <th>3</th>\n",
              "      <td>Up (feat. Demi Lovato)</td>\n",
              "      <td>228200</td>\n",
              "      <td>False</td>\n",
              "      <td>0.774</td>\n",
              "      <td>0.845</td>\n",
              "      <td>9</td>\n",
              "      <td>-4.432</td>\n",
              "      <td>1</td>\n",
              "      <td>0.1700</td>\n",
              "      <td>0.20900</td>\n",
              "      <td>0.210000</td>\n",
              "      <td>0.1550</td>\n",
              "      <td>0.846</td>\n",
              "      <td>177.833</td>\n",
              "    </tr>\n",
              "    <tr>\n",
              "      <th>4</th>\n",
              "      <td>One Dance</td>\n",
              "      <td>221653</td>\n",
              "      <td>False</td>\n",
              "      <td>0.791</td>\n",
              "      <td>0.779</td>\n",
              "      <td>5</td>\n",
              "      <td>-4.449</td>\n",
              "      <td>1</td>\n",
              "      <td>0.2210</td>\n",
              "      <td>0.48900</td>\n",
              "      <td>0.004230</td>\n",
              "      <td>0.6360</td>\n",
              "      <td>0.768</td>\n",
              "      <td>175.813</td>\n",
              "    </tr>\n",
              "    <tr>\n",
              "      <th>...</th>\n",
              "      <td>...</td>\n",
              "      <td>...</td>\n",
              "      <td>...</td>\n",
              "      <td>...</td>\n",
              "      <td>...</td>\n",
              "      <td>...</td>\n",
              "      <td>...</td>\n",
              "      <td>...</td>\n",
              "      <td>...</td>\n",
              "      <td>...</td>\n",
              "      <td>...</td>\n",
              "      <td>...</td>\n",
              "      <td>...</td>\n",
              "      <td>...</td>\n",
              "    </tr>\n",
              "    <tr>\n",
              "      <th>88</th>\n",
              "      <td>lovely (with Khalid)</td>\n",
              "      <td>239835</td>\n",
              "      <td>True</td>\n",
              "      <td>0.824</td>\n",
              "      <td>0.762</td>\n",
              "      <td>8</td>\n",
              "      <td>-3.497</td>\n",
              "      <td>1</td>\n",
              "      <td>0.2180</td>\n",
              "      <td>0.93400</td>\n",
              "      <td>0.002440</td>\n",
              "      <td>0.6960</td>\n",
              "      <td>0.664</td>\n",
              "      <td>144.026</td>\n",
              "    </tr>\n",
              "    <tr>\n",
              "      <th>89</th>\n",
              "      <td>Sweater Weather</td>\n",
              "      <td>240400</td>\n",
              "      <td>False</td>\n",
              "      <td>0.612</td>\n",
              "      <td>0.807</td>\n",
              "      <td>10</td>\n",
              "      <td>-2.810</td>\n",
              "      <td>1</td>\n",
              "      <td>0.0336</td>\n",
              "      <td>0.04950</td>\n",
              "      <td>0.017700</td>\n",
              "      <td>0.1010</td>\n",
              "      <td>0.398</td>\n",
              "      <td>124.053</td>\n",
              "    </tr>\n",
              "    <tr>\n",
              "      <th>90</th>\n",
              "      <td>Watermelon Sugar</td>\n",
              "      <td>187541</td>\n",
              "      <td>True</td>\n",
              "      <td>0.935</td>\n",
              "      <td>0.816</td>\n",
              "      <td>11</td>\n",
              "      <td>-4.209</td>\n",
              "      <td>1</td>\n",
              "      <td>0.3750</td>\n",
              "      <td>0.75100</td>\n",
              "      <td>0.000000</td>\n",
              "      <td>0.3350</td>\n",
              "      <td>0.557</td>\n",
              "      <td>133.073</td>\n",
              "    </tr>\n",
              "    <tr>\n",
              "      <th>95</th>\n",
              "      <td>Mood (feat. iann dior)</td>\n",
              "      <td>140525</td>\n",
              "      <td>True</td>\n",
              "      <td>0.700</td>\n",
              "      <td>0.722</td>\n",
              "      <td>7</td>\n",
              "      <td>-3.558</td>\n",
              "      <td>0</td>\n",
              "      <td>0.0369</td>\n",
              "      <td>0.22100</td>\n",
              "      <td>0.000000</td>\n",
              "      <td>0.2720</td>\n",
              "      <td>0.756</td>\n",
              "      <td>90.989</td>\n",
              "    </tr>\n",
              "    <tr>\n",
              "      <th>96</th>\n",
              "      <td>Blinding Lights</td>\n",
              "      <td>200040</td>\n",
              "      <td>False</td>\n",
              "      <td>0.514</td>\n",
              "      <td>0.730</td>\n",
              "      <td>1</td>\n",
              "      <td>-5.934</td>\n",
              "      <td>1</td>\n",
              "      <td>0.0598</td>\n",
              "      <td>0.00146</td>\n",
              "      <td>0.000095</td>\n",
              "      <td>0.0897</td>\n",
              "      <td>0.334</td>\n",
              "      <td>171.005</td>\n",
              "    </tr>\n",
              "  </tbody>\n",
              "</table>\n",
              "<p>87 rows × 14 columns</p>\n",
              "</div>"
            ],
            "text/plain": [
              "                                       track.name  ...    tempo\n",
              "track.popularity                                   ...         \n",
              "0                                        You & Me  ...  179.666\n",
              "1                           When You Love Someone  ...  186.054\n",
              "2                 There's Nothing Holdin' Me Back  ...  198.065\n",
              "3                          Up (feat. Demi Lovato)  ...  177.833\n",
              "4                                       One Dance  ...  175.813\n",
              "...                                           ...  ...      ...\n",
              "88                           lovely (with Khalid)  ...  144.026\n",
              "89                                Sweater Weather  ...  124.053\n",
              "90                               Watermelon Sugar  ...  133.073\n",
              "95                         Mood (feat. iann dior)  ...   90.989\n",
              "96                                Blinding Lights  ...  171.005\n",
              "\n",
              "[87 rows x 14 columns]"
            ]
          },
          "metadata": {
            "tags": []
          },
          "execution_count": 138
        }
      ]
    },
    {
      "cell_type": "code",
      "metadata": {
        "colab": {
          "base_uri": "https://localhost:8080/",
          "height": 454
        },
        "id": "dqr3YHIe5NZW",
        "outputId": "9a60262d-3a26-44e0-c6bc-b23f5e5f8cd5"
      },
      "source": [
        "top5nuevo = top5[top5['track.name'].isin(['Blinding Lights', 'Mood (feat. iann dior)', 'Watermelon Sugar', 'Sweater Weather','lovely (with Khalid)','One Dance','Up (feat. Demi Lovato)\t','When You Love Someone','You & Me'])]\n",
        "top5nuevo"
      ],
      "execution_count": null,
      "outputs": [
        {
          "output_type": "execute_result",
          "data": {
            "text/html": [
              "<div>\n",
              "<style scoped>\n",
              "    .dataframe tbody tr th:only-of-type {\n",
              "        vertical-align: middle;\n",
              "    }\n",
              "\n",
              "    .dataframe tbody tr th {\n",
              "        vertical-align: top;\n",
              "    }\n",
              "\n",
              "    .dataframe thead th {\n",
              "        text-align: right;\n",
              "    }\n",
              "</style>\n",
              "<table border=\"1\" class=\"dataframe\">\n",
              "  <thead>\n",
              "    <tr style=\"text-align: right;\">\n",
              "      <th></th>\n",
              "      <th>track.name</th>\n",
              "      <th>track.duration_ms</th>\n",
              "      <th>track.explicit</th>\n",
              "      <th>danceability</th>\n",
              "      <th>energy</th>\n",
              "      <th>key</th>\n",
              "      <th>loudness</th>\n",
              "      <th>mode</th>\n",
              "      <th>speechiness</th>\n",
              "      <th>acousticness</th>\n",
              "      <th>instrumentalness</th>\n",
              "      <th>liveness</th>\n",
              "      <th>valence</th>\n",
              "      <th>tempo</th>\n",
              "      <th>count</th>\n",
              "    </tr>\n",
              "    <tr>\n",
              "      <th>track.popularity</th>\n",
              "      <th></th>\n",
              "      <th></th>\n",
              "      <th></th>\n",
              "      <th></th>\n",
              "      <th></th>\n",
              "      <th></th>\n",
              "      <th></th>\n",
              "      <th></th>\n",
              "      <th></th>\n",
              "      <th></th>\n",
              "      <th></th>\n",
              "      <th></th>\n",
              "      <th></th>\n",
              "      <th></th>\n",
              "      <th></th>\n",
              "    </tr>\n",
              "  </thead>\n",
              "  <tbody>\n",
              "    <tr>\n",
              "      <th>0</th>\n",
              "      <td>You &amp; Me</td>\n",
              "      <td>271426</td>\n",
              "      <td>True</td>\n",
              "      <td>0.903</td>\n",
              "      <td>0.915</td>\n",
              "      <td>11</td>\n",
              "      <td>-2.215</td>\n",
              "      <td>1</td>\n",
              "      <td>0.3700</td>\n",
              "      <td>0.83900</td>\n",
              "      <td>0.445000</td>\n",
              "      <td>0.4520</td>\n",
              "      <td>0.965</td>\n",
              "      <td>179.666</td>\n",
              "      <td>1</td>\n",
              "    </tr>\n",
              "    <tr>\n",
              "      <th>1</th>\n",
              "      <td>When You Love Someone</td>\n",
              "      <td>288670</td>\n",
              "      <td>True</td>\n",
              "      <td>0.906</td>\n",
              "      <td>0.865</td>\n",
              "      <td>11</td>\n",
              "      <td>-2.396</td>\n",
              "      <td>1</td>\n",
              "      <td>0.2820</td>\n",
              "      <td>0.59000</td>\n",
              "      <td>0.225000</td>\n",
              "      <td>0.3250</td>\n",
              "      <td>0.863</td>\n",
              "      <td>186.054</td>\n",
              "      <td>1</td>\n",
              "    </tr>\n",
              "    <tr>\n",
              "      <th>4</th>\n",
              "      <td>One Dance</td>\n",
              "      <td>221653</td>\n",
              "      <td>False</td>\n",
              "      <td>0.791</td>\n",
              "      <td>0.779</td>\n",
              "      <td>5</td>\n",
              "      <td>-4.449</td>\n",
              "      <td>1</td>\n",
              "      <td>0.2210</td>\n",
              "      <td>0.48900</td>\n",
              "      <td>0.004230</td>\n",
              "      <td>0.6360</td>\n",
              "      <td>0.768</td>\n",
              "      <td>175.813</td>\n",
              "      <td>1</td>\n",
              "    </tr>\n",
              "    <tr>\n",
              "      <th>88</th>\n",
              "      <td>lovely (with Khalid)</td>\n",
              "      <td>239835</td>\n",
              "      <td>True</td>\n",
              "      <td>0.824</td>\n",
              "      <td>0.762</td>\n",
              "      <td>8</td>\n",
              "      <td>-3.497</td>\n",
              "      <td>1</td>\n",
              "      <td>0.2180</td>\n",
              "      <td>0.93400</td>\n",
              "      <td>0.002440</td>\n",
              "      <td>0.6960</td>\n",
              "      <td>0.664</td>\n",
              "      <td>144.026</td>\n",
              "      <td>1</td>\n",
              "    </tr>\n",
              "    <tr>\n",
              "      <th>89</th>\n",
              "      <td>Sweater Weather</td>\n",
              "      <td>240400</td>\n",
              "      <td>False</td>\n",
              "      <td>0.612</td>\n",
              "      <td>0.807</td>\n",
              "      <td>10</td>\n",
              "      <td>-2.810</td>\n",
              "      <td>1</td>\n",
              "      <td>0.0336</td>\n",
              "      <td>0.04950</td>\n",
              "      <td>0.017700</td>\n",
              "      <td>0.1010</td>\n",
              "      <td>0.398</td>\n",
              "      <td>124.053</td>\n",
              "      <td>1</td>\n",
              "    </tr>\n",
              "    <tr>\n",
              "      <th>90</th>\n",
              "      <td>Watermelon Sugar</td>\n",
              "      <td>187541</td>\n",
              "      <td>True</td>\n",
              "      <td>0.935</td>\n",
              "      <td>0.816</td>\n",
              "      <td>11</td>\n",
              "      <td>-4.209</td>\n",
              "      <td>1</td>\n",
              "      <td>0.3750</td>\n",
              "      <td>0.75100</td>\n",
              "      <td>0.000000</td>\n",
              "      <td>0.3350</td>\n",
              "      <td>0.557</td>\n",
              "      <td>133.073</td>\n",
              "      <td>1</td>\n",
              "    </tr>\n",
              "    <tr>\n",
              "      <th>95</th>\n",
              "      <td>Mood (feat. iann dior)</td>\n",
              "      <td>140525</td>\n",
              "      <td>True</td>\n",
              "      <td>0.700</td>\n",
              "      <td>0.722</td>\n",
              "      <td>7</td>\n",
              "      <td>-3.558</td>\n",
              "      <td>0</td>\n",
              "      <td>0.0369</td>\n",
              "      <td>0.22100</td>\n",
              "      <td>0.000000</td>\n",
              "      <td>0.2720</td>\n",
              "      <td>0.756</td>\n",
              "      <td>90.989</td>\n",
              "      <td>1</td>\n",
              "    </tr>\n",
              "    <tr>\n",
              "      <th>96</th>\n",
              "      <td>Blinding Lights</td>\n",
              "      <td>200040</td>\n",
              "      <td>False</td>\n",
              "      <td>0.514</td>\n",
              "      <td>0.730</td>\n",
              "      <td>1</td>\n",
              "      <td>-5.934</td>\n",
              "      <td>1</td>\n",
              "      <td>0.0598</td>\n",
              "      <td>0.00146</td>\n",
              "      <td>0.000095</td>\n",
              "      <td>0.0897</td>\n",
              "      <td>0.334</td>\n",
              "      <td>171.005</td>\n",
              "      <td>1</td>\n",
              "    </tr>\n",
              "  </tbody>\n",
              "</table>\n",
              "</div>"
            ],
            "text/plain": [
              "                              track.name  track.duration_ms  ...    tempo  count\n",
              "track.popularity                                             ...                \n",
              "0                               You & Me             271426  ...  179.666      1\n",
              "1                  When You Love Someone             288670  ...  186.054      1\n",
              "4                              One Dance             221653  ...  175.813      1\n",
              "88                  lovely (with Khalid)             239835  ...  144.026      1\n",
              "89                       Sweater Weather             240400  ...  124.053      1\n",
              "90                      Watermelon Sugar             187541  ...  133.073      1\n",
              "95                Mood (feat. iann dior)             140525  ...   90.989      1\n",
              "96                       Blinding Lights             200040  ...  171.005      1\n",
              "\n",
              "[8 rows x 15 columns]"
            ]
          },
          "metadata": {
            "tags": []
          },
          "execution_count": 143
        }
      ]
    },
    {
      "cell_type": "code",
      "metadata": {
        "colab": {
          "base_uri": "https://localhost:8080/",
          "height": 591
        },
        "id": "rnFdQFb359xZ",
        "outputId": "b21115b7-6abd-40dc-f172-0c4c4f2bac27"
      },
      "source": [
        "fig = plt.figure(figsize=(10, 8))\n",
        "ax = fig.add_subplot()\n",
        "sns.scatterplot(top5nuevo['energy'], top5nuevo['valence'], hue=top5nuevo['track.name'], style=top5nuevo['track.name'], ax=ax);"
      ],
      "execution_count": null,
      "outputs": [
        {
          "output_type": "stream",
          "text": [
            "/usr/local/lib/python3.7/dist-packages/seaborn/_decorators.py:43: FutureWarning:\n",
            "\n",
            "Pass the following variables as keyword args: x, y. From version 0.12, the only valid positional argument will be `data`, and passing other arguments without an explicit keyword will result in an error or misinterpretation.\n",
            "\n"
          ],
          "name": "stderr"
        },
        {
          "output_type": "display_data",
          "data": {
            "image/png": "[encoded data removed]",
            "text/plain": [
              "<Figure size 720x576 with 1 Axes>"
            ]
          },
          "metadata": {
            "tags": []
          }
        }
      ]
    },
    {
      "cell_type": "markdown",
      "metadata": {
        "id": "HyU4v7rD_nMj"
      },
      "source": [
        "##Binning hexagonales"
      ]
    },
    {
      "cell_type": "code",
      "metadata": {
        "colab": {
          "base_uri": "https://localhost:8080/",
          "height": 656
        },
        "id": "26HQO9cNAMXY",
        "outputId": "093a59c5-ec37-428c-e24f-550be258050f"
      },
      "source": [
        "df_grouped"
      ],
      "execution_count": null,
      "outputs": [
        {
          "output_type": "execute_result",
          "data": {
            "text/html": [
              "<div>\n",
              "<style scoped>\n",
              "    .dataframe tbody tr th:only-of-type {\n",
              "        vertical-align: middle;\n",
              "    }\n",
              "\n",
              "    .dataframe tbody tr th {\n",
              "        vertical-align: top;\n",
              "    }\n",
              "\n",
              "    .dataframe thead th {\n",
              "        text-align: right;\n",
              "    }\n",
              "</style>\n",
              "<table border=\"1\" class=\"dataframe\">\n",
              "  <thead>\n",
              "    <tr style=\"text-align: right;\">\n",
              "      <th></th>\n",
              "      <th>track.name</th>\n",
              "      <th>track.duration_ms</th>\n",
              "      <th>track.explicit</th>\n",
              "      <th>danceability</th>\n",
              "      <th>energy</th>\n",
              "      <th>key</th>\n",
              "      <th>loudness</th>\n",
              "      <th>mode</th>\n",
              "      <th>speechiness</th>\n",
              "      <th>acousticness</th>\n",
              "      <th>instrumentalness</th>\n",
              "      <th>liveness</th>\n",
              "      <th>valence</th>\n",
              "      <th>tempo</th>\n",
              "      <th>count</th>\n",
              "    </tr>\n",
              "    <tr>\n",
              "      <th>track.popularity</th>\n",
              "      <th></th>\n",
              "      <th></th>\n",
              "      <th></th>\n",
              "      <th></th>\n",
              "      <th></th>\n",
              "      <th></th>\n",
              "      <th></th>\n",
              "      <th></th>\n",
              "      <th></th>\n",
              "      <th></th>\n",
              "      <th></th>\n",
              "      <th></th>\n",
              "      <th></th>\n",
              "      <th></th>\n",
              "      <th></th>\n",
              "    </tr>\n",
              "  </thead>\n",
              "  <tbody>\n",
              "    <tr>\n",
              "      <th>0</th>\n",
              "      <td>You &amp; Me</td>\n",
              "      <td>271426</td>\n",
              "      <td>True</td>\n",
              "      <td>0.903</td>\n",
              "      <td>0.915</td>\n",
              "      <td>11</td>\n",
              "      <td>-2.215</td>\n",
              "      <td>1</td>\n",
              "      <td>0.3700</td>\n",
              "      <td>0.83900</td>\n",
              "      <td>0.445000</td>\n",
              "      <td>0.4520</td>\n",
              "      <td>0.965</td>\n",
              "      <td>179.666</td>\n",
              "      <td>1</td>\n",
              "    </tr>\n",
              "    <tr>\n",
              "      <th>1</th>\n",
              "      <td>When You Love Someone</td>\n",
              "      <td>288670</td>\n",
              "      <td>True</td>\n",
              "      <td>0.906</td>\n",
              "      <td>0.865</td>\n",
              "      <td>11</td>\n",
              "      <td>-2.396</td>\n",
              "      <td>1</td>\n",
              "      <td>0.2820</td>\n",
              "      <td>0.59000</td>\n",
              "      <td>0.225000</td>\n",
              "      <td>0.3250</td>\n",
              "      <td>0.863</td>\n",
              "      <td>186.054</td>\n",
              "      <td>1</td>\n",
              "    </tr>\n",
              "    <tr>\n",
              "      <th>2</th>\n",
              "      <td>There's Nothing Holdin' Me Back</td>\n",
              "      <td>305746</td>\n",
              "      <td>False</td>\n",
              "      <td>0.894</td>\n",
              "      <td>0.930</td>\n",
              "      <td>11</td>\n",
              "      <td>-2.974</td>\n",
              "      <td>1</td>\n",
              "      <td>0.4380</td>\n",
              "      <td>0.83500</td>\n",
              "      <td>0.150000</td>\n",
              "      <td>0.3510</td>\n",
              "      <td>0.968</td>\n",
              "      <td>198.065</td>\n",
              "      <td>1</td>\n",
              "    </tr>\n",
              "    <tr>\n",
              "      <th>3</th>\n",
              "      <td>Up (feat. Demi Lovato)</td>\n",
              "      <td>228200</td>\n",
              "      <td>False</td>\n",
              "      <td>0.774</td>\n",
              "      <td>0.845</td>\n",
              "      <td>9</td>\n",
              "      <td>-4.432</td>\n",
              "      <td>1</td>\n",
              "      <td>0.1700</td>\n",
              "      <td>0.20900</td>\n",
              "      <td>0.210000</td>\n",
              "      <td>0.1550</td>\n",
              "      <td>0.846</td>\n",
              "      <td>177.833</td>\n",
              "      <td>1</td>\n",
              "    </tr>\n",
              "    <tr>\n",
              "      <th>4</th>\n",
              "      <td>One Dance</td>\n",
              "      <td>221653</td>\n",
              "      <td>False</td>\n",
              "      <td>0.791</td>\n",
              "      <td>0.779</td>\n",
              "      <td>5</td>\n",
              "      <td>-4.449</td>\n",
              "      <td>1</td>\n",
              "      <td>0.2210</td>\n",
              "      <td>0.48900</td>\n",
              "      <td>0.004230</td>\n",
              "      <td>0.6360</td>\n",
              "      <td>0.768</td>\n",
              "      <td>175.813</td>\n",
              "      <td>1</td>\n",
              "    </tr>\n",
              "    <tr>\n",
              "      <th>...</th>\n",
              "      <td>...</td>\n",
              "      <td>...</td>\n",
              "      <td>...</td>\n",
              "      <td>...</td>\n",
              "      <td>...</td>\n",
              "      <td>...</td>\n",
              "      <td>...</td>\n",
              "      <td>...</td>\n",
              "      <td>...</td>\n",
              "      <td>...</td>\n",
              "      <td>...</td>\n",
              "      <td>...</td>\n",
              "      <td>...</td>\n",
              "      <td>...</td>\n",
              "      <td>...</td>\n",
              "    </tr>\n",
              "    <tr>\n",
              "      <th>88</th>\n",
              "      <td>lovely (with Khalid)</td>\n",
              "      <td>239835</td>\n",
              "      <td>True</td>\n",
              "      <td>0.824</td>\n",
              "      <td>0.762</td>\n",
              "      <td>8</td>\n",
              "      <td>-3.497</td>\n",
              "      <td>1</td>\n",
              "      <td>0.2180</td>\n",
              "      <td>0.93400</td>\n",
              "      <td>0.002440</td>\n",
              "      <td>0.6960</td>\n",
              "      <td>0.664</td>\n",
              "      <td>144.026</td>\n",
              "      <td>1</td>\n",
              "    </tr>\n",
              "    <tr>\n",
              "      <th>89</th>\n",
              "      <td>Sweater Weather</td>\n",
              "      <td>240400</td>\n",
              "      <td>False</td>\n",
              "      <td>0.612</td>\n",
              "      <td>0.807</td>\n",
              "      <td>10</td>\n",
              "      <td>-2.810</td>\n",
              "      <td>1</td>\n",
              "      <td>0.0336</td>\n",
              "      <td>0.04950</td>\n",
              "      <td>0.017700</td>\n",
              "      <td>0.1010</td>\n",
              "      <td>0.398</td>\n",
              "      <td>124.053</td>\n",
              "      <td>1</td>\n",
              "    </tr>\n",
              "    <tr>\n",
              "      <th>90</th>\n",
              "      <td>Watermelon Sugar</td>\n",
              "      <td>187541</td>\n",
              "      <td>True</td>\n",
              "      <td>0.935</td>\n",
              "      <td>0.816</td>\n",
              "      <td>11</td>\n",
              "      <td>-4.209</td>\n",
              "      <td>1</td>\n",
              "      <td>0.3750</td>\n",
              "      <td>0.75100</td>\n",
              "      <td>0.000000</td>\n",
              "      <td>0.3350</td>\n",
              "      <td>0.557</td>\n",
              "      <td>133.073</td>\n",
              "      <td>1</td>\n",
              "    </tr>\n",
              "    <tr>\n",
              "      <th>95</th>\n",
              "      <td>Mood (feat. iann dior)</td>\n",
              "      <td>140525</td>\n",
              "      <td>True</td>\n",
              "      <td>0.700</td>\n",
              "      <td>0.722</td>\n",
              "      <td>7</td>\n",
              "      <td>-3.558</td>\n",
              "      <td>0</td>\n",
              "      <td>0.0369</td>\n",
              "      <td>0.22100</td>\n",
              "      <td>0.000000</td>\n",
              "      <td>0.2720</td>\n",
              "      <td>0.756</td>\n",
              "      <td>90.989</td>\n",
              "      <td>1</td>\n",
              "    </tr>\n",
              "    <tr>\n",
              "      <th>96</th>\n",
              "      <td>Blinding Lights</td>\n",
              "      <td>200040</td>\n",
              "      <td>False</td>\n",
              "      <td>0.514</td>\n",
              "      <td>0.730</td>\n",
              "      <td>1</td>\n",
              "      <td>-5.934</td>\n",
              "      <td>1</td>\n",
              "      <td>0.0598</td>\n",
              "      <td>0.00146</td>\n",
              "      <td>0.000095</td>\n",
              "      <td>0.0897</td>\n",
              "      <td>0.334</td>\n",
              "      <td>171.005</td>\n",
              "      <td>1</td>\n",
              "    </tr>\n",
              "  </tbody>\n",
              "</table>\n",
              "<p>87 rows × 15 columns</p>\n",
              "</div>"
            ],
            "text/plain": [
              "                                       track.name  ...  count\n",
              "track.popularity                                   ...       \n",
              "0                                        You & Me  ...      1\n",
              "1                           When You Love Someone  ...      1\n",
              "2                 There's Nothing Holdin' Me Back  ...      1\n",
              "3                          Up (feat. Demi Lovato)  ...      1\n",
              "4                                       One Dance  ...      1\n",
              "...                                           ...  ...    ...\n",
              "88                           lovely (with Khalid)  ...      1\n",
              "89                                Sweater Weather  ...      1\n",
              "90                               Watermelon Sugar  ...      1\n",
              "95                         Mood (feat. iann dior)  ...      1\n",
              "96                                Blinding Lights  ...      1\n",
              "\n",
              "[87 rows x 15 columns]"
            ]
          },
          "metadata": {
            "tags": []
          },
          "execution_count": 145
        }
      ]
    },
    {
      "cell_type": "markdown",
      "metadata": {
        "id": "z2U3SYqgAIro"
      },
      "source": [
        "Relación entre bailabilidad y energía"
      ]
    },
    {
      "cell_type": "code",
      "metadata": {
        "id": "AiQxezPe_8j2"
      },
      "source": [
        "df_grouped"
      ],
      "execution_count": null,
      "outputs": []
    },
    {
      "cell_type": "code",
      "metadata": {
        "colab": {
          "base_uri": "https://localhost:8080/",
          "height": 647
        },
        "id": "Ysbv5CMeAcnJ",
        "outputId": "4392885d-41f2-4d15-cf34-ecbe6b8dc6bb"
      },
      "source": [
        "sns.set_style('white')\n",
        "\n",
        "fig = plt.figure(figsize=(8, 8))\n",
        "ax = fig.add_subplot()\n",
        "\n",
        "sns.scatterplot(df_grouped['danceability'], df_grouped['energy'], ax=ax);\n",
        "\n",
        "fig.suptitle('Relación entre bailabilidad y energía', fontsize=15)\n",
        "\n",
        "ax.spines[\"top\"].set_color(\"None\") \n",
        "ax.spines[\"right\"].set_color(\"None\")"
      ],
      "execution_count": null,
      "outputs": [
        {
          "output_type": "stream",
          "text": [
            "/usr/local/lib/python3.7/dist-packages/seaborn/_decorators.py:43: FutureWarning:\n",
            "\n",
            "Pass the following variables as keyword args: x, y. From version 0.12, the only valid positional argument will be `data`, and passing other arguments without an explicit keyword will result in an error or misinterpretation.\n",
            "\n"
          ],
          "name": "stderr"
        },
        {
          "output_type": "display_data",
          "data": {
            "image/png": "[encoded data removed]",
            "text/plain": [
              "<Figure size 576x576 with 1 Axes>"
            ]
          },
          "metadata": {
            "tags": []
          }
        }
      ]
    },
    {
      "cell_type": "code",
      "metadata": {
        "colab": {
          "base_uri": "https://localhost:8080/",
          "height": 532
        },
        "id": "iGCRxEizBIFS",
        "outputId": "e0f0c487-7084-45d1-9cf0-6e3c89d8a0cc"
      },
      "source": [
        "sns.jointplot('danceability', 'energy', data=df_grouped, kind='hex', ratio=5, joint_kws={'gridsize': 50});"
      ],
      "execution_count": null,
      "outputs": [
        {
          "output_type": "stream",
          "text": [
            "/usr/local/lib/python3.7/dist-packages/seaborn/_decorators.py:43: FutureWarning:\n",
            "\n",
            "Pass the following variables as keyword args: x, y. From version 0.12, the only valid positional argument will be `data`, and passing other arguments without an explicit keyword will result in an error or misinterpretation.\n",
            "\n"
          ],
          "name": "stderr"
        },
        {
          "output_type": "display_data",
          "data": {
            "image/png": "[encoded data removed]",
            "text/plain": [
              "<Figure size 432x432 with 3 Axes>"
            ]
          },
          "metadata": {
            "tags": []
          }
        }
      ]
    },
    {
      "cell_type": "code",
      "metadata": {
        "colab": {
          "base_uri": "https://localhost:8080/",
          "height": 532
        },
        "id": "f2TqTluUCLg-",
        "outputId": "c52e9c80-d913-4d32-ed11-1c24193e8155"
      },
      "source": [
        "sns.jointplot('instrumentalness', 'speechiness', data=df_grouped, kind='hex', ratio=5, joint_kws={'gridsize': 50});"
      ],
      "execution_count": null,
      "outputs": [
        {
          "output_type": "stream",
          "text": [
            "/usr/local/lib/python3.7/dist-packages/seaborn/_decorators.py:43: FutureWarning:\n",
            "\n",
            "Pass the following variables as keyword args: x, y. From version 0.12, the only valid positional argument will be `data`, and passing other arguments without an explicit keyword will result in an error or misinterpretation.\n",
            "\n"
          ],
          "name": "stderr"
        },
        {
          "output_type": "display_data",
          "data": {
            "image/png": "[encoded data removed]",
            "text/plain": [
              "<Figure size 432x432 with 3 Axes>"
            ]
          },
          "metadata": {
            "tags": []
          }
        }
      ]
    },
    {
      "cell_type": "code",
      "metadata": {
        "colab": {
          "base_uri": "https://localhost:8080/",
          "height": 532
        },
        "id": "Q-AXsJN0Ch7r",
        "outputId": "a7516d05-65f7-4062-c3f7-c632cd7a6ab2"
      },
      "source": [
        "sns.jointplot('track.popularity', 'energy', data=df_grouped, kind='hex', ratio=5, joint_kws={'gridsize': 50});"
      ],
      "execution_count": null,
      "outputs": [
        {
          "output_type": "stream",
          "text": [
            "/usr/local/lib/python3.7/dist-packages/seaborn/_decorators.py:43: FutureWarning:\n",
            "\n",
            "Pass the following variables as keyword args: x, y. From version 0.12, the only valid positional argument will be `data`, and passing other arguments without an explicit keyword will result in an error or misinterpretation.\n",
            "\n"
          ],
          "name": "stderr"
        },
        {
          "output_type": "display_data",
          "data": {
            "image/png": "[encoded data removed]",
            "text/plain": [
              "<Figure size 432x432 with 3 Axes>"
            ]
          },
          "metadata": {
            "tags": []
          }
        }
      ]
    },
    {
      "cell_type": "code",
      "metadata": {
        "colab": {
          "base_uri": "https://localhost:8080/",
          "height": 532
        },
        "id": "WplyLM4LC19j",
        "outputId": "b23447b3-43bc-4c33-b1a5-f08ea51be4cd"
      },
      "source": [
        "sns.jointplot('valence', 'tempo', data=df_grouped, kind='hex', ratio=5, joint_kws={'gridsize': 50});"
      ],
      "execution_count": null,
      "outputs": [
        {
          "output_type": "stream",
          "text": [
            "/usr/local/lib/python3.7/dist-packages/seaborn/_decorators.py:43: FutureWarning:\n",
            "\n",
            "Pass the following variables as keyword args: x, y. From version 0.12, the only valid positional argument will be `data`, and passing other arguments without an explicit keyword will result in an error or misinterpretation.\n",
            "\n"
          ],
          "name": "stderr"
        },
        {
          "output_type": "display_data",
          "data": {
            "image/png": "[encoded data removed]",
            "text/plain": [
              "<Figure size 432x432 with 3 Axes>"
            ]
          },
          "metadata": {
            "tags": []
          }
        }
      ]
    }
  ]
}