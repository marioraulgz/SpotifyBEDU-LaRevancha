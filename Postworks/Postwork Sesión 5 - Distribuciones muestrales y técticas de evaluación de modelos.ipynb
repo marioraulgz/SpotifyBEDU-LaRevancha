{
 "cells": [
  {
   "cell_type": "code",
   "execution_count": 1,
   "id": "sublime-prairie",
   "metadata": {},
   "outputs": [],
   "source": [
    "import pandas as pd\n",
    "import matplotlib.pyplot as plt\n",
    "import seaborn as sns\n",
    "\n",
    "df = pd.read_csv('Datasets/data_delimited.csv', index_col=0)"
   ]
  },
  {
   "cell_type": "markdown",
   "id": "cellular-florida",
   "metadata": {},
   "source": [
    "## Bootstrap"
   ]
  },
  {
   "cell_type": "markdown",
   "id": "impossible-width",
   "metadata": {},
   "source": [
    "### Valencia"
   ]
  },
  {
   "cell_type": "code",
   "execution_count": 5,
   "id": "miniature-optimum",
   "metadata": {},
   "outputs": [],
   "source": [
    "variable = df['valence']\n",
    "\n",
    "means = []\n",
    "\n",
    "for i in range(100_000):\n",
    "    sample = variable.sample(n=50, replace=True)\n",
    "    means.append(sample.mean())\n",
    "    \n",
    "serie_means = pd.Series(means)"
   ]
  },
  {
   "cell_type": "code",
   "execution_count": 9,
   "id": "broke-boring",
   "metadata": {},
   "outputs": [
    {
     "name": "stdout",
     "output_type": "stream",
     "text": [
      "Intervalo de 95% confianza de la media: 0.5509523414634145 +/- 0.06182402499999998\n"
     ]
    },
    {
     "name": "stderr",
     "output_type": "stream",
     "text": [
      "/home/tomas_taf/miniconda3/envs/octavo/lib/python3.7/site-packages/seaborn/distributions.py:2557: FutureWarning: `distplot` is a deprecated function and will be removed in a future version. Please adapt your code to use either `displot` (a figure-level function with similar flexibility) or `histplot` (an axes-level function for histograms).\n",
      "  warnings.warn(msg, FutureWarning)\n"
     ]
    },
    {
     "data": {
      "text/plain": [
       "Text(0.5, 1.0, 'Intevalo confianza de la media de la valencia')"
      ]
     },
     "execution_count": 9,
     "metadata": {},
     "output_type": "execute_result"
    },
    {
     "data": {
      "image/png": "[encoded data removed]",
      "text/plain": [
       "<Figure size 432x288 with 1 Axes>"
      ]
     },
     "metadata": {
      "needs_background": "light"
     },
     "output_type": "display_data"
    }
   ],
   "source": [
    "limite_inferior = serie_means.quantile(0.025)\n",
    "limite_superior = serie_means.quantile(0.975)\n",
    "\n",
    "mean_of_intervals = ((variable.mean() - limite_inferior) + (limite_superior - variable.mean())) / 2\n",
    "\n",
    "print(f'Intervalo de 95% confianza de la media: {variable.mean()} +/- {mean_of_intervals}')\n",
    "\n",
    "ax=sns.distplot(serie_means, kde=False, norm_hist=False)\n",
    "plt.axvline(limite_inferior);\n",
    "plt.axvline(limite_superior);\n",
    "ax.set_title(\"Intevalo confianza de la media de la valencia\")"
   ]
  },
  {
   "cell_type": "markdown",
   "id": "photographic-pharmacology",
   "metadata": {},
   "source": [
    "### Duración"
   ]
  },
  {
   "cell_type": "code",
   "execution_count": 10,
   "id": "irish-spencer",
   "metadata": {},
   "outputs": [],
   "source": [
    "variable = df['track.duration_ms']\n",
    "\n",
    "means = []\n",
    "\n",
    "for i in range(100_000):\n",
    "    sample = variable.sample(n=50, replace=True)\n",
    "    means.append(sample.mean())\n",
    "    \n",
    "serie_means = pd.Series(means)"
   ]
  },
  {
   "cell_type": "code",
   "execution_count": 11,
   "id": "everyday-sociology",
   "metadata": {},
   "outputs": [
    {
     "name": "stdout",
     "output_type": "stream",
     "text": [
      "Intervalo de 95% confianza de la media: 228355.85707317074 +/- 11078.283249999979\n"
     ]
    },
    {
     "data": {
      "text/plain": [
       "Text(0.5, 1.0, 'Intevalo confianza de la media de la duración')"
      ]
     },
     "execution_count": 11,
     "metadata": {},
     "output_type": "execute_result"
    },
    {
     "data": {
      "image/png": "[encoded data removed]",
      "text/plain": [
       "<Figure size 432x288 with 1 Axes>"
      ]
     },
     "metadata": {
      "needs_background": "light"
     },
     "output_type": "display_data"
    }
   ],
   "source": [
    "limite_inferior = serie_means.quantile(0.025)\n",
    "limite_superior = serie_means.quantile(0.975)\n",
    "\n",
    "mean_of_intervals = ((variable.mean() - limite_inferior) + (limite_superior - variable.mean())) / 2\n",
    "\n",
    "print(f'Intervalo de 95% confianza de la media: {variable.mean()} +/- {mean_of_intervals}')\n",
    "\n",
    "ax=sns.distplot(serie_means, kde=False, norm_hist=False)\n",
    "plt.axvline(limite_inferior);\n",
    "plt.axvline(limite_superior);\n",
    "ax.set_title(\"Intevalo confianza de la media de la duración\")"
   ]
  },
  {
   "cell_type": "markdown",
   "id": "returning-anxiety",
   "metadata": {},
   "source": [
    "### Popularidad"
   ]
  },
  {
   "cell_type": "code",
   "execution_count": 12,
   "id": "smaller-therapist",
   "metadata": {},
   "outputs": [],
   "source": [
    "variable = df['track.popularity']\n",
    "\n",
    "means = []\n",
    "\n",
    "for i in range(100_000):\n",
    "    sample = variable.sample(n=50, replace=True)\n",
    "    means.append(sample.mean())\n",
    "    \n",
    "serie_means = pd.Series(means)"
   ]
  },
  {
   "cell_type": "code",
   "execution_count": 13,
   "id": "conscious-explanation",
   "metadata": {},
   "outputs": [
    {
     "name": "stdout",
     "output_type": "stream",
     "text": [
      "Intervalo de 95% confianza de la media: 63.44243902439025 +/- 5.270000000000003\n"
     ]
    },
    {
     "data": {
      "text/plain": [
       "Text(0.5, 1.0, 'Intevalo confianza de la media de la popularidad')"
      ]
     },
     "execution_count": 13,
     "metadata": {},
     "output_type": "execute_result"
    },
    {
     "data": {
      "image/png": "[encoded data removed]",
      "text/plain": [
       "<Figure size 432x288 with 1 Axes>"
      ]
     },
     "metadata": {
      "needs_background": "light"
     },
     "output_type": "display_data"
    }
   ],
   "source": [
    "limite_inferior = serie_means.quantile(0.025)\n",
    "limite_superior = serie_means.quantile(0.975)\n",
    "\n",
    "mean_of_intervals = ((variable.mean() - limite_inferior) + (limite_superior - variable.mean())) / 2\n",
    "\n",
    "print(f'Intervalo de 95% confianza de la media: {variable.mean()} +/- {mean_of_intervals}')\n",
    "\n",
    "ax=sns.distplot(serie_means, kde=False, norm_hist=False)\n",
    "plt.axvline(limite_inferior);\n",
    "plt.axvline(limite_superior);\n",
    "ax.set_title(\"Intevalo confianza de la media de la popularidad\")"
   ]
  },
  {
   "cell_type": "markdown",
   "id": "fabulous-effect",
   "metadata": {},
   "source": [
    "### Bailabilidad"
   ]
  },
  {
   "cell_type": "code",
   "execution_count": null,
   "id": "valuable-nashville",
   "metadata": {},
   "outputs": [],
   "source": [
    "variable = df['danceability']\n",
    "\n",
    "means = []\n",
    "\n",
    "for i in range(100_000):\n",
    "    sample = variable.sample(n=50, replace=True)\n",
    "    means.append(sample.mean())\n",
    "    \n",
    "serie_means = pd.Series(means)"
   ]
  },
  {
   "cell_type": "code",
   "execution_count": 14,
   "id": "outstanding-numbers",
   "metadata": {},
   "outputs": [
    {
     "name": "stdout",
     "output_type": "stream",
     "text": [
      "Intervalo de 95% confianza de la media: 63.44243902439025 +/- 5.270000000000003\n"
     ]
    },
    {
     "data": {
      "text/plain": [
       "Text(0.5, 1.0, 'Intevalo confianza de la media de la bailabilidad')"
      ]
     },
     "execution_count": 14,
     "metadata": {},
     "output_type": "execute_result"
    },
    {
     "data": {
      "image/png": "[encoded data removed]",
      "text/plain": [
       "<Figure size 432x288 with 1 Axes>"
      ]
     },
     "metadata": {
      "needs_background": "light"
     },
     "output_type": "display_data"
    }
   ],
   "source": [
    "limite_inferior = serie_means.quantile(0.025)\n",
    "limite_superior = serie_means.quantile(0.975)\n",
    "\n",
    "mean_of_intervals = ((variable.mean() - limite_inferior) + (limite_superior - variable.mean())) / 2\n",
    "\n",
    "print(f'Intervalo de 95% confianza de la media: {variable.mean()} +/- {mean_of_intervals}')\n",
    "\n",
    "ax=sns.distplot(serie_means, kde=False, norm_hist=False)\n",
    "plt.axvline(limite_inferior);\n",
    "plt.axvline(limite_superior);\n",
    "ax.set_title(\"Intevalo confianza de la media de la bailabilidad\")"
   ]
  },
  {
   "cell_type": "markdown",
   "id": "laden-magazine",
   "metadata": {},
   "source": [
    "### Energy"
   ]
  },
  {
   "cell_type": "code",
   "execution_count": 16,
   "id": "published-answer",
   "metadata": {},
   "outputs": [],
   "source": [
    "variable = df['energy']\n",
    "\n",
    "means = []\n",
    "\n",
    "for i in range(100_000):\n",
    "    sample = variable.sample(n=50, replace=True)\n",
    "    means.append(sample.mean())\n",
    "    \n",
    "serie_means = pd.Series(means)"
   ]
  },
  {
   "cell_type": "code",
   "execution_count": 17,
   "id": "latin-operation",
   "metadata": {},
   "outputs": [
    {
     "name": "stdout",
     "output_type": "stream",
     "text": [
      "Intervalo de 95% confianza de la media: 0.7064407317073171 +/- 0.04316000000000003\n"
     ]
    },
    {
     "data": {
      "text/plain": [
       "Text(0.5, 1.0, 'Intevalo confianza de la media de la energía')"
      ]
     },
     "execution_count": 17,
     "metadata": {},
     "output_type": "execute_result"
    },
    {
     "data": {
      "image/png": "[encoded data removed]",
      "text/plain": [
       "<Figure size 432x288 with 1 Axes>"
      ]
     },
     "metadata": {
      "needs_background": "light"
     },
     "output_type": "display_data"
    }
   ],
   "source": [
    "limite_inferior = serie_means.quantile(0.025)\n",
    "limite_superior = serie_means.quantile(0.975)\n",
    "\n",
    "mean_of_intervals = ((variable.mean() - limite_inferior) + (limite_superior - variable.mean())) / 2\n",
    "\n",
    "print(f'Intervalo de 95% confianza de la media: {variable.mean()} +/- {mean_of_intervals}')\n",
    "\n",
    "ax=sns.distplot(serie_means, kde=False, norm_hist=False)\n",
    "plt.axvline(limite_inferior);\n",
    "plt.axvline(limite_superior);\n",
    "ax.set_title(\"Intevalo confianza de la media de la energía\")"
   ]
  },
  {
   "cell_type": "markdown",
   "id": "accepted-destiny",
   "metadata": {},
   "source": [
    "## Validación de modelos"
   ]
  },
  {
   "cell_type": "markdown",
   "id": "stunning-thousand",
   "metadata": {},
   "source": [
    "### Volumen y energía con respecto a la proporción acústica"
   ]
  },
  {
   "cell_type": "code",
   "execution_count": 27,
   "id": "welsh-syracuse",
   "metadata": {},
   "outputs": [],
   "source": [
    "from sklearn.model_selection import train_test_split\n",
    "from sklearn.model_selection import cross_validate\n",
    "from sklearn.linear_model import LinearRegression"
   ]
  },
  {
   "cell_type": "code",
   "execution_count": 28,
   "id": "narrow-father",
   "metadata": {},
   "outputs": [],
   "source": [
    "X = df[['loudness', 'energy']]\n",
    "y = df['acousticness']"
   ]
  },
  {
   "cell_type": "code",
   "execution_count": 29,
   "id": "broad-analyst",
   "metadata": {},
   "outputs": [],
   "source": [
    "X_training, X_test, y_training, y_test = train_test_split(X, y, test_size=0.3, shuffle=True)"
   ]
  },
  {
   "cell_type": "code",
   "execution_count": 30,
   "id": "multiple-stone",
   "metadata": {},
   "outputs": [
    {
     "data": {
      "text/plain": [
       "LinearRegression()"
      ]
     },
     "execution_count": 30,
     "metadata": {},
     "output_type": "execute_result"
    }
   ],
   "source": [
    "lr = LinearRegression()\n",
    "lr.fit(X_training, y_training)"
   ]
  },
  {
   "cell_type": "code",
   "execution_count": 31,
   "id": "mexican-sherman",
   "metadata": {},
   "outputs": [
    {
     "data": {
      "text/plain": [
       "0.2706747776868632"
      ]
     },
     "execution_count": 31,
     "metadata": {},
     "output_type": "execute_result"
    }
   ],
   "source": [
    "lr.score(X_test, y_test)"
   ]
  },
  {
   "cell_type": "code",
   "execution_count": 32,
   "id": "advisory-trouble",
   "metadata": {},
   "outputs": [],
   "source": [
    "scores = cross_validate(lr, X, y, scoring='r2')"
   ]
  },
  {
   "cell_type": "code",
   "execution_count": 33,
   "id": "acute-nomination",
   "metadata": {},
   "outputs": [
    {
     "name": "stdout",
     "output_type": "stream",
     "text": [
      "Score del modelo: 0.230 +/- 0.077\n"
     ]
    }
   ],
   "source": [
    "print(f'Score del modelo: {scores[\"test_score\"].mean():.3f} +/- {scores[\"test_score\"].std():.3f}')"
   ]
  },
  {
   "cell_type": "markdown",
   "id": "early-poetry",
   "metadata": {},
   "source": [
    "### Volumen con respecto a la energía"
   ]
  },
  {
   "cell_type": "code",
   "execution_count": 35,
   "id": "ongoing-boost",
   "metadata": {},
   "outputs": [],
   "source": [
    "X = df[['energy']]\n",
    "y = df['loudness']"
   ]
  },
  {
   "cell_type": "code",
   "execution_count": 36,
   "id": "nutritional-necessity",
   "metadata": {},
   "outputs": [],
   "source": [
    "X_training, X_test, y_training, y_test = train_test_split(X, y, test_size=0.3, shuffle=True)"
   ]
  },
  {
   "cell_type": "code",
   "execution_count": 37,
   "id": "excellent-address",
   "metadata": {},
   "outputs": [
    {
     "data": {
      "text/plain": [
       "LinearRegression()"
      ]
     },
     "execution_count": 37,
     "metadata": {},
     "output_type": "execute_result"
    }
   ],
   "source": [
    "lr = LinearRegression()\n",
    "lr.fit(X_training, y_training)"
   ]
  },
  {
   "cell_type": "code",
   "execution_count": 38,
   "id": "located-tender",
   "metadata": {},
   "outputs": [
    {
     "data": {
      "text/plain": [
       "0.44373590004445485"
      ]
     },
     "execution_count": 38,
     "metadata": {},
     "output_type": "execute_result"
    }
   ],
   "source": [
    "lr.score(X_test, y_test)"
   ]
  },
  {
   "cell_type": "code",
   "execution_count": 39,
   "id": "harmful-liability",
   "metadata": {},
   "outputs": [],
   "source": [
    "scores = cross_validate(lr, X, y, scoring='r2')"
   ]
  },
  {
   "cell_type": "code",
   "execution_count": 40,
   "id": "female-cancellation",
   "metadata": {},
   "outputs": [
    {
     "name": "stdout",
     "output_type": "stream",
     "text": [
      "Score del modelo: 0.397 +/- 0.135\n"
     ]
    }
   ],
   "source": [
    "print(f'Score del modelo: {scores[\"test_score\"].mean():.3f} +/- {scores[\"test_score\"].std():.3f}')"
   ]
  },
  {
   "cell_type": "code",
   "execution_count": null,
   "id": "bulgarian-preliminary",
   "metadata": {},
   "outputs": [],
   "source": []
  }
 ],
 "metadata": {
  "kernelspec": {
   "display_name": "Python 3",
   "language": "python",
   "name": "python3"
  },
  "language_info": {
   "codemirror_mode": {
    "name": "ipython",
    "version": 3
   },
   "file_extension": ".py",
   "mimetype": "text/x-python",
   "name": "python",
   "nbconvert_exporter": "python",
   "pygments_lexer": "ipython3",
   "version": "3.7.1"
  }
 },
 "nbformat": 4,
 "nbformat_minor": 5
}
